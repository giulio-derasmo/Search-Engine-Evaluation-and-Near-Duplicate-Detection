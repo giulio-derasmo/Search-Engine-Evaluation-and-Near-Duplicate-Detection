{
  "cells": [
    {
      "cell_type": "markdown",
      "metadata": {
        "id": "vtqmMBBFM5VB"
      },
      "source": [
        "# DMT 2022 - Homework 1"
      ]
    },
    {
      "cell_type": "markdown",
      "metadata": {
        "id": "g3zOpW7YyMlr"
      },
      "source": [
        "### **Group composition:**\n",
        "\n",
        "\n",
        "D'Erasmo, Giulio, 1859130\n",
        "\n",
        "Andrea, Potì, 2008416"
      ]
    },
    {
      "cell_type": "markdown",
      "metadata": {
        "id": "MUsht5bRM9iT"
      },
      "source": [
        "### The homework consists of two parts:\n",
        "\n",
        "  1. Search-Engine Evaluation\n",
        "\n",
        "  and\n",
        "\n",
        "  2. Near-Duplicate-Detection\n"
      ]
    },
    {
      "cell_type": "markdown",
      "metadata": {
        "id": "_nEIHkt0bcwP"
      },
      "source": [
        "#Homework"
      ]
    },
    {
      "cell_type": "markdown",
      "metadata": {
        "id": "M4YGWzJEg1rq"
      },
      "source": [
        "##Part 1: Search-Engine Evaluation"
      ]
    },
    {
      "cell_type": "markdown",
      "metadata": {
        "id": "6qDKWcFRVB78"
      },
      "source": [
        "In this part of the homework, you have to index collections of documents to build search-engines using the PyTerrier library."
      ]
    },
    {
      "cell_type": "markdown",
      "metadata": {
        "id": "Nsh93bnylqAX"
      },
      "source": [
        "### Part 1.0\n",
        "Import **ALL** the Python packages that you need for Part 1."
      ]
    },
    {
      "cell_type": "code",
      "execution_count": null,
      "metadata": {
        "colab": {
          "base_uri": "https://localhost:8080/"
        },
        "id": "puYHRVRFlwQk",
        "outputId": "4dd7d1e6-e585-4791-8a0d-7bb86186f62a"
      },
      "outputs": [
        {
          "output_type": "stream",
          "name": "stdout",
          "text": [
            "Requirement already satisfied: nptyping==1.4.4 in /usr/local/lib/python3.7/dist-packages (1.4.4)\n",
            "Requirement already satisfied: typish>=1.7.0 in /usr/local/lib/python3.7/dist-packages (from nptyping==1.4.4) (1.9.3)\n",
            "Requirement already satisfied: numpy in /usr/local/lib/python3.7/dist-packages (from nptyping==1.4.4) (1.21.6)\n",
            "Requirement already satisfied: python-terrier in /usr/local/lib/python3.7/dist-packages (0.8.1)\n",
            "Requirement already satisfied: ir-measures>=0.2.0 in /usr/local/lib/python3.7/dist-packages (from python-terrier) (0.3.0)\n",
            "Requirement already satisfied: joblib in /usr/local/lib/python3.7/dist-packages (from python-terrier) (1.1.0)\n",
            "Requirement already satisfied: tqdm in /usr/local/lib/python3.7/dist-packages (from python-terrier) (4.64.0)\n",
            "Requirement already satisfied: pyjnius~=1.3.0 in /usr/local/lib/python3.7/dist-packages (from python-terrier) (1.3.0)\n",
            "Requirement already satisfied: numpy in /usr/local/lib/python3.7/dist-packages (from python-terrier) (1.21.6)\n",
            "Requirement already satisfied: requests in /usr/local/lib/python3.7/dist-packages (from python-terrier) (2.23.0)\n",
            "Requirement already satisfied: matchpy in /usr/local/lib/python3.7/dist-packages (from python-terrier) (0.5.5)\n",
            "Requirement already satisfied: pandas in /usr/local/lib/python3.7/dist-packages (from python-terrier) (1.3.5)\n",
            "Requirement already satisfied: ir-datasets>=0.3.2 in /usr/local/lib/python3.7/dist-packages (from python-terrier) (0.5.1)\n",
            "Requirement already satisfied: chest in /usr/local/lib/python3.7/dist-packages (from python-terrier) (0.2.3)\n",
            "Requirement already satisfied: sklearn in /usr/local/lib/python3.7/dist-packages (from python-terrier) (0.0)\n",
            "Requirement already satisfied: scipy in /usr/local/lib/python3.7/dist-packages (from python-terrier) (1.4.1)\n",
            "Requirement already satisfied: deprecation in /usr/local/lib/python3.7/dist-packages (from python-terrier) (2.1.0)\n",
            "Requirement already satisfied: statsmodels in /usr/local/lib/python3.7/dist-packages (from python-terrier) (0.10.2)\n",
            "Requirement already satisfied: jinja2 in /usr/local/lib/python3.7/dist-packages (from python-terrier) (2.11.3)\n",
            "Requirement already satisfied: dill in /usr/local/lib/python3.7/dist-packages (from python-terrier) (0.3.4)\n",
            "Requirement already satisfied: more-itertools in /usr/local/lib/python3.7/dist-packages (from python-terrier) (8.12.0)\n",
            "Requirement already satisfied: nptyping==1.4.4 in /usr/local/lib/python3.7/dist-packages (from python-terrier) (1.4.4)\n",
            "Requirement already satisfied: wget in /usr/local/lib/python3.7/dist-packages (from python-terrier) (3.2)\n",
            "Requirement already satisfied: typish>=1.7.0 in /usr/local/lib/python3.7/dist-packages (from nptyping==1.4.4->python-terrier) (1.9.3)\n",
            "Requirement already satisfied: pyautocorpus>=0.1.1 in /usr/local/lib/python3.7/dist-packages (from ir-datasets>=0.3.2->python-terrier) (0.1.8)\n",
            "Requirement already satisfied: trec-car-tools>=2.5.4 in /usr/local/lib/python3.7/dist-packages (from ir-datasets>=0.3.2->python-terrier) (2.6)\n",
            "Requirement already satisfied: ijson>=3.1.3 in /usr/local/lib/python3.7/dist-packages (from ir-datasets>=0.3.2->python-terrier) (3.1.4)\n",
            "Requirement already satisfied: zlib-state>=0.1.3 in /usr/local/lib/python3.7/dist-packages (from ir-datasets>=0.3.2->python-terrier) (0.1.5)\n",
            "Requirement already satisfied: lz4>=3.1.1 in /usr/local/lib/python3.7/dist-packages (from ir-datasets>=0.3.2->python-terrier) (4.0.0)\n",
            "Requirement already satisfied: unlzw3>=0.2.1 in /usr/local/lib/python3.7/dist-packages (from ir-datasets>=0.3.2->python-terrier) (0.2.1)\n",
            "Requirement already satisfied: beautifulsoup4>=4.4.1 in /usr/local/lib/python3.7/dist-packages (from ir-datasets>=0.3.2->python-terrier) (4.6.3)\n",
            "Requirement already satisfied: pyyaml>=5.3.1 in /usr/local/lib/python3.7/dist-packages (from ir-datasets>=0.3.2->python-terrier) (6.0)\n",
            "Requirement already satisfied: warc3-wet-clueweb09>=0.2.5 in /usr/local/lib/python3.7/dist-packages (from ir-datasets>=0.3.2->python-terrier) (0.2.5)\n",
            "Requirement already satisfied: warc3-wet>=0.2.3 in /usr/local/lib/python3.7/dist-packages (from ir-datasets>=0.3.2->python-terrier) (0.2.3)\n",
            "Requirement already satisfied: lxml>=4.5.2 in /usr/local/lib/python3.7/dist-packages (from ir-datasets>=0.3.2->python-terrier) (4.8.0)\n",
            "Requirement already satisfied: pytrec-eval-terrier==0.5.2 in /usr/local/lib/python3.7/dist-packages (from ir-measures>=0.2.0->python-terrier) (0.5.2)\n",
            "Requirement already satisfied: cwl-eval>=1.0.10 in /usr/local/lib/python3.7/dist-packages (from ir-measures>=0.2.0->python-terrier) (1.0.10)\n",
            "Requirement already satisfied: pyndeval>=0.0.2 in /usr/local/lib/python3.7/dist-packages (from ir-measures>=0.2.0->python-terrier) (0.0.2)\n",
            "Requirement already satisfied: cython in /usr/local/lib/python3.7/dist-packages (from pyjnius~=1.3.0->python-terrier) (0.29.28)\n",
            "Requirement already satisfied: six>=1.7.0 in /usr/local/lib/python3.7/dist-packages (from pyjnius~=1.3.0->python-terrier) (1.15.0)\n",
            "Requirement already satisfied: idna<3,>=2.5 in /usr/local/lib/python3.7/dist-packages (from requests->python-terrier) (2.10)\n",
            "Requirement already satisfied: chardet<4,>=3.0.2 in /usr/local/lib/python3.7/dist-packages (from requests->python-terrier) (3.0.4)\n",
            "Requirement already satisfied: certifi>=2017.4.17 in /usr/local/lib/python3.7/dist-packages (from requests->python-terrier) (2021.10.8)\n",
            "Requirement already satisfied: urllib3!=1.25.0,!=1.25.1,<1.26,>=1.21.1 in /usr/local/lib/python3.7/dist-packages (from requests->python-terrier) (1.24.3)\n",
            "Requirement already satisfied: cbor>=1.0.0 in /usr/local/lib/python3.7/dist-packages (from trec-car-tools>=2.5.4->ir-datasets>=0.3.2->python-terrier) (1.0.0)\n",
            "Requirement already satisfied: heapdict in /usr/local/lib/python3.7/dist-packages (from chest->python-terrier) (1.0.1)\n",
            "Requirement already satisfied: packaging in /usr/local/lib/python3.7/dist-packages (from deprecation->python-terrier) (21.3)\n",
            "Requirement already satisfied: MarkupSafe>=0.23 in /usr/local/lib/python3.7/dist-packages (from jinja2->python-terrier) (2.0.1)\n",
            "Requirement already satisfied: multiset<3.0,>=2.0 in /usr/local/lib/python3.7/dist-packages (from matchpy->python-terrier) (2.1.1)\n",
            "Requirement already satisfied: pyparsing!=3.0.5,>=2.0.2 in /usr/local/lib/python3.7/dist-packages (from packaging->deprecation->python-terrier) (3.0.8)\n",
            "Requirement already satisfied: python-dateutil>=2.7.3 in /usr/local/lib/python3.7/dist-packages (from pandas->python-terrier) (2.8.2)\n",
            "Requirement already satisfied: pytz>=2017.3 in /usr/local/lib/python3.7/dist-packages (from pandas->python-terrier) (2022.1)\n",
            "Requirement already satisfied: scikit-learn in /usr/local/lib/python3.7/dist-packages (from sklearn->python-terrier) (1.0.2)\n",
            "Requirement already satisfied: threadpoolctl>=2.0.0 in /usr/local/lib/python3.7/dist-packages (from scikit-learn->sklearn->python-terrier) (3.1.0)\n",
            "Requirement already satisfied: patsy>=0.4.0 in /usr/local/lib/python3.7/dist-packages (from statsmodels->python-terrier) (0.5.2)\n"
          ]
        }
      ],
      "source": [
        "#YOUR CODE STARTS HERE#\n",
        "!pip install nptyping==1.4.4\n",
        "!pip install python-terrier\n",
        "import pyterrier as pt\n",
        "import pandas as pd\n",
        "import re\n",
        "import matplotlib.pyplot as plt\n",
        "\n",
        "#YOUR CODE ENDS HERE#\n",
        "#THIS IS LINE 10#"
      ]
    },
    {
      "cell_type": "markdown",
      "metadata": {
        "id": "rk-JaiE_hB8h"
      },
      "source": [
        "### Part 1.1"
      ]
    },
    {
      "cell_type": "markdown",
      "metadata": {
        "id": "CxJicWeIZgOn"
      },
      "source": [
        "You have to build a search engine for the `irds:nfcorpus/dev` dataset and **improve the search-engines performance** (the higher the better).\n",
        "####1.1.1\n",
        "Download the dataset from the PyTerrier dataset list."
      ]
    },
    {
      "cell_type": "code",
      "execution_count": null,
      "metadata": {
        "id": "mnp-pmlpZiq3"
      },
      "outputs": [],
      "source": [
        "#YOUR CODE STARTS HERE#\n",
        "if not pt.started():\n",
        "  pt.init()\n",
        "\n",
        "dataset_name = 'irds:nfcorpus/dev'\n",
        "dataset = pt.get_dataset(dataset_name) #download dataset\n",
        "\n",
        "\n",
        "#YOUR CODE ENDS HERE#\n",
        "#THIS IS LINE 10#"
      ]
    },
    {
      "cell_type": "markdown",
      "metadata": {
        "id": "MeJlxd5BZjRI"
      },
      "source": [
        "####1.1.2\n",
        "Choose several preprocessing configurations (at least 2, no more than 5). For each of them, construct an index on the `title` field. For the last of them, report the number of indexed documents and terms."
      ]
    },
    {
      "cell_type": "code",
      "execution_count": null,
      "metadata": {
        "colab": {
          "base_uri": "https://localhost:8080/",
          "height": 787,
          "referenced_widgets": [
            "617cdad06e8c461eaf888f114fc2212b",
            "4123676886ad4dffb1d92aa13232fcb4",
            "7f5949bff12745ad9a0d7bd76955497e",
            "206e7b46d41a43dfadb04a5cf8bbc443",
            "a8913ecd94604f71977464f49337dbdc",
            "1d019736574849879e8d58c0e4abd786",
            "893707f561404d6e894216146458f40b",
            "a55fb5de0ba047b0a088767bbf60c34f",
            "d028e5fa2d824a89a5838a6bcf1cd5ff",
            "7c23fc41641541dbb99d0eafd8fa9afc",
            "b9546189e74149f68ad4cb0c9e4a487f",
            "92e5a44e21d84d4988893c6ee423f720",
            "ad899147753846a3ad0f9f427ec642ff",
            "aa3faabef72a4c5e8f27849ba0a55585",
            "c31f58fbb2d647c5badae927848b142c",
            "8bf34f07a07842f9a8af557519ef8221",
            "8a399f9ae0dc4f16973ca360a3c795d8",
            "a60841be3bd44f359f195247bf900dd5",
            "cf1804fcc5a94d819c66479a34f2605a",
            "106df8035d9d4556980ae6b50b09a1ef",
            "650d324c8dee41cfbfd5e03465093a58",
            "bd38a740fa764d78bae30ac8cfc2b9e3",
            "4cd54c997f574d3da528880f439af73a",
            "f31c544fba184a099b3db47270050105",
            "0412ba27414e4d6b96032e6b44610b09",
            "3d0b5a9a502b4e74b5976b42ac867ba2",
            "fd462111e3a44507984b30b914f2e244",
            "0ee31f3cf0ec470a9bdea4825988a2de",
            "5304b5b534204e81bacb26959d03834b",
            "5a6d0ee83b1e4bf8989b57516c16395c",
            "f99fe36b658447a9b74b7c0beadf4eaf",
            "27582a9baba743e0b716ed599bbbec1f",
            "24cbd7ce4d5d4dce9c283d2f6a425c1e",
            "1c435124d2414bd9acf1d2bcf748b363",
            "f9eea90b4ce84754a8af41f2e1b7a642",
            "775f62ae8c9845908c3bcaf4b86fd96f",
            "f6dd83d7d6f74232bd5cc2791e9d0bad",
            "8626176edccc4686a29a7625a52c3b3e",
            "5bfee3f65f2640669821b966c2ae82d5",
            "a8d889b475c74198bdb09d6ccabe5f51",
            "930435c1ce1a4e969fbb81d42ea4a5b8",
            "e2747f214ba042ad9e4efa4443cfae51",
            "0728263062124daeb414c1f3ed5bf4ef",
            "17c01ab8a0c947d8a62b1a8207758cf2",
            "a90806147f8546e59e48e3c3becca318",
            "6a8e434c241144319dc3a3c3b996a768",
            "4f7b062a89ef4f13b77918203d063390",
            "13ddb9634945491897a7211501d5dce9",
            "32ebb009984c4f6eb75edc4e60e09611",
            "d259a9440d4f42a5a082f026147f4ffe",
            "4b0f1a8686044e2ea139cf346633e121",
            "7d8de5b0466b4a5894d853b379be376a",
            "87c9dde94a7f4ba48eea82615a3aca17",
            "5fee73710b14489799c0c2e57279d382",
            "ea68bff0fa4349f08db7e4ce4e59e0bb"
          ]
        },
        "id": "WTSwJXbkZqp5",
        "outputId": "42d24605-ef81-4461-bdb5-87cc81f665b5"
      },
      "outputs": [
        {
          "output_type": "display_data",
          "data": {
            "text/plain": [
              "nfcorpus/dev documents:   0%|          | 0/5371 [00:00<?, ?it/s]"
            ],
            "application/vnd.jupyter.widget-view+json": {
              "version_major": 2,
              "version_minor": 0,
              "model_id": "617cdad06e8c461eaf888f114fc2212b"
            }
          },
          "metadata": {}
        },
        {
          "output_type": "stream",
          "name": "stderr",
          "text": [
            "[INFO] If you have a local copy of https://www.cl.uni-heidelberg.de/statnlpgroup/nfcorpus/nfcorpus.tar.gz, you can symlink it here to avoid downloading it again: /root/.ir_datasets/downloads/49c061fbadc52ba4d35d0e42e2d742fd\n",
            "[INFO] [starting] https://www.cl.uni-heidelberg.de/statnlpgroup/nfcorpus/nfcorpus.tar.gz\n",
            "\n",
            "https://www.cl.uni-heidelberg.de/statnlpgroup/nfcorpus/nfcorpus.tar.gz: 0.0%| 0.00/31.0M [00:00<?, ?B/s]\u001b[A\n",
            "https://www.cl.uni-heidelberg.de/statnlpgroup/nfcorpus/nfcorpus.tar.gz: 0.1%| 41.0k/31.0M [00:00<02:19, 222kB/s]\u001b[A\n",
            "https://www.cl.uni-heidelberg.de/statnlpgroup/nfcorpus/nfcorpus.tar.gz: 0.3%| 90.1k/31.0M [00:00<01:38, 313kB/s]\u001b[A\n",
            "https://www.cl.uni-heidelberg.de/statnlpgroup/nfcorpus/nfcorpus.tar.gz: 0.7%| 221k/31.0M [00:00<00:54, 567kB/s] \u001b[A\n",
            "https://www.cl.uni-heidelberg.de/statnlpgroup/nfcorpus/nfcorpus.tar.gz: 1.5%| 451k/31.0M [00:00<00:33, 915kB/s]\u001b[A\n",
            "https://www.cl.uni-heidelberg.de/statnlpgroup/nfcorpus/nfcorpus.tar.gz: 2.5%| 762k/31.0M [00:00<00:23, 1.28MB/s]\u001b[A\n",
            "https://www.cl.uni-heidelberg.de/statnlpgroup/nfcorpus/nfcorpus.tar.gz: 4.9%| 1.53M/31.0M [00:00<00:13, 2.20MB/s]\u001b[A\n",
            "https://www.cl.uni-heidelberg.de/statnlpgroup/nfcorpus/nfcorpus.tar.gz: 9.6%| 2.97M/31.0M [00:00<00:07, 3.71MB/s]\u001b[A\n",
            "https://www.cl.uni-heidelberg.de/statnlpgroup/nfcorpus/nfcorpus.tar.gz: 18.7%| 5.81M/31.0M [00:00<00:03, 6.43MB/s]\u001b[A\n",
            "https://www.cl.uni-heidelberg.de/statnlpgroup/nfcorpus/nfcorpus.tar.gz: 27.8%| 8.64M/31.0M [00:01<00:02, 8.52MB/s]\u001b[A\n",
            "https://www.cl.uni-heidelberg.de/statnlpgroup/nfcorpus/nfcorpus.tar.gz: 37.6%| 11.7M/31.0M [00:01<00:01, 10.4MB/s]\u001b[A\n",
            "https://www.cl.uni-heidelberg.de/statnlpgroup/nfcorpus/nfcorpus.tar.gz: 47.3%| 14.7M/31.0M [00:01<00:01, 12.0MB/s]\u001b[A\n",
            "https://www.cl.uni-heidelberg.de/statnlpgroup/nfcorpus/nfcorpus.tar.gz: 57.0%| 17.7M/31.0M [00:01<00:01, 13.2MB/s]\u001b[A\n",
            "https://www.cl.uni-heidelberg.de/statnlpgroup/nfcorpus/nfcorpus.tar.gz: 66.7%| 20.7M/31.0M [00:01<00:00, 14.3MB/s]\u001b[A\n",
            "https://www.cl.uni-heidelberg.de/statnlpgroup/nfcorpus/nfcorpus.tar.gz: 76.4%| 23.7M/31.0M [00:01<00:00, 15.2MB/s]\u001b[A\n",
            "https://www.cl.uni-heidelberg.de/statnlpgroup/nfcorpus/nfcorpus.tar.gz: 86.1%| 26.7M/31.0M [00:01<00:00, 15.3MB/s]\u001b[A\n",
            "https://www.cl.uni-heidelberg.de/statnlpgroup/nfcorpus/nfcorpus.tar.gz: 95.8%| 29.7M/31.0M [00:01<00:00, 16.2MB/s]\u001b[A\n",
            "\u001b[A[INFO] [finished] https://www.cl.uni-heidelberg.de/statnlpgroup/nfcorpus/nfcorpus.tar.gz: [00:01] [31.0MB] [16.4MB/s]\n",
            "\n",
            "https://www.cl.uni-heidelberg.de/statnlpgroup/nfcorpus/nfcorpus.tar.gz: [00:01] [31.0MB] [16.3MB/s]\u001b[A\n",
            "                                                                                                   \u001b[A"
          ]
        },
        {
          "output_type": "display_data",
          "data": {
            "text/plain": [
              "nfcorpus/dev documents:   0%|          | 0/5371 [00:00<?, ?it/s]"
            ],
            "application/vnd.jupyter.widget-view+json": {
              "version_major": 2,
              "version_minor": 0,
              "model_id": "92e5a44e21d84d4988893c6ee423f720"
            }
          },
          "metadata": {}
        },
        {
          "output_type": "display_data",
          "data": {
            "text/plain": [
              "nfcorpus/dev documents:   0%|          | 0/5371 [00:00<?, ?it/s]"
            ],
            "application/vnd.jupyter.widget-view+json": {
              "version_major": 2,
              "version_minor": 0,
              "model_id": "4cd54c997f574d3da528880f439af73a"
            }
          },
          "metadata": {}
        },
        {
          "output_type": "display_data",
          "data": {
            "text/plain": [
              "nfcorpus/dev documents:   0%|          | 0/5371 [00:00<?, ?it/s]"
            ],
            "application/vnd.jupyter.widget-view+json": {
              "version_major": 2,
              "version_minor": 0,
              "model_id": "1c435124d2414bd9acf1d2bcf748b363"
            }
          },
          "metadata": {}
        },
        {
          "output_type": "display_data",
          "data": {
            "text/plain": [
              "nfcorpus/dev documents:   0%|          | 0/5371 [00:00<?, ?it/s]"
            ],
            "application/vnd.jupyter.widget-view+json": {
              "version_major": 2,
              "version_minor": 0,
              "model_id": "a90806147f8546e59e48e3c3becca318"
            }
          },
          "metadata": {}
        },
        {
          "output_type": "stream",
          "name": "stdout",
          "text": [
            "\n",
            "\n",
            " Number of documents: 5371\n",
            "Number of terms: 5072\n",
            "Number of postings: 57283\n",
            "Number of fields: 1\n",
            "Number of tokens: 58358\n",
            "Field names: [title]\n",
            "Positions:   true\n",
            "\n"
          ]
        }
      ],
      "source": [
        "#YOUR CODE STARTS HERE#\n",
        "folder_pos = './indexFirstDataset' #folder position\n",
        "possible_preprocessing = [\"NoOp\", #no preprocessing\n",
        "                          \"RemoveDiacritics\", #remove accents\n",
        "                          \"Stopwords\", #remove stopwords\n",
        "                          \"EnglishSnowballStemmer\", #stemming\n",
        "                          \"Stopwords, EnglishSnowballStemmer\"] #Both previous ones\n",
        "def create_index(preprocessing_configuration, folder):\n",
        "  indexer = pt.IterDictIndexer(folder,  meta_reverse = [], blocks = True)\n",
        "  indexer.setProperty(\"termpipelines\", preprocessing_configuration)\n",
        "  indexref = indexer.index(dataset.get_corpus_iter(), fields=[\"title\"])\n",
        "  return indexref\n",
        "\n",
        "indexFirstDataset_list = []\n",
        "for i in range(0,len(possible_preprocessing)):\n",
        "  indexFirstDataset_list.append(create_index(preprocessing_configuration = possible_preprocessing[i], folder = folder_pos+str(i)))\n",
        "index_factory = pt.IndexFactory.of(indexFirstDataset_list[-1])\n",
        "print(\"\\n\\n\",index_factory.getCollectionStatistics().toString())\n",
        "#YOUR CODE ENDS HERE#\n",
        "#THIS IS LINE 20#"
      ]
    },
    {
      "cell_type": "markdown",
      "metadata": {
        "id": "kt6pXlGxZq1g"
      },
      "source": [
        "####1.1.3\n",
        "Choose several weighting models (at least 3, no more than 5). For each of them, for each of the indices created in last step, build a retrieval model."
      ]
    },
    {
      "cell_type": "code",
      "execution_count": null,
      "metadata": {
        "id": "3c8vPdgwZr77"
      },
      "outputs": [],
      "source": [
        "#YOUR CODE STARTS HERE#\n",
        "def create_retrieval_model(indexref, scoring_function):\n",
        "  return pt.BatchRetrieve(index, wmodel = scoring_function)\n",
        "# list of possible weighting models\n",
        "possible_wmodels = [\"CoordinateMatch\",\n",
        "                    \"Tf\",\n",
        "                    \"LemurTF_IDF\",\n",
        "                    \"TF_IDF\",\n",
        "                    \"BM25\"]\n",
        "retr_models = []\n",
        "# for each index, for each weighting model, compute the model\n",
        "for index in indexFirstDataset_list:\n",
        "  fixed_index_models = []\n",
        "  for wmodel in possible_wmodels:\n",
        "    fixed_index_models.append(create_retrieval_model(index, scoring_function = wmodel))\n",
        "  retr_models.append(fixed_index_models)\n",
        "  \n",
        "\n",
        "#YOUR CODE ENDS HERE#\n",
        "#THIS IS LINE 20#"
      ]
    },
    {
      "cell_type": "markdown",
      "metadata": {
        "id": "9rqpaEKvZupX"
      },
      "source": [
        "####1.1.4\n",
        "Choose several evaluation metrics (at least 2, no more than 5) and put them in a list. Add the following metrics to the list: Precision at 5, Normalized Discounted Cumulative Gain at 10, Mean Reciprocal Rank. Obviously, the metrics you choose cannot be completely identical to these 3 we specified."
      ]
    },
    {
      "cell_type": "code",
      "execution_count": null,
      "metadata": {
        "id": "A05Rgv64Zvde"
      },
      "outputs": [],
      "source": [
        "#YOUR CODE STARTS HERE#\n",
        "eval_metrics=[\"map\",    # mean average precision\n",
        "              \"Rprec\",  # R-precision (when P = R)\n",
        "              \"set_F\",  # F-Measure (beta = 1, alpha = 1/2)\n",
        "              \"set_P\",  # num_relevant_retrieved / num_retrieved\n",
        "              \"set_recall\", # num_relevant_retrieved / num_relevant\n",
        "              \"P_5\",\n",
        "              \"ndcg_cut_10\",\n",
        "              \"recip_rank\"]\n",
        "\n",
        "\n",
        "\n",
        "\n",
        "\n",
        "\n",
        "\n",
        "\n",
        "\n",
        "#YOUR CODE ENDS HERE#\n",
        "#THIS IS LINE 20#"
      ]
    },
    {
      "cell_type": "markdown",
      "metadata": {
        "id": "72kpxJnjZv40"
      },
      "source": [
        "####1.1.5\n",
        "For each index built in step 1.1.2, run an experiment to obtain the values associated to each evaluations metric specified in 1.1.4 for each of the weighting models chosen in 1.1.3."
      ]
    },
    {
      "cell_type": "code",
      "execution_count": null,
      "metadata": {
        "colab": {
          "base_uri": "https://localhost:8080/"
        },
        "id": "VUTQOaEYZ0LY",
        "outputId": "fa69051b-62d5-4104-868f-9730c92befd9"
      },
      "outputs": [
        {
          "output_type": "stream",
          "name": "stderr",
          "text": [
            "/usr/local/lib/python3.7/dist-packages/pyterrier/datasets.py:435: FutureWarning: In a future version of pandas all arguments of DataFrame.drop except for the argument 'labels' will be keyword-only\n",
            "  df.drop(df.columns.difference(['qid','query']), 1, inplace=True)\n"
          ]
        }
      ],
      "source": [
        "#YOUR CODE STARTS HERE#\n",
        "topics = dataset.get_topics(\"title\")\n",
        "qrels = dataset.get_qrels()\n",
        "\n",
        "experiment_for_each_index = []\n",
        "\n",
        "for models_at_fixed_index in retr_models:\n",
        "  experiment_for_each_index.append(pt.Experiment(\n",
        "      models_at_fixed_index,\n",
        "      topics,\n",
        "      qrels,\n",
        "      eval_metrics=eval_metrics,\n",
        "      highlight=\"bold\")\n",
        "  )\n",
        "\n",
        "\n",
        "\n",
        "\n",
        "\n",
        "\n",
        "\n",
        "\n",
        "\n",
        "\n",
        "\n",
        "\n",
        "\n",
        "\n",
        "#YOUR CODE ENDS HERE#\n",
        "#THIS IS LINE 30#"
      ]
    },
    {
      "cell_type": "markdown",
      "metadata": {
        "id": "qBoF_e5reRQR"
      },
      "source": [
        "####1.1.6\n",
        "For the last index constructed (i.e. corresponding to the last preprocessing chosen), print out the PyTerrier table with the weighting models chosen by you on the rows and the evaluation metrics chosen by you + those specified by us on the columns. Highlight the best results in the result table."
      ]
    },
    {
      "cell_type": "code",
      "execution_count": null,
      "metadata": {
        "colab": {
          "base_uri": "https://localhost:8080/",
          "height": 206
        },
        "id": "lyxdQmr6e-sZ",
        "outputId": "0bee8e9c-2846-419c-c3c9-82d0e2e88619"
      },
      "outputs": [
        {
          "output_type": "execute_result",
          "data": {
            "text/plain": [
              "<pandas.io.formats.style.Styler at 0x7fa6f5a481d0>"
            ],
            "text/html": [
              "<style type=\"text/css\">\n",
              "#T_1a1cd_row1_col5, #T_1a1cd_row2_col1, #T_1a1cd_row2_col2, #T_1a1cd_row2_col3, #T_1a1cd_row2_col4, #T_1a1cd_row2_col6, #T_1a1cd_row2_col7, #T_1a1cd_row2_col8, #T_1a1cd_row4_col3, #T_1a1cd_row4_col4 {\n",
              "  font-weight: bold;\n",
              "}\n",
              "</style>\n",
              "<table id=\"T_1a1cd_\" class=\"dataframe\">\n",
              "  <thead>\n",
              "    <tr>\n",
              "      <th class=\"blank level0\" >&nbsp;</th>\n",
              "      <th class=\"col_heading level0 col0\" >name</th>\n",
              "      <th class=\"col_heading level0 col1\" >map</th>\n",
              "      <th class=\"col_heading level0 col2\" >Rprec</th>\n",
              "      <th class=\"col_heading level0 col3\" >set_F</th>\n",
              "      <th class=\"col_heading level0 col4\" >set_P</th>\n",
              "      <th class=\"col_heading level0 col5\" >set_recall</th>\n",
              "      <th class=\"col_heading level0 col6\" >P_5</th>\n",
              "      <th class=\"col_heading level0 col7\" >ndcg_cut_10</th>\n",
              "      <th class=\"col_heading level0 col8\" >recip_rank</th>\n",
              "    </tr>\n",
              "  </thead>\n",
              "  <tbody>\n",
              "    <tr>\n",
              "      <th id=\"T_1a1cd_level0_row0\" class=\"row_heading level0 row0\" >0</th>\n",
              "      <td id=\"T_1a1cd_row0_col0\" class=\"data row0 col0\" >BR(CoordinateMatch)</td>\n",
              "      <td id=\"T_1a1cd_row0_col1\" class=\"data row0 col1\" >0.047509</td>\n",
              "      <td id=\"T_1a1cd_row0_col2\" class=\"data row0 col2\" >0.069133</td>\n",
              "      <td id=\"T_1a1cd_row0_col3\" class=\"data row0 col3\" >0.070128</td>\n",
              "      <td id=\"T_1a1cd_row0_col4\" class=\"data row0 col4\" >0.119250</td>\n",
              "      <td id=\"T_1a1cd_row0_col5\" class=\"data row0 col5\" >0.177370</td>\n",
              "      <td id=\"T_1a1cd_row0_col6\" class=\"data row0 col6\" >0.144000</td>\n",
              "      <td id=\"T_1a1cd_row0_col7\" class=\"data row0 col7\" >0.137627</td>\n",
              "      <td id=\"T_1a1cd_row0_col8\" class=\"data row0 col8\" >0.299307</td>\n",
              "    </tr>\n",
              "    <tr>\n",
              "      <th id=\"T_1a1cd_level0_row1\" class=\"row_heading level0 row1\" >1</th>\n",
              "      <td id=\"T_1a1cd_row1_col0\" class=\"data row1 col0\" >BR(Tf)</td>\n",
              "      <td id=\"T_1a1cd_row1_col1\" class=\"data row1 col1\" >0.042366</td>\n",
              "      <td id=\"T_1a1cd_row1_col2\" class=\"data row1 col2\" >0.062163</td>\n",
              "      <td id=\"T_1a1cd_row1_col3\" class=\"data row1 col3\" >0.070134</td>\n",
              "      <td id=\"T_1a1cd_row1_col4\" class=\"data row1 col4\" >0.119254</td>\n",
              "      <td id=\"T_1a1cd_row1_col5\" class=\"data row1 col5\" >0.177397</td>\n",
              "      <td id=\"T_1a1cd_row1_col6\" class=\"data row1 col6\" >0.140923</td>\n",
              "      <td id=\"T_1a1cd_row1_col7\" class=\"data row1 col7\" >0.130522</td>\n",
              "      <td id=\"T_1a1cd_row1_col8\" class=\"data row1 col8\" >0.284080</td>\n",
              "    </tr>\n",
              "    <tr>\n",
              "      <th id=\"T_1a1cd_level0_row2\" class=\"row_heading level0 row2\" >2</th>\n",
              "      <td id=\"T_1a1cd_row2_col0\" class=\"data row2 col0\" >BR(LemurTF_IDF)</td>\n",
              "      <td id=\"T_1a1cd_row2_col1\" class=\"data row2 col1\" >0.061108</td>\n",
              "      <td id=\"T_1a1cd_row2_col2\" class=\"data row2 col2\" >0.088022</td>\n",
              "      <td id=\"T_1a1cd_row2_col3\" class=\"data row2 col3\" >0.070199</td>\n",
              "      <td id=\"T_1a1cd_row2_col4\" class=\"data row2 col4\" >0.119287</td>\n",
              "      <td id=\"T_1a1cd_row2_col5\" class=\"data row2 col5\" >0.176783</td>\n",
              "      <td id=\"T_1a1cd_row2_col6\" class=\"data row2 col6\" >0.193231</td>\n",
              "      <td id=\"T_1a1cd_row2_col7\" class=\"data row2 col7\" >0.189161</td>\n",
              "      <td id=\"T_1a1cd_row2_col8\" class=\"data row2 col8\" >0.391445</td>\n",
              "    </tr>\n",
              "    <tr>\n",
              "      <th id=\"T_1a1cd_level0_row3\" class=\"row_heading level0 row3\" >3</th>\n",
              "      <td id=\"T_1a1cd_row3_col0\" class=\"data row3 col0\" >BR(TF_IDF)</td>\n",
              "      <td id=\"T_1a1cd_row3_col1\" class=\"data row3 col1\" >0.058921</td>\n",
              "      <td id=\"T_1a1cd_row3_col2\" class=\"data row3 col2\" >0.085719</td>\n",
              "      <td id=\"T_1a1cd_row3_col3\" class=\"data row3 col3\" >0.070181</td>\n",
              "      <td id=\"T_1a1cd_row3_col4\" class=\"data row3 col4\" >0.119278</td>\n",
              "      <td id=\"T_1a1cd_row3_col5\" class=\"data row3 col5\" >0.176563</td>\n",
              "      <td id=\"T_1a1cd_row3_col6\" class=\"data row3 col6\" >0.190154</td>\n",
              "      <td id=\"T_1a1cd_row3_col7\" class=\"data row3 col7\" >0.185305</td>\n",
              "      <td id=\"T_1a1cd_row3_col8\" class=\"data row3 col8\" >0.390368</td>\n",
              "    </tr>\n",
              "    <tr>\n",
              "      <th id=\"T_1a1cd_level0_row4\" class=\"row_heading level0 row4\" >4</th>\n",
              "      <td id=\"T_1a1cd_row4_col0\" class=\"data row4 col0\" >BR(BM25)</td>\n",
              "      <td id=\"T_1a1cd_row4_col1\" class=\"data row4 col1\" >0.058616</td>\n",
              "      <td id=\"T_1a1cd_row4_col2\" class=\"data row4 col2\" >0.085647</td>\n",
              "      <td id=\"T_1a1cd_row4_col3\" class=\"data row4 col3\" >0.070199</td>\n",
              "      <td id=\"T_1a1cd_row4_col4\" class=\"data row4 col4\" >0.119287</td>\n",
              "      <td id=\"T_1a1cd_row4_col5\" class=\"data row4 col5\" >0.176783</td>\n",
              "      <td id=\"T_1a1cd_row4_col6\" class=\"data row4 col6\" >0.190154</td>\n",
              "      <td id=\"T_1a1cd_row4_col7\" class=\"data row4 col7\" >0.184884</td>\n",
              "      <td id=\"T_1a1cd_row4_col8\" class=\"data row4 col8\" >0.386156</td>\n",
              "    </tr>\n",
              "  </tbody>\n",
              "</table>\n"
            ]
          },
          "metadata": {},
          "execution_count": 12
        }
      ],
      "source": [
        "#YOUR CODE STARTS HERE#\n",
        "experiment_for_both_preprocessing = experiment_for_each_index[-1]\n",
        "experiment_for_both_preprocessing\n",
        "\n",
        "\n",
        "\n",
        "\n",
        "\n",
        "#YOUR CODE ENDS HERE#\n",
        "#THIS IS LINE 10#"
      ]
    },
    {
      "cell_type": "markdown",
      "metadata": {
        "id": "9PF4-s-VZ0pD"
      },
      "source": [
        "####1.1.7\n",
        "Select the Top-5 configurations (preprocessing, weighting model) according to the Mean Recirpocal Rank (MRR), taking into account all the results obtained in section 1.1.5."
      ]
    },
    {
      "cell_type": "code",
      "execution_count": null,
      "metadata": {
        "id": "g4TbBIC_fDfE"
      },
      "outputs": [],
      "source": [
        "#YOUR CODE STARTS HERE#\n",
        "field_to_search_max = 'recip_rank'\n",
        "\n",
        "# For each experiments I will create a copy of the dataframe with only the column\n",
        "# of 'name' and 'evaluation metrics' and add a column with the corresponding \n",
        "# preprocessing configuration.  \n",
        "ALL_experiments = []\n",
        "# for each experiments\n",
        "for idx ,experiment in enumerate(experiment_for_each_index):\n",
        "  tmp = experiment.data[[field_to_search_max, 'name']].copy()\n",
        "  # add column pre-processing for each experiment \n",
        "  tmp.loc[:, ['preprocessing']] = possible_preprocessing[idx]\n",
        "  ALL_experiments.append(tmp)\n",
        "\n",
        "ALL_experiments_dataframe = pd.concat(ALL_experiments)\n",
        "ALL_experiments_dataframe.reset_index(inplace = True)   # is need for the next step\n",
        "ALL_experiments_dataframe.drop(columns = 'index', inplace = True) # drop extra column\n",
        "# Get the 5 largest value in the recip_rank fields for ALL the models \n",
        "top_5_configuration = ALL_experiments_dataframe.nlargest(5, columns = field_to_search_max)\n",
        "# reset the index\n",
        "top_5_configuration.reset_index(inplace = True)\n",
        "\n",
        "\n",
        "\n",
        "\n",
        "\n",
        "\n",
        "\n",
        "#YOUR CODE ENDS HERE#\n",
        "#THIS IS LINE 30#"
      ]
    },
    {
      "cell_type": "markdown",
      "metadata": {
        "id": "l_nMGmT3u_WD"
      },
      "source": [
        "For each of these 5 configurations, print out the pre-processing and weighting model applied."
      ]
    },
    {
      "cell_type": "code",
      "execution_count": null,
      "metadata": {
        "colab": {
          "base_uri": "https://localhost:8080/",
          "height": 206
        },
        "id": "83ZbCXhmu_yC",
        "outputId": "ada5a690-8b28-4cf6-d3f9-7bf1bfb58d3e"
      },
      "outputs": [
        {
          "output_type": "execute_result",
          "data": {
            "text/plain": [
              "                       preprocessing         name\n",
              "0  Stopwords, EnglishSnowballStemmer  LemurTF_IDF\n",
              "1  Stopwords, EnglishSnowballStemmer       TF_IDF\n",
              "2  Stopwords, EnglishSnowballStemmer         BM25\n",
              "3             EnglishSnowballStemmer  LemurTF_IDF\n",
              "4             EnglishSnowballStemmer       TF_IDF"
            ],
            "text/html": [
              "\n",
              "  <div id=\"df-ab0dd061-4f40-4fad-8c9f-997d96ba2cf5\">\n",
              "    <div class=\"colab-df-container\">\n",
              "      <div>\n",
              "<style scoped>\n",
              "    .dataframe tbody tr th:only-of-type {\n",
              "        vertical-align: middle;\n",
              "    }\n",
              "\n",
              "    .dataframe tbody tr th {\n",
              "        vertical-align: top;\n",
              "    }\n",
              "\n",
              "    .dataframe thead th {\n",
              "        text-align: right;\n",
              "    }\n",
              "</style>\n",
              "<table border=\"1\" class=\"dataframe\">\n",
              "  <thead>\n",
              "    <tr style=\"text-align: right;\">\n",
              "      <th></th>\n",
              "      <th>preprocessing</th>\n",
              "      <th>name</th>\n",
              "    </tr>\n",
              "  </thead>\n",
              "  <tbody>\n",
              "    <tr>\n",
              "      <th>0</th>\n",
              "      <td>Stopwords, EnglishSnowballStemmer</td>\n",
              "      <td>LemurTF_IDF</td>\n",
              "    </tr>\n",
              "    <tr>\n",
              "      <th>1</th>\n",
              "      <td>Stopwords, EnglishSnowballStemmer</td>\n",
              "      <td>TF_IDF</td>\n",
              "    </tr>\n",
              "    <tr>\n",
              "      <th>2</th>\n",
              "      <td>Stopwords, EnglishSnowballStemmer</td>\n",
              "      <td>BM25</td>\n",
              "    </tr>\n",
              "    <tr>\n",
              "      <th>3</th>\n",
              "      <td>EnglishSnowballStemmer</td>\n",
              "      <td>LemurTF_IDF</td>\n",
              "    </tr>\n",
              "    <tr>\n",
              "      <th>4</th>\n",
              "      <td>EnglishSnowballStemmer</td>\n",
              "      <td>TF_IDF</td>\n",
              "    </tr>\n",
              "  </tbody>\n",
              "</table>\n",
              "</div>\n",
              "      <button class=\"colab-df-convert\" onclick=\"convertToInteractive('df-ab0dd061-4f40-4fad-8c9f-997d96ba2cf5')\"\n",
              "              title=\"Convert this dataframe to an interactive table.\"\n",
              "              style=\"display:none;\">\n",
              "        \n",
              "  <svg xmlns=\"http://www.w3.org/2000/svg\" height=\"24px\"viewBox=\"0 0 24 24\"\n",
              "       width=\"24px\">\n",
              "    <path d=\"M0 0h24v24H0V0z\" fill=\"none\"/>\n",
              "    <path d=\"M18.56 5.44l.94 2.06.94-2.06 2.06-.94-2.06-.94-.94-2.06-.94 2.06-2.06.94zm-11 1L8.5 8.5l.94-2.06 2.06-.94-2.06-.94L8.5 2.5l-.94 2.06-2.06.94zm10 10l.94 2.06.94-2.06 2.06-.94-2.06-.94-.94-2.06-.94 2.06-2.06.94z\"/><path d=\"M17.41 7.96l-1.37-1.37c-.4-.4-.92-.59-1.43-.59-.52 0-1.04.2-1.43.59L10.3 9.45l-7.72 7.72c-.78.78-.78 2.05 0 2.83L4 21.41c.39.39.9.59 1.41.59.51 0 1.02-.2 1.41-.59l7.78-7.78 2.81-2.81c.8-.78.8-2.07 0-2.86zM5.41 20L4 18.59l7.72-7.72 1.47 1.35L5.41 20z\"/>\n",
              "  </svg>\n",
              "      </button>\n",
              "      \n",
              "  <style>\n",
              "    .colab-df-container {\n",
              "      display:flex;\n",
              "      flex-wrap:wrap;\n",
              "      gap: 12px;\n",
              "    }\n",
              "\n",
              "    .colab-df-convert {\n",
              "      background-color: #E8F0FE;\n",
              "      border: none;\n",
              "      border-radius: 50%;\n",
              "      cursor: pointer;\n",
              "      display: none;\n",
              "      fill: #1967D2;\n",
              "      height: 32px;\n",
              "      padding: 0 0 0 0;\n",
              "      width: 32px;\n",
              "    }\n",
              "\n",
              "    .colab-df-convert:hover {\n",
              "      background-color: #E2EBFA;\n",
              "      box-shadow: 0px 1px 2px rgba(60, 64, 67, 0.3), 0px 1px 3px 1px rgba(60, 64, 67, 0.15);\n",
              "      fill: #174EA6;\n",
              "    }\n",
              "\n",
              "    [theme=dark] .colab-df-convert {\n",
              "      background-color: #3B4455;\n",
              "      fill: #D2E3FC;\n",
              "    }\n",
              "\n",
              "    [theme=dark] .colab-df-convert:hover {\n",
              "      background-color: #434B5C;\n",
              "      box-shadow: 0px 1px 3px 1px rgba(0, 0, 0, 0.15);\n",
              "      filter: drop-shadow(0px 1px 2px rgba(0, 0, 0, 0.3));\n",
              "      fill: #FFFFFF;\n",
              "    }\n",
              "  </style>\n",
              "\n",
              "      <script>\n",
              "        const buttonEl =\n",
              "          document.querySelector('#df-ab0dd061-4f40-4fad-8c9f-997d96ba2cf5 button.colab-df-convert');\n",
              "        buttonEl.style.display =\n",
              "          google.colab.kernel.accessAllowed ? 'block' : 'none';\n",
              "\n",
              "        async function convertToInteractive(key) {\n",
              "          const element = document.querySelector('#df-ab0dd061-4f40-4fad-8c9f-997d96ba2cf5');\n",
              "          const dataTable =\n",
              "            await google.colab.kernel.invokeFunction('convertToInteractive',\n",
              "                                                     [key], {});\n",
              "          if (!dataTable) return;\n",
              "\n",
              "          const docLinkHtml = 'Like what you see? Visit the ' +\n",
              "            '<a target=\"_blank\" href=https://colab.research.google.com/notebooks/data_table.ipynb>data table notebook</a>'\n",
              "            + ' to learn more about interactive tables.';\n",
              "          element.innerHTML = '';\n",
              "          dataTable['output_type'] = 'display_data';\n",
              "          await google.colab.output.renderOutput(dataTable, element);\n",
              "          const docLink = document.createElement('div');\n",
              "          docLink.innerHTML = docLinkHtml;\n",
              "          element.appendChild(docLink);\n",
              "        }\n",
              "      </script>\n",
              "    </div>\n",
              "  </div>\n",
              "  "
            ]
          },
          "metadata": {},
          "execution_count": 14
        }
      ],
      "source": [
        "#YOUR CODE STARTS HERE#\n",
        "# clean the name of each model inside the experiment table\n",
        "pattern = r'\\((.*?)\\)'\n",
        "\n",
        "for idx, name in enumerate(top_5_configuration['name']):\n",
        "  top_5_configuration.loc[idx, ['name']] = re.search(pattern, name).group(1)\n",
        "\n",
        "# return only the preprocessing and weighting model applied\n",
        "top_5_configuration[['preprocessing','name']]\n",
        "\n",
        "\n",
        "\n",
        "\n",
        "\n",
        "\n",
        "\n",
        "\n",
        "\n",
        "#YOUR CODE ENDS HERE#\n",
        "#THIS IS LINE 20#"
      ]
    },
    {
      "cell_type": "markdown",
      "metadata": {
        "id": "lBnOS1InfF4T"
      },
      "source": [
        "For these 5 configurations, provide the following plots (re-run the evaluations just for this configurations, to get the required evaluation metrics):"
      ]
    },
    {
      "cell_type": "markdown",
      "metadata": {
        "id": "X1K4HuAVZ5Or"
      },
      "source": [
        "* P@k plot\n",
        "    * the x axis represents the considered values for k: you must consider k 𝜖 {1, 3, 5, 10}\n",
        "    * the y axis represents the average P@k over all provided queries\n",
        "    * each curve represents one of the 5 search engine configurations"
      ]
    },
    {
      "cell_type": "code",
      "execution_count": null,
      "metadata": {
        "colab": {
          "base_uri": "https://localhost:8080/",
          "height": 524
        },
        "id": "znHGUKe_jW8W",
        "outputId": "d8dd863b-b91a-4346-b9a4-43fddaa370bd"
      },
      "outputs": [
        {
          "output_type": "display_data",
          "data": {
            "text/plain": [
              "<Figure size 841.68x595.44 with 1 Axes>"
            ],
            "image/png": "[encoded data removed]"
          },
          "metadata": {
            "needs_background": "light"
          }
        }
      ],
      "source": [
        "#YOUR CODE STARTS HERE#\n",
        "P_at_K_metrics = ['P_1', 'P_3', 'P_5', 'P_10'] # evaluation metrics requested\n",
        "unlist_model = [model for model_group in retr_models for model in model_group] #all the models\n",
        "preprocessing_label = [str(models[3]) for idx, models in top_5_configuration.iterrows()]   # initialize list of top-5-preprocessing label\n",
        "wmodel_label = [str(models[2]) for idx, models in top_5_configuration.iterrows()]   # initialize list of top-5-wmodel\n",
        "scores_for_each_model = [] # initialize list of the scores for each model\n",
        "# for each configuration, compute the experiment\n",
        "for idx, models in top_5_configuration.iterrows():\n",
        "  retrieval_model = unlist_model[models[0]]  # retrieve the model\n",
        "  P_at_K_experiment = pt.Experiment(\n",
        "      [retrieval_model],\n",
        "      topics,\n",
        "      qrels,\n",
        "      eval_metrics=P_at_K_metrics,\n",
        "      highlight=\"bold\")\n",
        "  scores_for_each_model.append([P_at_K_experiment.data.iloc[0, 1:]])\n",
        "\n",
        "# Plotting the scores\n",
        "fig, ax = plt.subplots(nrows = 1, ncols = 1, figsize = (11.69,8.27))\n",
        "for idx in range(len(scores_for_each_model)):\n",
        "  ax.plot([1,3,5,10],  scores_for_each_model[idx][0],  marker='o', label = preprocessing_label[idx]+', '+wmodel_label[idx],\n",
        "          linewidth=2)\n",
        "ax.set_xticks([1,3,5,10])\n",
        "ax.tick_params(axis='both', which='major', labelsize=15)\n",
        "ax.set_ylabel(\"Precision@k\", fontsize = 17)\n",
        "ax.set_xlabel(\"k\", fontsize = 17)\n",
        "ax.legend(fontsize = 12);\n",
        "#YOUR CODE ENDS HERE#\n",
        "#THIS IS LINE 30#"
      ]
    },
    {
      "cell_type": "markdown",
      "metadata": {
        "id": "KbeKDf8lZ_CL"
      },
      "source": [
        "* nDCG@k plot\n",
        "    * the x axis represents the considered values for k: you must consider k 𝜖 {1, 3, 5, 10}\n",
        "    * the y axis represents the average nDCG@k over all provided queries\n",
        "    * each curve represents one of the 5 search engine configurations"
      ]
    },
    {
      "cell_type": "code",
      "execution_count": null,
      "metadata": {
        "colab": {
          "base_uri": "https://localhost:8080/",
          "height": 524
        },
        "id": "AtRvlPJ9aFtv",
        "outputId": "d7a602ca-9339-4366-a5a4-c1725af56b30"
      },
      "outputs": [
        {
          "output_type": "display_data",
          "data": {
            "text/plain": [
              "<Figure size 841.68x595.44 with 1 Axes>"
            ],
            "image/png": "[encoded data removed]"
          },
          "metadata": {
            "needs_background": "light"
          }
        }
      ],
      "source": [
        "#YOUR CODE STARTS HERE#\n",
        "NDCG_at_K_metrics = ['ndcg_cut_1', 'ndcg_cut_3', 'ndcg_cut_5', 'ndcg_cut_10'] # evaluation metrics requested\n",
        "# \n",
        "scores_for_each_model = [] # initialize list of the scores for each model\n",
        "# for each configuration, compute the experiment\n",
        "for idx, models in top_5_configuration.iterrows():\n",
        "  retrieval_model = unlist_model[models[0]]  # retrieve the model\n",
        "  NDCG_at_K_experiment = pt.Experiment(\n",
        "      [retrieval_model],\n",
        "      topics,\n",
        "      qrels,\n",
        "      eval_metrics=NDCG_at_K_metrics,\n",
        "      highlight=\"bold\"\n",
        "      )\n",
        "  scores_for_each_model.append([NDCG_at_K_experiment.data.iloc[0, 1:]])\n",
        "\n",
        "# Plotting the scores\n",
        "fig, ax = plt.subplots(nrows = 1, ncols = 1, figsize = (11.69,8.27))\n",
        "for idx in range(len(scores_for_each_model)):\n",
        "  ax.plot([1,3,5,10],  scores_for_each_model[idx][0],  marker='o', label = preprocessing_label[idx]+', '+wmodel_label[idx],\n",
        "          linewidth=2)\n",
        "ax.set_xticks([1,3,5,10])\n",
        "ax.tick_params(axis='both', which='major', labelsize=15)\n",
        "ax.set_ylabel(\"NDCG@k\", fontsize = 17)\n",
        "ax.set_xlabel(\"k\", fontsize = 17)\n",
        "ax.legend(fontsize = 12);\n",
        "\n",
        "#YOUR CODE ENDS HERE#\n",
        "#THIS IS LINE 30#"
      ]
    },
    {
      "cell_type": "markdown",
      "metadata": {
        "id": "cjPAwZTmaE-n"
      },
      "source": [
        "####1.1.8\n",
        "According only to the nDCG@k plot, which is the best search engine configuration? Explain your answer in **at most three sentences**."
      ]
    },
    {
      "cell_type": "markdown",
      "metadata": {
        "id": "d_htJbCHfMS_"
      },
      "source": [
        "----------YOUR TEXT STARTS HERE----------\n",
        "\n",
        "According only to the nDCG@k the best configuration is the search engine with pre-processing \"Stopword\" and \"English Stemmer\" using Lemur_TF_IDF model that is the one that gives us the better scores in the graph.\n",
        "\n",
        "This because the TF_IDF weighting model in the variant of Lemur, works better with dropping stopword or stem the words. And in this way the engine perform better to rank higher revelant document at the top k postition. "
      ]
    },
    {
      "cell_type": "markdown",
      "metadata": {
        "id": "JSWFJqVOaH8n"
      },
      "source": [
        "### Part 1.2"
      ]
    },
    {
      "cell_type": "markdown",
      "metadata": {
        "id": "iPPOwfZxh71A"
      },
      "source": [
        "You will be given several scenarios and different requirements for each one. By respecting the requirements, you will have to choose the proper **configuration**, represented in terms of:\n",
        "1. A suitable preprocessing (if any)\n",
        "2. A suitable weighting model (if any)\n",
        "3. A suitable evaluation metric (if any)\n",
        "\n",
        "You must then:\n",
        "1. Provide an explanation of your choice in **at most three sentences**.\n",
        "2. Implement one search engine with this configuration and, if necessary, obtain the evaluation metrics you specified.\n",
        "\n",
        "N.B. There is not necessarily only one correct answer."
      ]
    },
    {
      "cell_type": "markdown",
      "metadata": {
        "id": "l4LAnGIwm2AY"
      },
      "source": [
        "#### 1.2.1\n",
        "**Question 1:** The company A-DMT needs a search engine for the `irds:cranfield` dataset. In particular, it is interested in obtaining **exact matches** between the terms in the `author` field and the query terms; e.g. it does not want \"apple\" to be matched with \"apples\".\n",
        "\n",
        "What is the configuration (as defined in part 1.2) that would best meet the needs of the A-DMT company? **Use at most 3 sentences.**"
      ]
    },
    {
      "cell_type": "markdown",
      "metadata": {
        "id": "sP4FiomrcPOh"
      },
      "source": [
        "----------YOUR TEXT STARTS HERE----------\n",
        "\n",
        "The best configuration for us is: remove stopwords, using Coordinate Match as weighting model and no evaluation metrics.\n",
        "\n",
        "This because we are indexing the Author field, so we don't need to apply stemming or lemming over names or words as required from the company. \n",
        "\n",
        "The \"Coordinate_Match\" model because we are interested in find the exact documents where the author is mentioned with a score of 1 or 0 without the need to rank the documents.\n",
        "\n",
        "\n"
      ]
    },
    {
      "cell_type": "markdown",
      "metadata": {
        "id": "434Yi0wWR5gn"
      },
      "source": [
        "Implement one search engine with this configuration and, if necessary, obtain the evaluation metrics you specified."
      ]
    },
    {
      "cell_type": "code",
      "execution_count": null,
      "metadata": {
        "colab": {
          "base_uri": "https://localhost:8080/",
          "height": 185,
          "referenced_widgets": [
            "0816bf15521043ba9047e4e1eca4795d",
            "8b47a31a9ca04075843987aaf949854f",
            "6f75d902326849a1b26dc0a08c4450d8",
            "5184333bf97e4cac83c8ef7b44569247",
            "59bf7e072e9044caa7f1cec0f5e71df4",
            "a5d507d90bce4e4c9b2cf716c78d00a6",
            "b1a9500dabff4df79d105acbee7a6753",
            "d12d1d32cc25401cb644b38dd0ff97ae",
            "480c844ed22d41888b294f272b644652",
            "a4a75096d80c4fb7b2d8a4004a0ab7c8",
            "4f5167eea06145059aa17c341e277577"
          ]
        },
        "id": "PStUReWfcO5M",
        "outputId": "b6db1d64-87d6-4062-c1ee-5403ceeddee8"
      },
      "outputs": [
        {
          "output_type": "display_data",
          "data": {
            "text/plain": [
              "cranfield documents:   0%|          | 0/1400 [00:00<?, ?it/s]"
            ],
            "application/vnd.jupyter.widget-view+json": {
              "version_major": 2,
              "version_minor": 0,
              "model_id": "0816bf15521043ba9047e4e1eca4795d"
            }
          },
          "metadata": {}
        },
        {
          "output_type": "stream",
          "name": "stdout",
          "text": [
            "17:15:03.011 [ForkJoinPool-8-worker-3] WARN org.terrier.structures.indexing.Indexer - Adding an empty document to the index (281) - further warnings are suppressed\n",
            "17:15:03.246 [ForkJoinPool-8-worker-3] WARN org.terrier.structures.indexing.Indexer - Indexed 53 empty documents\n",
            "\n"
          ]
        },
        {
          "output_type": "execute_result",
          "data": {
            "text/plain": [
              "  qid  docid docno  rank  score              query\n",
              "0   1     42    43     0    1.0  potter, whitfield"
            ],
            "text/html": [
              "\n",
              "  <div id=\"df-3010ecee-3b7d-4151-a9fe-29b39a26270b\">\n",
              "    <div class=\"colab-df-container\">\n",
              "      <div>\n",
              "<style scoped>\n",
              "    .dataframe tbody tr th:only-of-type {\n",
              "        vertical-align: middle;\n",
              "    }\n",
              "\n",
              "    .dataframe tbody tr th {\n",
              "        vertical-align: top;\n",
              "    }\n",
              "\n",
              "    .dataframe thead th {\n",
              "        text-align: right;\n",
              "    }\n",
              "</style>\n",
              "<table border=\"1\" class=\"dataframe\">\n",
              "  <thead>\n",
              "    <tr style=\"text-align: right;\">\n",
              "      <th></th>\n",
              "      <th>qid</th>\n",
              "      <th>docid</th>\n",
              "      <th>docno</th>\n",
              "      <th>rank</th>\n",
              "      <th>score</th>\n",
              "      <th>query</th>\n",
              "    </tr>\n",
              "  </thead>\n",
              "  <tbody>\n",
              "    <tr>\n",
              "      <th>0</th>\n",
              "      <td>1</td>\n",
              "      <td>42</td>\n",
              "      <td>43</td>\n",
              "      <td>0</td>\n",
              "      <td>1.0</td>\n",
              "      <td>potter, whitfield</td>\n",
              "    </tr>\n",
              "  </tbody>\n",
              "</table>\n",
              "</div>\n",
              "      <button class=\"colab-df-convert\" onclick=\"convertToInteractive('df-3010ecee-3b7d-4151-a9fe-29b39a26270b')\"\n",
              "              title=\"Convert this dataframe to an interactive table.\"\n",
              "              style=\"display:none;\">\n",
              "        \n",
              "  <svg xmlns=\"http://www.w3.org/2000/svg\" height=\"24px\"viewBox=\"0 0 24 24\"\n",
              "       width=\"24px\">\n",
              "    <path d=\"M0 0h24v24H0V0z\" fill=\"none\"/>\n",
              "    <path d=\"M18.56 5.44l.94 2.06.94-2.06 2.06-.94-2.06-.94-.94-2.06-.94 2.06-2.06.94zm-11 1L8.5 8.5l.94-2.06 2.06-.94-2.06-.94L8.5 2.5l-.94 2.06-2.06.94zm10 10l.94 2.06.94-2.06 2.06-.94-2.06-.94-.94-2.06-.94 2.06-2.06.94z\"/><path d=\"M17.41 7.96l-1.37-1.37c-.4-.4-.92-.59-1.43-.59-.52 0-1.04.2-1.43.59L10.3 9.45l-7.72 7.72c-.78.78-.78 2.05 0 2.83L4 21.41c.39.39.9.59 1.41.59.51 0 1.02-.2 1.41-.59l7.78-7.78 2.81-2.81c.8-.78.8-2.07 0-2.86zM5.41 20L4 18.59l7.72-7.72 1.47 1.35L5.41 20z\"/>\n",
              "  </svg>\n",
              "      </button>\n",
              "      \n",
              "  <style>\n",
              "    .colab-df-container {\n",
              "      display:flex;\n",
              "      flex-wrap:wrap;\n",
              "      gap: 12px;\n",
              "    }\n",
              "\n",
              "    .colab-df-convert {\n",
              "      background-color: #E8F0FE;\n",
              "      border: none;\n",
              "      border-radius: 50%;\n",
              "      cursor: pointer;\n",
              "      display: none;\n",
              "      fill: #1967D2;\n",
              "      height: 32px;\n",
              "      padding: 0 0 0 0;\n",
              "      width: 32px;\n",
              "    }\n",
              "\n",
              "    .colab-df-convert:hover {\n",
              "      background-color: #E2EBFA;\n",
              "      box-shadow: 0px 1px 2px rgba(60, 64, 67, 0.3), 0px 1px 3px 1px rgba(60, 64, 67, 0.15);\n",
              "      fill: #174EA6;\n",
              "    }\n",
              "\n",
              "    [theme=dark] .colab-df-convert {\n",
              "      background-color: #3B4455;\n",
              "      fill: #D2E3FC;\n",
              "    }\n",
              "\n",
              "    [theme=dark] .colab-df-convert:hover {\n",
              "      background-color: #434B5C;\n",
              "      box-shadow: 0px 1px 3px 1px rgba(0, 0, 0, 0.15);\n",
              "      filter: drop-shadow(0px 1px 2px rgba(0, 0, 0, 0.3));\n",
              "      fill: #FFFFFF;\n",
              "    }\n",
              "  </style>\n",
              "\n",
              "      <script>\n",
              "        const buttonEl =\n",
              "          document.querySelector('#df-3010ecee-3b7d-4151-a9fe-29b39a26270b button.colab-df-convert');\n",
              "        buttonEl.style.display =\n",
              "          google.colab.kernel.accessAllowed ? 'block' : 'none';\n",
              "\n",
              "        async function convertToInteractive(key) {\n",
              "          const element = document.querySelector('#df-3010ecee-3b7d-4151-a9fe-29b39a26270b');\n",
              "          const dataTable =\n",
              "            await google.colab.kernel.invokeFunction('convertToInteractive',\n",
              "                                                     [key], {});\n",
              "          if (!dataTable) return;\n",
              "\n",
              "          const docLinkHtml = 'Like what you see? Visit the ' +\n",
              "            '<a target=\"_blank\" href=https://colab.research.google.com/notebooks/data_table.ipynb>data table notebook</a>'\n",
              "            + ' to learn more about interactive tables.';\n",
              "          element.innerHTML = '';\n",
              "          dataTable['output_type'] = 'display_data';\n",
              "          await google.colab.output.renderOutput(dataTable, element);\n",
              "          const docLink = document.createElement('div');\n",
              "          docLink.innerHTML = docLinkHtml;\n",
              "          element.appendChild(docLink);\n",
              "        }\n",
              "      </script>\n",
              "    </div>\n",
              "  </div>\n",
              "  "
            ]
          },
          "metadata": {},
          "execution_count": 17
        }
      ],
      "source": [
        "#YOUR CODE STARTS HERE#\n",
        "dataset_name = 'irds:cranfield'        \n",
        "dataset = pt.get_dataset(dataset_name) #download dataset\n",
        "\n",
        "folder_pos = './indexCranfieldDataset' #folder position\n",
        "!rm -rf './indexCranfieldDataset'\n",
        "preprocessing = [\"Stopwords\"]          \n",
        "                         \n",
        "indexer = pt.IterDictIndexer(folder_pos,  meta_reverse = [], blocks = True)\n",
        "indexer.setProperty(\"termpipelines\", preprocessing)\n",
        "indexref = indexer.index(dataset.get_corpus_iter(), fields=[\"author\"])\n",
        "CoordinateMatch = pt.BatchRetrieve(indexref, wmodel=\"CoordinateMatch\")\n",
        "\n",
        "# io lo toglierei tanto è inutile\n",
        "topics = dataset.get_topics()\n",
        "qrels = dataset.get_qrels()\n",
        "\n",
        "# testing\n",
        "print()\n",
        "CoordinateMatch.search('potter, whitfield') \n",
        "\n",
        "\n",
        "\n",
        "\n",
        "\n",
        "\n",
        "\n",
        "\n",
        "#YOUR CODE ENDS HERE#\n",
        "#THIS IS LINE 30#"
      ]
    },
    {
      "cell_type": "markdown",
      "metadata": {
        "id": "KSQgSFvVm4YS"
      },
      "source": [
        "#### 1.2.2\n",
        "**Question 2:** The B-DMT company needs a search engine for the `irds:clinicaltrials/2017/trec-pm-2017` dataset for its app. The search engine they need will have to return to users the list of the top-6 results sorted in descending order of relevance to the given query. The company wants to evaluate the performance on query topic `disease` of a search engine built on the `summary` field.\n",
        "\n",
        "What is the configuration (as defined in part 1.2) that would best meet the needs of the B-DMT company? **Use at most 3 sentences.**"
      ]
    },
    {
      "cell_type": "markdown",
      "metadata": {
        "id": "pm3WzBBacQVP"
      },
      "source": [
        "----------YOUR TEXT STARTS HERE----------\n",
        "\n",
        "The best configuration for us is: \"Stopwords, EnglishSnowballStemmer\"  for preprocessing, TF_IDF model and NDCG at 6 (since we want a search engine for top 6 result).\n",
        "\n",
        "The pre-processing idea is to reduce the number of non important words, and in pair with the TF_IDF model we can give an higher scores to terms that appear many times within a small number of documents and lower to terms that accours in many summaries (scenario that is frequent is summary of a specific topic).\n",
        "\n",
        "The choise of the evaluation metrics is based on the fact that we have multiple revelant judgments, more precise of $[0,1,2]$, so using a non binary metrics is what is may best for us.\n",
        "\n",
        "\n"
      ]
    },
    {
      "cell_type": "markdown",
      "metadata": {
        "id": "FgYRTDaWV6X-"
      },
      "source": [
        "Implement one search engine with this configuration and, if necessary, obtain the evaluation metrics you specified."
      ]
    },
    {
      "cell_type": "code",
      "execution_count": null,
      "metadata": {
        "colab": {
          "base_uri": "https://localhost:8080/",
          "height": 254,
          "referenced_widgets": [
            "3f060ba484a541809e8620491ba3609a",
            "35100a4a97ef4557b4745542f6d1b894",
            "1c6ef7228b6240e39550b279abadc912",
            "e2a74e2b430e4ecdadcee280c725e7e2",
            "28d97a3602864a97a41bcbf60b34601c",
            "618ea5a9630f47749488d01a17f6e249",
            "b0d957a2361d46ea98bfc6bbc9bb5eb0",
            "c3dac57a3f6a466b870c9a6090d4951a",
            "8f94bca9d5244de3b0ae61c1b47887bd",
            "2e0877512f574d7ea042cb16aab977a8",
            "c8c1189a20764bd39117ac74632e957f"
          ]
        },
        "id": "fqVYkE7ecQ5Q",
        "outputId": "afb7814d-f7fb-4ff9-cc16-621c7d2cc9ee"
      },
      "outputs": [
        {
          "output_type": "display_data",
          "data": {
            "text/plain": [
              "clinicaltrials/2017/trec-pm-2017 documents:   0%|          | 0/241006 [00:00<?, ?it/s]"
            ],
            "application/vnd.jupyter.widget-view+json": {
              "version_major": 2,
              "version_minor": 0,
              "model_id": "3f060ba484a541809e8620491ba3609a"
            }
          },
          "metadata": {}
        },
        {
          "output_type": "stream",
          "name": "stdout",
          "text": [
            "17:15:04.833 [ForkJoinPool-9-worker-3] WARN org.terrier.structures.indexing.Indexer - Adding an empty document to the index (NCT00589069) - further warnings are suppressed\n",
            "17:16:30.649 [ForkJoinPool-9-worker-3] WARN org.terrier.structures.indexing.Indexer - Indexed 682 empty documents\n"
          ]
        },
        {
          "output_type": "stream",
          "name": "stderr",
          "text": [
            "/usr/local/lib/python3.7/dist-packages/pyterrier/datasets.py:435: FutureWarning: In a future version of pandas all arguments of DataFrame.drop except for the argument 'labels' will be keyword-only\n",
            "  df.drop(df.columns.difference(['qid','query']), 1, inplace=True)\n"
          ]
        },
        {
          "output_type": "stream",
          "name": "stdout",
          "text": [
            "\n",
            "\n",
            "\n"
          ]
        },
        {
          "output_type": "execute_result",
          "data": {
            "text/plain": [
              "  Evaluation metrics     score\n",
              "0         ndcg_cut_6  0.035283"
            ],
            "text/html": [
              "\n",
              "  <div id=\"df-f782ab20-d79b-46a5-a8a1-6dfa13fbe0a5\">\n",
              "    <div class=\"colab-df-container\">\n",
              "      <div>\n",
              "<style scoped>\n",
              "    .dataframe tbody tr th:only-of-type {\n",
              "        vertical-align: middle;\n",
              "    }\n",
              "\n",
              "    .dataframe tbody tr th {\n",
              "        vertical-align: top;\n",
              "    }\n",
              "\n",
              "    .dataframe thead th {\n",
              "        text-align: right;\n",
              "    }\n",
              "</style>\n",
              "<table border=\"1\" class=\"dataframe\">\n",
              "  <thead>\n",
              "    <tr style=\"text-align: right;\">\n",
              "      <th></th>\n",
              "      <th>Evaluation metrics</th>\n",
              "      <th>score</th>\n",
              "    </tr>\n",
              "  </thead>\n",
              "  <tbody>\n",
              "    <tr>\n",
              "      <th>0</th>\n",
              "      <td>ndcg_cut_6</td>\n",
              "      <td>0.035283</td>\n",
              "    </tr>\n",
              "  </tbody>\n",
              "</table>\n",
              "</div>\n",
              "      <button class=\"colab-df-convert\" onclick=\"convertToInteractive('df-f782ab20-d79b-46a5-a8a1-6dfa13fbe0a5')\"\n",
              "              title=\"Convert this dataframe to an interactive table.\"\n",
              "              style=\"display:none;\">\n",
              "        \n",
              "  <svg xmlns=\"http://www.w3.org/2000/svg\" height=\"24px\"viewBox=\"0 0 24 24\"\n",
              "       width=\"24px\">\n",
              "    <path d=\"M0 0h24v24H0V0z\" fill=\"none\"/>\n",
              "    <path d=\"M18.56 5.44l.94 2.06.94-2.06 2.06-.94-2.06-.94-.94-2.06-.94 2.06-2.06.94zm-11 1L8.5 8.5l.94-2.06 2.06-.94-2.06-.94L8.5 2.5l-.94 2.06-2.06.94zm10 10l.94 2.06.94-2.06 2.06-.94-2.06-.94-.94-2.06-.94 2.06-2.06.94z\"/><path d=\"M17.41 7.96l-1.37-1.37c-.4-.4-.92-.59-1.43-.59-.52 0-1.04.2-1.43.59L10.3 9.45l-7.72 7.72c-.78.78-.78 2.05 0 2.83L4 21.41c.39.39.9.59 1.41.59.51 0 1.02-.2 1.41-.59l7.78-7.78 2.81-2.81c.8-.78.8-2.07 0-2.86zM5.41 20L4 18.59l7.72-7.72 1.47 1.35L5.41 20z\"/>\n",
              "  </svg>\n",
              "      </button>\n",
              "      \n",
              "  <style>\n",
              "    .colab-df-container {\n",
              "      display:flex;\n",
              "      flex-wrap:wrap;\n",
              "      gap: 12px;\n",
              "    }\n",
              "\n",
              "    .colab-df-convert {\n",
              "      background-color: #E8F0FE;\n",
              "      border: none;\n",
              "      border-radius: 50%;\n",
              "      cursor: pointer;\n",
              "      display: none;\n",
              "      fill: #1967D2;\n",
              "      height: 32px;\n",
              "      padding: 0 0 0 0;\n",
              "      width: 32px;\n",
              "    }\n",
              "\n",
              "    .colab-df-convert:hover {\n",
              "      background-color: #E2EBFA;\n",
              "      box-shadow: 0px 1px 2px rgba(60, 64, 67, 0.3), 0px 1px 3px 1px rgba(60, 64, 67, 0.15);\n",
              "      fill: #174EA6;\n",
              "    }\n",
              "\n",
              "    [theme=dark] .colab-df-convert {\n",
              "      background-color: #3B4455;\n",
              "      fill: #D2E3FC;\n",
              "    }\n",
              "\n",
              "    [theme=dark] .colab-df-convert:hover {\n",
              "      background-color: #434B5C;\n",
              "      box-shadow: 0px 1px 3px 1px rgba(0, 0, 0, 0.15);\n",
              "      filter: drop-shadow(0px 1px 2px rgba(0, 0, 0, 0.3));\n",
              "      fill: #FFFFFF;\n",
              "    }\n",
              "  </style>\n",
              "\n",
              "      <script>\n",
              "        const buttonEl =\n",
              "          document.querySelector('#df-f782ab20-d79b-46a5-a8a1-6dfa13fbe0a5 button.colab-df-convert');\n",
              "        buttonEl.style.display =\n",
              "          google.colab.kernel.accessAllowed ? 'block' : 'none';\n",
              "\n",
              "        async function convertToInteractive(key) {\n",
              "          const element = document.querySelector('#df-f782ab20-d79b-46a5-a8a1-6dfa13fbe0a5');\n",
              "          const dataTable =\n",
              "            await google.colab.kernel.invokeFunction('convertToInteractive',\n",
              "                                                     [key], {});\n",
              "          if (!dataTable) return;\n",
              "\n",
              "          const docLinkHtml = 'Like what you see? Visit the ' +\n",
              "            '<a target=\"_blank\" href=https://colab.research.google.com/notebooks/data_table.ipynb>data table notebook</a>'\n",
              "            + ' to learn more about interactive tables.';\n",
              "          element.innerHTML = '';\n",
              "          dataTable['output_type'] = 'display_data';\n",
              "          await google.colab.output.renderOutput(dataTable, element);\n",
              "          const docLink = document.createElement('div');\n",
              "          docLink.innerHTML = docLinkHtml;\n",
              "          element.appendChild(docLink);\n",
              "        }\n",
              "      </script>\n",
              "    </div>\n",
              "  </div>\n",
              "  "
            ]
          },
          "metadata": {},
          "execution_count": 18
        }
      ],
      "source": [
        "#YOUR CODE STARTS HERE#\n",
        "dataset_name = 'irds:clinicaltrials/2017/trec-pm-2017'\n",
        "dataset = pt.get_dataset(dataset_name) #download dataset\n",
        "\n",
        "folder_pos = './indexClinicalTrials' #folder position\n",
        "!rm -rf './indexClinicalTrials'\n",
        "preprocessing = [\"Stopwords, EnglishSnowballStemmer\"] \n",
        "\n",
        "# compute the model                      \n",
        "indexer = pt.IterDictIndexer(folder_pos,  meta_reverse = [], blocks = True)\n",
        "indexer.setProperty(\"termpipelines\", preprocessing)\n",
        "indexref = indexer.index(dataset.get_corpus_iter(), fields=[\"summary\"])\n",
        "TF_IDF = pt.BatchRetrieve(indexref, wmodel=\"TF_IDF\")\n",
        "TF_IDF_at_6 = TF_IDF % 6     # cut the result at the top 6\n",
        "\n",
        "topics = dataset.get_topics('disease')\n",
        "qrels = dataset.get_qrels()\n",
        "# evaluate the search engine with the choosen configuration\n",
        "model = TF_IDF_at_6.transform(topics)\n",
        "evaluate = pt.Utils.evaluate(model, qrels, metrics=[\"ndcg_cut_6\"])\n",
        "\n",
        "# show the result\n",
        "nice_print = pd.DataFrame( list(evaluate.items()) )\n",
        "nice_print.rename(columns = {0: 'Evaluation metrics', 1: 'score'}, inplace = True)\n",
        "print(\"\\n\\n\")\n",
        "nice_print\n",
        "\n",
        "\n",
        "#YOUR CODE ENDS HERE#\n",
        "#THIS IS LINE 30#"
      ]
    },
    {
      "cell_type": "markdown",
      "metadata": {
        "id": "wQ6qvKTmiUc5"
      },
      "source": [
        "##Part 2: Near-Duplicate-Detection"
      ]
    },
    {
      "cell_type": "markdown",
      "metadata": {
        "id": "dMpwHp6TiUc7"
      },
      "source": [
        "In this part of the homework, you have to find, in an approximated way, all near-duplicate documents inside a collection of documents.\n",
        "\n",
        "These constraints **must** be satisfied while carrying out this part of the homework:\n",
        "\n",
        "  * We will consider Near-duplicates all those pair of documents that have a Jaccard similarity greater than or equal to 0.95\n",
        "  * Each set of shingles, that represents an original document, must be sketched in a Min-Hashing sketch with a length of at most 210\n",
        "  * The probability to have as a near-duplicate candidate a pair of documents with Jaccard=0.95 must be > 0.97\n",
        "  * The generation process of near-duplicate pairs you implement must generate the smallest amount of both **False-Negatives** and **False-Positives**\n",
        "  * The running time of all the LSH process must be less than 10 minutes."
      ]
    },
    {
      "cell_type": "markdown",
      "metadata": {
        "id": "zhtA8EUvl_74"
      },
      "source": [
        "### Part 2.0\n",
        "Import Python packages that you may need for Part 2."
      ]
    },
    {
      "cell_type": "code",
      "execution_count": null,
      "metadata": {
        "id": "V9OlKqQ_l_78"
      },
      "outputs": [],
      "source": [
        "#YOUR CODE STARTS HERE#\n",
        "import csv\n",
        "import random \n",
        "import itertools as it \n",
        "import pandas as pd\n",
        "import numpy as np\n",
        "import matplotlib.pyplot as plt\n",
        "from timeit import default_timer as timer\n",
        "#YOUR CODE ENDS HERE#\n",
        "#THIS IS LINE 10#"
      ]
    },
    {
      "cell_type": "markdown",
      "metadata": {
        "id": "cCuflg5zkRbI"
      },
      "source": [
        "#### NDD functions\n",
        "A range of functions to perform the Near-Duplicates pipeline is provided by us. You must use them, but **you may not modify or overwrite** them under any circumstances. If you have any doubts about how they work, have a look at them to get an idea of what they do."
      ]
    },
    {
      "cell_type": "markdown",
      "metadata": {
        "id": "mdy_DVRP_iuM"
      },
      "source": [
        "##### Shingling"
      ]
    },
    {
      "cell_type": "markdown",
      "metadata": {
        "id": "8g0Gbefon_yu"
      },
      "source": [
        "> The `cleaner` function will remove from a string all the characters that are not in a predefined set of characters of interest. Multiple spaces will be removed automatically. The function will also remove spaces at the start and end of the sentence, and change all the letters to lowercase."
      ]
    },
    {
      "cell_type": "code",
      "execution_count": null,
      "metadata": {
        "id": "p6w059qp_nRj"
      },
      "outputs": [],
      "source": [
        "set__characters_of_interest = set(\n",
        "    [' ', '0', '1', '2', '3', '4', '5', '6', '7', '8', '9', 'a', 'b', 'c', 'd', 'e', 'f', 'g', 'h', 'i', 'j', 'k', 'l',\n",
        "     'm', 'n', 'o', 'p', 'q', 'r', 's', 't', 'u', 'v', 'w', 'x', 'y', 'z'])\n",
        "def cleaner(text, set__characters_of_interest):\n",
        "    new_text = \"\"\n",
        "    #\n",
        "    previous_copied_character = \"a\"\n",
        "    for c_character in text:\n",
        "        #\n",
        "        c_character = c_character.lower()\n",
        "        #\n",
        "        if c_character not in set__characters_of_interest:\n",
        "            c_character = \" \"\n",
        "        #\n",
        "        if c_character == \" \" and c_character == previous_copied_character:\n",
        "            continue\n",
        "        #\n",
        "        new_text += c_character\n",
        "        #\n",
        "        previous_copied_character = c_character\n",
        "        #\n",
        "    #\n",
        "    new_text = new_text.strip()\n",
        "    #\n",
        "    return new_text"
      ]
    },
    {
      "cell_type": "markdown",
      "metadata": {
        "id": "EnT_U2OzpS6t"
      },
      "source": [
        "> The `get_shingle_id` function will transform a shingle (a tuple of strings) into its shingle id. The `map__shingle__shingle_id` dictionary will handle the mapping."
      ]
    },
    {
      "cell_type": "code",
      "execution_count": null,
      "metadata": {
        "id": "OsTx_KcO_rmS"
      },
      "outputs": [],
      "source": [
        "def get_shingle_id(shingle):\n",
        "    global max_shingle_id\n",
        "    global map__shingle__shingle_id\n",
        "    #\n",
        "    shingle_id = map__shingle__shingle_id.get(shingle, -1)\n",
        "    #\n",
        "    if shingle_id >= 0:\n",
        "        return shingle_id\n",
        "    #\n",
        "    max_shingle_id += 1\n",
        "    shingle_id = max_shingle_id\n",
        "    map__shingle__shingle_id[shingle] = max_shingle_id\n",
        "    #\n",
        "    return shingle_id"
      ]
    },
    {
      "cell_type": "markdown",
      "metadata": {
        "id": "Z7DHlI5Kpm1O"
      },
      "source": [
        "> The `shingler` function takes as input a string and (optionally) a shingle width. It splits the string into words, then iterates in groups of the given length, transforming each into its own shingle_id, and finally outputs the set of shingles that constitutes the sentence."
      ]
    },
    {
      "cell_type": "code",
      "execution_count": null,
      "metadata": {
        "id": "AYv0s8c9_nUP"
      },
      "outputs": [],
      "source": [
        "def shingler(text, width=2):\n",
        "    #\n",
        "    set__shingle_id = set()\n",
        "    #\n",
        "    tokenized_text = text.split(\" \")\n",
        "    #\n",
        "    max_index_plus_1 = 1 if len(tokenized_text) <= width else len(tokenized_text) - width +1\n",
        "    for index in range(max_index_plus_1):\n",
        "        #\n",
        "        c_shingle = tuple(tokenized_text[index:index + width])\n",
        "        #\n",
        "        shingle_id = get_shingle_id(c_shingle)\n",
        "        #\n",
        "        # if shingle_id in set__shingle_id:\n",
        "        #    print(shingle_id, c_shingle)\n",
        "        #\n",
        "        res = set__shingle_id.add(shingle_id)\n",
        "        #\n",
        "    return set__shingle_id"
      ]
    },
    {
      "cell_type": "markdown",
      "metadata": {
        "id": "2-fKr_1rK7u4"
      },
      "source": [
        "> This function will load each sentence inside the input file. The rows of the input file must have two attributes: document_id and document_text. For each record, the text will be processed by the `cleaner` function, turned into shingles by the `shingler` function, and the result will be written in the output file."
      ]
    },
    {
      "cell_type": "code",
      "execution_count": null,
      "metadata": {
        "id": "HNsCDT_i_tw5"
      },
      "outputs": [],
      "source": [
        "def create_sets_of_shingle_ids(input_file_name, output_file_name,\n",
        "                               input_file_delimiter='\\t', input_file_quotechar='\"',\n",
        "                               set__characters_of_interest=[\" \"], shingle_width=3,\n",
        "                               doc_id_column_idx=0, field_column_idx=1):\n",
        "    #\n",
        "    output_file = open(output_file_name, 'w', encoding=\"utf-8\")\n",
        "    output_file_csv_writer = csv.writer(output_file, delimiter='\\t', quotechar='\"', quoting=csv.QUOTE_NONE)\n",
        "    header = ['set_id', 'set_of_integers']\n",
        "    output_file_csv_writer.writerow(header)\n",
        "    #\n",
        "    input_file = open(input_file_name, 'r', encoding=\"utf-8\")\n",
        "    input_file_csv_reader = csv.reader(input_file, delimiter=input_file_delimiter, quotechar=input_file_quotechar)\n",
        "    next(input_file_csv_reader)\n",
        "    for record in input_file_csv_reader:\n",
        "        #\n",
        "        doc_id = int(record[doc_id_column_idx])\n",
        "        document = record[field_column_idx]\n",
        "        #\n",
        "        cleaned_document = cleaner(document, set__characters_of_interest)\n",
        "        #\n",
        "        set__shingle_id = shingler(cleaned_document, width=shingle_width)\n",
        "        #\n",
        "        output_file_csv_writer.writerow([doc_id, set__shingle_id])\n",
        "        #\n",
        "        #\n",
        "        if doc_id % 1000 == 0:\n",
        "            print(\"Last processed doc_id:\", doc_id)\n",
        "        #\n",
        "    input_file.close()\n",
        "    output_file.close()\n",
        "    print(\"Last processed doc_id:\", doc_id)\n",
        "    print()\n",
        "    print(\"max_shingle_id=\", max_shingle_id)\n",
        "    print()\n",
        "    print()\n",
        "    return max_shingle_id"
      ]
    },
    {
      "cell_type": "markdown",
      "metadata": {
        "id": "eJv9DuQx__lO"
      },
      "source": [
        "##### MinWise Hashing"
      ]
    },
    {
      "cell_type": "markdown",
      "metadata": {
        "id": "ivpMuaUhMmuq"
      },
      "source": [
        "> This simple function will (smartly) check if a number is prime."
      ]
    },
    {
      "cell_type": "code",
      "execution_count": null,
      "metadata": {
        "id": "D7jHTi3oAVyR"
      },
      "outputs": [],
      "source": [
        "def is_prime(number):\n",
        "    #\n",
        "    if number == 2:\n",
        "        return True\n",
        "    if (number % 2) == 0:\n",
        "        return False\n",
        "    for j in range(3, int(number ** 0.5 + 1), 2):\n",
        "        if (number % j) == 0:\n",
        "            return False\n",
        "    #\n",
        "    return True"
      ]
    },
    {
      "cell_type": "markdown",
      "metadata": {
        "id": "aWErchBRMzCm"
      },
      "source": [
        "> The `create_hash_functions` function will take as input the number of hash function desired and the upper bound on the number of distinct elements. It will generate the three values `(a, b, p)` that defines an hash function `number_of_hash_functions` times and return all this information into a dictionary. The optional seed argument will be used to set the random seed, so that the hash function obtained can be controlled."
      ]
    },
    {
      "cell_type": "code",
      "execution_count": null,
      "metadata": {
        "id": "OKSwBtGeAaaM"
      },
      "outputs": [],
      "source": [
        "def create_hash_functions(number_of_hash_functions, upper_bound_on_number_of_distinct_elements, seed=42):\n",
        "    random.seed(seed)\n",
        "    #\n",
        "    map__hash_function_id__a_b_p = {}\n",
        "    #\n",
        "    set_of_all_hash_functions = set()\n",
        "    while len(set_of_all_hash_functions) < number_of_hash_functions:\n",
        "        a = random.randint(1, upper_bound_on_number_of_distinct_elements - 1)\n",
        "        b = random.randint(0, upper_bound_on_number_of_distinct_elements - 1)\n",
        "        p = random.randint(upper_bound_on_number_of_distinct_elements, 10 * upper_bound_on_number_of_distinct_elements)\n",
        "        while is_prime(p) == False:\n",
        "            p = random.randint(upper_bound_on_number_of_distinct_elements,\n",
        "                               10 * upper_bound_on_number_of_distinct_elements)\n",
        "        #\n",
        "        c_hash_function = (a, b, p)\n",
        "        set_of_all_hash_functions.add(c_hash_function)\n",
        "    #\n",
        "    for c_hash_function_id, c_hash_function in enumerate(set_of_all_hash_functions):\n",
        "        map__hash_function_id__a_b_p[c_hash_function_id] = c_hash_function\n",
        "    #\n",
        "    return map__hash_function_id__a_b_p"
      ]
    },
    {
      "cell_type": "markdown",
      "metadata": {
        "id": "0KupStvkPSKJ"
      },
      "source": [
        "> The `create_c_set_MinWiseHashing_sketch` function will receive as input a set of shingles, a list of hash functions parameters and the total number of hash functions to use. For each hash function, it applies it to each shingle and keeps the minimum value. It gives as output the MinWiseHashing sketch as a list."
      ]
    },
    {
      "cell_type": "code",
      "execution_count": null,
      "metadata": {
        "id": "_m_TozooAadC"
      },
      "outputs": [],
      "source": [
        "def create_c_set_MinWiseHashing_sketch(c_set,\n",
        "                                       map_as_list__index__a_b_p,\n",
        "                                       total_number_of_hash_functions):\n",
        "    plus_inf = float(\"+inf\")\n",
        "    c_set_MinWiseHashing_sketch = [plus_inf] * total_number_of_hash_functions\n",
        "    #\n",
        "    for c_element_id in c_set:\n",
        "        index = -1\n",
        "        for a, b, p in map_as_list__index__a_b_p:\n",
        "            index += 1\n",
        "            #\n",
        "            c_hash_value = (a * c_element_id + b) % p\n",
        "            #\n",
        "            if c_hash_value < c_set_MinWiseHashing_sketch[index]:\n",
        "                c_set_MinWiseHashing_sketch[index] = c_hash_value\n",
        "            #\n",
        "        #   \n",
        "    #\n",
        "    return c_set_MinWiseHashing_sketch"
      ]
    },
    {
      "cell_type": "markdown",
      "metadata": {
        "id": "-5rzEwlNPq36"
      },
      "source": [
        "> The `create_MinWiseHashing_sketches` function first generates the list of hash functions. Then it iterates through the input file containing the set of shingles for each document, computing the MinWiseHashing sketch for each set of shingles and storing this information into a dictionary. This variable is then saved into an output file."
      ]
    },
    {
      "cell_type": "code",
      "execution_count": null,
      "metadata": {
        "id": "DWi1XmHbAagA"
      },
      "outputs": [],
      "source": [
        "def create_MinWiseHashing_sketches(input_file_name, upper_bound_on_number_of_distinct_elements,\n",
        "                                   number_of_hash_functions_that_is_also_the_sketch_lenght_and_also_the_number_of_simulated_permutations,\n",
        "                                   output_file_name):\n",
        "    #\n",
        "    map__hash_function_id__a_b_p = create_hash_functions(\n",
        "        number_of_hash_functions_that_is_also_the_sketch_lenght_and_also_the_number_of_simulated_permutations,\n",
        "        upper_bound_on_number_of_distinct_elements)\n",
        "    #\n",
        "    map__set_id__MinWiseHashing_sketch = {}\n",
        "    #\n",
        "    total_number_of_hash_functions = len(map__hash_function_id__a_b_p)\n",
        "    # sorted_list_all_hash_function_id = sorted(map__hash_function_id__a_b_p.keys())\n",
        "    map_as_list__index__a_b_p = tuple([(a, b, p) for a, b, p in map__hash_function_id__a_b_p.values()])\n",
        "    #\n",
        "    input_file = open(input_file_name, 'r', encoding=\"utf-8\")\n",
        "    input_file_csv_reader = csv.reader(input_file, delimiter='\\t', quotechar='\"', quoting=csv.QUOTE_NONE)\n",
        "    header = next(input_file_csv_reader)\n",
        "    num_record_so_far = 0\n",
        "    for record in input_file_csv_reader:\n",
        "      num_record_so_far += 1\n",
        "      if num_record_so_far % 100 == 0:\n",
        "          print(num_record_so_far)\n",
        "      c_set_id = int(record[0])\n",
        "      c_set = eval(record[1])\n",
        "\n",
        "      c_set_MinWiseHashing_sketch = create_c_set_MinWiseHashing_sketch(c_set,map_as_list__index__a_b_p,total_number_of_hash_functions)\n",
        "      \n",
        "      #print(len(c_set_MinWiseHashing_sketch))\n",
        "      map__set_id__MinWiseHashing_sketch[c_set_id] = c_set_MinWiseHashing_sketch\n",
        "    input_file.close()\n",
        "    #\n",
        "    output_file = open(output_file_name, 'w', encoding=\"utf-8\")\n",
        "    output_file_csv_writer = csv.writer(output_file, delimiter='\\t', quotechar='\"', quoting=csv.QUOTE_NONE)\n",
        "    header = ['set_id', 'MinWiseHashing_sketch']\n",
        "    output_file_csv_writer.writerow(header)\n",
        "    sorted_list_all_set_id = sorted(map__set_id__MinWiseHashing_sketch.keys())\n",
        "    for c_set_id in sorted_list_all_set_id:\n",
        "        output_file_csv_writer.writerow([c_set_id, str(map__set_id__MinWiseHashing_sketch[c_set_id])])\n",
        "    output_file.close()\n",
        "    #\n",
        "    return"
      ]
    },
    {
      "cell_type": "markdown",
      "metadata": {
        "id": "DUUB4ycZA_yG"
      },
      "source": [
        "##### Locality-Sensitive Hashing"
      ]
    },
    {
      "cell_type": "markdown",
      "metadata": {
        "id": "Hw7m8rkyUBG5"
      },
      "source": [
        "> This function will simply load the MinWiseHashing sketches from the given input file."
      ]
    },
    {
      "cell_type": "code",
      "execution_count": null,
      "metadata": {
        "id": "1t1DSF61CAro"
      },
      "outputs": [],
      "source": [
        "def load_map__set_id__MinWiseHashing_sketch_from_file(input_file_name):\n",
        "    map__set_id__MinWiseHashing_sketch = {}\n",
        "    #\n",
        "    input_file = open(input_file_name, 'r', encoding=\"utf-8\")\n",
        "    input_file_csv_reader = csv.reader(input_file, delimiter='\\t', quotechar='\"', quoting=csv.QUOTE_NONE)\n",
        "    header = next(input_file_csv_reader)\n",
        "    for record in input_file_csv_reader:\n",
        "        c_set_id = int(record[0])\n",
        "        c_MinhiseHashing_sketch = tuple(eval(record[1]))\n",
        "        #\n",
        "        map__set_id__MinWiseHashing_sketch[c_set_id] = c_MinhiseHashing_sketch\n",
        "        #\n",
        "    input_file.close()\n",
        "    #\n",
        "    return map__set_id__MinWiseHashing_sketch"
      ]
    },
    {
      "cell_type": "markdown",
      "metadata": {
        "id": "ja6hECAzUMMq"
      },
      "source": [
        "> The function computes the sets of unordered couples of document identifiers for which there is at least one band in common between the MinWiseHashing sketches. It takes in input the number or rows and the number of bands and the MinWiseHashing sketches. The number of rows (r) multiplied by the number of bands (b) must be equal to the size of the sketches (n): r*b = n."
      ]
    },
    {
      "cell_type": "code",
      "execution_count": null,
      "metadata": {
        "id": "NPIGRJMDCAus"
      },
      "outputs": [],
      "source": [
        "def get_set_of_CANDIDATES_to_be_near_duplicates(r, b, map__set_id__MinWiseHashing_sketch):\n",
        "    #\n",
        "    set_of_CANDIDATES_to_be_near_duplicates = set()\n",
        "    #\n",
        "    for c_band_progressive_id in range(b):\n",
        "        #\n",
        "        print(\"c_band_progressive_id\", c_band_progressive_id)\n",
        "        #\n",
        "        c_band_starting_index = c_band_progressive_id * r\n",
        "        c_band_ending_index = (c_band_progressive_id + 1) * r\n",
        "        #\n",
        "        map__band__set_set_id = {}\n",
        "        #\n",
        "        for c_set_id in map__set_id__MinWiseHashing_sketch:\n",
        "            #\n",
        "            if r * b != len(map__set_id__MinWiseHashing_sketch[c_set_id]):\n",
        "                n = len(map__set_id__MinWiseHashing_sketch[c_set_id])\n",
        "                message = \"ERROR!!! n != r*b \" + str(n) + \"!=\" + str(r * b) + \"; \" + str(n) + \"!=\" + str(r) + \"*\" + str(\n",
        "                    b)\n",
        "                raise ValueError(message)\n",
        "            #\n",
        "            c_band_for_c_set = tuple(\n",
        "                map__set_id__MinWiseHashing_sketch[c_set_id][c_band_starting_index:c_band_ending_index])\n",
        "            #\n",
        "            if c_band_for_c_set not in map__band__set_set_id:\n",
        "                map__band__set_set_id[c_band_for_c_set] = set()\n",
        "            map__band__set_set_id[c_band_for_c_set].add(c_set_id)\n",
        "            #\n",
        "\n",
        "        for c_set_set_id in map__band__set_set_id.values():\n",
        "            #\n",
        "            if len(c_set_set_id) > 1:\n",
        "                #\n",
        "                for set_id_a, set_id_A in it.combinations(c_set_set_id, 2):\n",
        "                    if set_id_a < set_id_A:\n",
        "                        set_of_CANDIDATES_to_be_near_duplicates.add((set_id_a, set_id_A))\n",
        "                    else:\n",
        "                        set_of_CANDIDATES_to_be_near_duplicates.add((set_id_A, set_id_a))\n",
        "        #\n",
        "    #\n",
        "    return set_of_CANDIDATES_to_be_near_duplicates"
      ]
    },
    {
      "cell_type": "markdown",
      "metadata": {
        "id": "ofnFImy0YNV-"
      },
      "source": [
        "> Given two MinWiseHashing sketches, this function will iterate through each of them, counting how many items are equal. Then, it will output this count divided by the length of the sketches."
      ]
    },
    {
      "cell_type": "code",
      "execution_count": null,
      "metadata": {
        "id": "57dNKrAKCFjh"
      },
      "outputs": [],
      "source": [
        "def compute_approximate_jaccard(set_a_MinWiseHashing_sketch, set_b_MinWiseHashing_sketch):\n",
        "    appx_jaccard = 0.\n",
        "    #\n",
        "    for index in range(len(set_a_MinWiseHashing_sketch)):\n",
        "        #\n",
        "        if set_a_MinWiseHashing_sketch[index] == set_b_MinWiseHashing_sketch[index]:\n",
        "            appx_jaccard += 1\n",
        "        #\n",
        "    appx_jaccard /= len(set_a_MinWiseHashing_sketch)\n",
        "    #\n",
        "    return appx_jaccard"
      ]
    },
    {
      "cell_type": "markdown",
      "metadata": {
        "id": "_2Qqyf2bYrKf"
      },
      "source": [
        "> Given a Jaccard Threshold, this function will iterate through the list of near duplicates CANDIDATES, computing for each of them the approximate jaccard. If this value overcomes the threshold, the candidate pair is added to a dictionary to be returned."
      ]
    },
    {
      "cell_type": "code",
      "execution_count": null,
      "metadata": {
        "id": "4h0Q9ODhCAxg"
      },
      "outputs": [],
      "source": [
        "def compute_approximate_jaccard_to_REDUCE_the_number_of_CANDIDATES_to_be_near_duplicates(\n",
        "        set_of_CANDIDATES_to_be_near_duplicates,\n",
        "        map__set_id__MinWiseHashing_sketch, jaccard_threshold):\n",
        "    map__set_a_id__set_A_id__appx_jaccard = {}\n",
        "    #\n",
        "    for set_a_id, set_A_id in set_of_CANDIDATES_to_be_near_duplicates:\n",
        "        #\n",
        "        set_a_MinWiseHashing_sketch = map__set_id__MinWiseHashing_sketch[set_a_id]\n",
        "        set_A_MinWiseHashing_sketch = map__set_id__MinWiseHashing_sketch[set_A_id]\n",
        "        #\n",
        "        appx_jaccard = compute_approximate_jaccard(set_a_MinWiseHashing_sketch, set_A_MinWiseHashing_sketch)\n",
        "        #\n",
        "        if appx_jaccard >= jaccard_threshold:\n",
        "            map__set_a_id__set_A_id__appx_jaccard[(set_a_id, set_A_id)] = appx_jaccard\n",
        "        #\n",
        "    #\n",
        "    return map__set_a_id__set_A_id__appx_jaccard"
      ]
    },
    {
      "cell_type": "markdown",
      "metadata": {
        "id": "Gr_U6pCZahp6"
      },
      "source": [
        "> This function simply calls all the four previous functions in order; loads the MinWiseHashing sketches, gets the CANDIDATES to be near-duplicates and computes the approximate Jaccard to REDUCE the number of CANDIDATES."
      ]
    },
    {
      "cell_type": "code",
      "execution_count": null,
      "metadata": {
        "id": "xRA7U7VXCGUq"
      },
      "outputs": [],
      "source": [
        "def mine_couples_of_Near_Duplicates(input_file_name, r, b, jaccard_threshold):\n",
        "    #\n",
        "    print(\"Starting the loading of the MinWiseHashing sketches from the input file.\")\n",
        "    map__set_id__MinWiseHashing_sketch = load_map__set_id__MinWiseHashing_sketch_from_file(input_file_name)\n",
        "    print()\n",
        "    print(\"Number of sets=\", len(map__set_id__MinWiseHashing_sketch))\n",
        "    print()\n",
        "    #\n",
        "    print(\"Starting the mining of the CANDIDATES couples to be near duplicates.\")\n",
        "    set_of_CANDIDATES_to_be_near_duplicates = get_set_of_CANDIDATES_to_be_near_duplicates(r, b,\n",
        "                                                                                          map__set_id__MinWiseHashing_sketch)\n",
        "    #\n",
        "    print()\n",
        "    print(\"Number of pairs of sets to be near-duplicate CANDIDATES=\", len(set_of_CANDIDATES_to_be_near_duplicates))\n",
        "    print()\n",
        "    #\n",
        "    map__set_a_id__set_A_id__appx_jaccard = compute_approximate_jaccard_to_REDUCE_the_number_of_CANDIDATES_to_be_near_duplicates(\n",
        "        set_of_CANDIDATES_to_be_near_duplicates, map__set_id__MinWiseHashing_sketch, jaccard_threshold)\n",
        "    print()\n",
        "    print(\"Number of REFINED pairs of sets to be near-duplicate CANDIDATES=\",\n",
        "          len(map__set_a_id__set_A_id__appx_jaccard))\n",
        "    print()\n",
        "    #\n",
        "    output_file = open(output_file_name, 'w', encoding=\"utf-8\")\n",
        "    output_file_csv_writer = csv.writer(output_file, delimiter='\\t', quotechar='\"', quoting=csv.QUOTE_NONE)\n",
        "    header = ['set_a_id', 'set_b_id', 'approximate_jaccard']\n",
        "    output_file_csv_writer.writerow(header)\n",
        "    sorted_list_all_set_id = sorted(map__set_id__MinWiseHashing_sketch.keys())\n",
        "    for set_a_id__set_A_id in map__set_a_id__set_A_id__appx_jaccard:\n",
        "        appx_jaccard = map__set_a_id__set_A_id__appx_jaccard[set_a_id__set_A_id]\n",
        "        output_file_csv_writer.writerow([set_a_id__set_A_id[0], set_a_id__set_A_id[1], appx_jaccard])\n",
        "    output_file.close()\n",
        "    return"
      ]
    },
    {
      "cell_type": "markdown",
      "metadata": {
        "id": "t9s4e_vRiUc8"
      },
      "source": [
        "### Part 2.1"
      ]
    },
    {
      "cell_type": "markdown",
      "metadata": {
        "id": "3acS73sLiUc-"
      },
      "source": [
        "####2.1.1\n",
        "Download the dataset from the Drive link (code already provided). "
      ]
    },
    {
      "cell_type": "code",
      "execution_count": null,
      "metadata": {
        "id": "WYRrfrntRZbE",
        "colab": {
          "base_uri": "https://localhost:8080/"
        },
        "outputId": "483c402f-fe58-416d-93a0-463f00eacc36"
      },
      "outputs": [
        {
          "output_type": "stream",
          "name": "stdout",
          "text": [
            "Requirement already satisfied: gdown in /usr/local/lib/python3.7/dist-packages (4.4.0)\n",
            "Requirement already satisfied: requests[socks] in /usr/local/lib/python3.7/dist-packages (from gdown) (2.23.0)\n",
            "Requirement already satisfied: beautifulsoup4 in /usr/local/lib/python3.7/dist-packages (from gdown) (4.6.3)\n",
            "Requirement already satisfied: tqdm in /usr/local/lib/python3.7/dist-packages (from gdown) (4.64.0)\n",
            "Requirement already satisfied: six in /usr/local/lib/python3.7/dist-packages (from gdown) (1.15.0)\n",
            "Requirement already satisfied: filelock in /usr/local/lib/python3.7/dist-packages (from gdown) (3.6.0)\n",
            "Requirement already satisfied: idna<3,>=2.5 in /usr/local/lib/python3.7/dist-packages (from requests[socks]->gdown) (2.10)\n",
            "Requirement already satisfied: certifi>=2017.4.17 in /usr/local/lib/python3.7/dist-packages (from requests[socks]->gdown) (2021.10.8)\n",
            "Requirement already satisfied: urllib3!=1.25.0,!=1.25.1,<1.26,>=1.21.1 in /usr/local/lib/python3.7/dist-packages (from requests[socks]->gdown) (1.24.3)\n",
            "Requirement already satisfied: chardet<4,>=3.0.2 in /usr/local/lib/python3.7/dist-packages (from requests[socks]->gdown) (3.0.4)\n",
            "Requirement already satisfied: PySocks!=1.5.7,>=1.5.6 in /usr/local/lib/python3.7/dist-packages (from requests[socks]->gdown) (1.7.1)\n"
          ]
        }
      ],
      "source": [
        "!pip install --upgrade --no-cache-dir gdown"
      ]
    },
    {
      "cell_type": "code",
      "execution_count": null,
      "metadata": {
        "id": "32gvfqlniUc_",
        "colab": {
          "base_uri": "https://localhost:8080/"
        },
        "outputId": "42b6cfdb-38ac-426e-c8c6-dcbd711b500a"
      },
      "outputs": [
        {
          "output_type": "stream",
          "name": "stdout",
          "text": [
            "Downloading...\n",
            "From: https://drive.google.com/uc?id=1zvpg8b4JvmXUciJI4sg1xq5RFuaBm_nD\n",
            "To: /content/250K_lyrics_from_MetroLyrics.csv\n",
            "100% 307M/307M [00:01<00:00, 169MB/s]\n"
          ]
        }
      ],
      "source": [
        "!gdown 1zvpg8b4JvmXUciJI4sg1xq5RFuaBm_nD"
      ]
    },
    {
      "cell_type": "markdown",
      "metadata": {
        "id": "5ayMSVnIkw7U"
      },
      "source": [
        "####2.1.2\n",
        "Inspect the dataset: print the list of fields names. Print the value of the `artist` field for the first and last document."
      ]
    },
    {
      "cell_type": "code",
      "execution_count": null,
      "metadata": {
        "id": "FPnts4j8kw7e",
        "colab": {
          "base_uri": "https://localhost:8080/"
        },
        "outputId": "c1787db7-159d-4869-99d2-74141a79e6c7"
      },
      "outputs": [
        {
          "output_type": "stream",
          "name": "stdout",
          "text": [
            "  Lyrics Fields\n",
            "0            ID\n",
            "1          song\n",
            "2          year\n",
            "3        artist\n",
            "4         genre\n",
            "5        lyrics\n",
            "\n",
            "Artist field for the first document: beyonce-knowles\n",
            "\n",
            "Artist field for the last document: dwight-yoakam\n"
          ]
        }
      ],
      "source": [
        "#YOUR CODE STARTS HERE#\n",
        "# import the dataset\n",
        "Lyrics = pd.read_csv('/content/250K_lyrics_from_MetroLyrics.csv')\n",
        "\n",
        "# print the Lyrics field\n",
        "lyrics_field = list(Lyrics.columns) \n",
        "nice_print = pd.DataFrame( lyrics_field )\n",
        "nice_print.rename(columns = {0: 'Lyrics Fields'}, inplace = True)\n",
        "print(nice_print)\n",
        "print()\n",
        "\n",
        "# print of the Artis field for the first and last document\n",
        "print(\"Artist field for the first document:\", Lyrics.artist.iloc[0])\n",
        "print()\n",
        "print(\"Artist field for the last document:\",Lyrics.artist.iloc[-1])\n",
        "\n",
        "\n",
        "\n",
        "#YOUR CODE ENDS HERE#\n",
        "#THIS IS LINE 20#"
      ]
    },
    {
      "cell_type": "markdown",
      "metadata": {
        "id": "xnZrDCOnjTsn"
      },
      "source": [
        "####2.1.3\n",
        "Turn the lyrics field of each document into a sets of shingles of length 3 and save the result to a file named `hw1__set_id__set_of_integers.tsv`"
      ]
    },
    {
      "cell_type": "code",
      "execution_count": null,
      "metadata": {
        "id": "_pkaOulsjTs1"
      },
      "outputs": [],
      "source": [
        "#YOUR CODE STARTS HERE#\n",
        "lyrics_field = Lyrics.lyrics\n",
        "\n",
        "# define all the parameters for the shingle creation\n",
        "input_file_name = \"250K_lyrics_from_MetroLyrics.csv\"\n",
        "input_file_delimiter = ','\n",
        "input_file_quotechar = '\"'\n",
        "output_file_name = \"hw1__set_id__set_of_integers.tsv\"\n",
        "shingle_width = 3\n",
        "doc_id_column_idx = 0\n",
        "field_column_idx = 5\n",
        "\n",
        "# compute the sets of shingles\n",
        "max_shingle_id = -1\n",
        "map__shingle__shingle_id = {}\n",
        "max_shingle_id = create_sets_of_shingle_ids(input_file_name, output_file_name, input_file_delimiter,\n",
        "                                            input_file_quotechar, set__characters_of_interest, shingle_width,\n",
        "                                            doc_id_column_idx, field_column_idx)\n",
        "#YOUR CODE ENDS HERE#\n",
        "#THIS IS LINE 20#"
      ]
    },
    {
      "cell_type": "markdown",
      "metadata": {
        "id": "epPcNrZneMMH"
      },
      "source": [
        "####2.1.4\n",
        "Load the file containing the sets of shingles and apply MinWiseHashing, saving the result into a file named `hw1__set_id__MinWiseHashing_sketch.tsv`. Choose the number of hash functions (n) in relation to the constraints highlighted at the beginning of part 2. Provide an explanation for your choice in **exactly one sentence**."
      ]
    },
    {
      "cell_type": "markdown",
      "metadata": {
        "id": "F-ecIe9gykmK"
      },
      "source": [
        "----------YOUR TEXT STARTS HERE----------\n",
        "\n",
        "We decided to choose #hash_functions = 210, because trying different configurations of (n_hash, r,b) we found that with this value we have a great number of candidate remaining in the required condition and also we want to have quality refined candidates (less FP), instead of using a lower number of hash function that reduce the accuracy of the jaccard similarity without trade quantity for quality. "
      ]
    },
    {
      "cell_type": "code",
      "execution_count": null,
      "metadata": {
        "id": "QaRV1E49eMMN"
      },
      "outputs": [],
      "source": [
        "#YOUR CODE STARTS HERE#\n",
        "input_file_name = \"hw1__set_id__set_of_integers.tsv\"\n",
        "max_shingle_id = 17562076\n",
        "output_file_name = \"hw1__set_id__MinWiseHashing_sketch.tsv\"\n",
        "\n",
        "number_of_hash_functions_that_is_also_the_sketch_length_and_also_the_number_of_simulated_permutations = 210\n",
        "\n",
        "create_MinWiseHashing_sketches(input_file_name, max_shingle_id,\n",
        "                               number_of_hash_functions_that_is_also_the_sketch_length_and_also_the_number_of_simulated_permutations,\n",
        "                               output_file_name)\n",
        "\n",
        "\n",
        "\n",
        "\n",
        "\n",
        "\n",
        "\n",
        "\n",
        "#YOUR CODE ENDS HERE#\n",
        "#THIS IS LINE 20#"
      ]
    },
    {
      "cell_type": "markdown",
      "metadata": {
        "id": "338Hp84Wff4h"
      },
      "source": [
        "####2.1.5\n",
        "To perform Locality Sensivity Hashing, you have to choose the number of rows (r) and the number bands (b). List all the possible choices of r and b that satisfy the constraints highlighted at the beginning of part 2, according to the number of hash functions you chose.\n",
        "\n",
        "For all of these configurations, plot all the associated S-curves. The S-curve is defined as the probability (y-axis) that a pair of documents with Jaccard similarity j (x-axis) is selected as a near-duplicate candidate given r and b. Plot all S-curves in the same plot."
      ]
    },
    {
      "cell_type": "code",
      "execution_count": null,
      "metadata": {
        "id": "YbKkdFpUff4j",
        "colab": {
          "base_uri": "https://localhost:8080/",
          "height": 501
        },
        "outputId": "05f357ce-7918-4b1a-b375-ffd345b53135"
      },
      "outputs": [
        {
          "output_type": "display_data",
          "data": {
            "text/plain": [
              "<Figure size 1008x576 with 1 Axes>"
            ],
            "image/png": "[encoded data removed]"
          },
          "metadata": {
            "needs_background": "light"
          }
        }
      ],
      "source": [
        "#YOUR CODE STARTS HERE#\n",
        "n_hash = number_of_hash_functions_that_is_also_the_sketch_length_and_also_the_number_of_simulated_permutations\n",
        "r_grid = range(1,n_hash+1)\n",
        "b_grid = range(1,n_hash+1)\n",
        "\n",
        "def S_curve(r,b, s = 0.95):\n",
        "  return( 1-(1-s**r)**b )\n",
        "\n",
        "pair = []\n",
        "for r in r_grid:\n",
        "  for b in b_grid:\n",
        "    if S_curve(r,b) > 0.97 and r*b == n_hash:\n",
        "      pair.append((r,b))\n",
        "    \n",
        "x_grid = np.linspace(0, 1, num = 1000)\n",
        "fig, ax = plt.subplots(nrows = 1, ncols = 1, figsize = (14,8))\n",
        "for par in pair:\n",
        "  yy = S_curve(par[0], par[1], x_grid)\n",
        "  name = 'r='+str(par[0])+',b='+str(par[1])\n",
        "  ax.plot(x_grid,  yy, label = name)\n",
        "\n",
        "plt.vlines(x = .95, ymin = 0, ymax = 1, linestyles = 'dashed', colors = 'k')\n",
        "ax.set_xlabel('Real Jaccard similarity', fontsize = 14)\n",
        "ax.set_ylabel('Probability to be near duplicate', fontsize = 14)\n",
        "ax.legend(fontsize = 15);\n",
        "\n",
        "\n",
        "\n",
        "#YOUR CODE ENDS HERE#\n",
        "#THIS IS LINE 30#"
      ]
    },
    {
      "cell_type": "markdown",
      "metadata": {
        "id": "xiT7X_6tzxKB"
      },
      "source": [
        "####2.1.6\n",
        "Among all the configurations you plotted in the previous step, choose the one that gives the smallest amount of False-Positives and False-Negatives near-duplicates candidates, satisfying the provided constraints. You **must** take into account, that after the LSH procedure, the approximate Jaccard similarity between near-duplicate candidates is computed and used to reduce their number.\n",
        "\n",
        "Provide an explanation for your choice in **at most 3 sentences**."
      ]
    },
    {
      "cell_type": "markdown",
      "metadata": {
        "id": "VxGIyQL0zxKD"
      },
      "source": [
        "----------YOUR TEXT STARTS HERE----------\n",
        "\n",
        "We decide to choose the couple $(r,b) = (3, 70)$ because after trying all the possible configuration , this is the one that gives us **more** candidate (with possible more FP) and lower FN in the required time $< 10$ min. \n",
        "\n",
        "The goals for us is that at fixed number of hash functions, assuming a set of configurations that finish in time the LSH procedure, we choose the one that gives more candidate, without the risk of obtaining more FP, because this number will be reduce using the Approximate Jaccard part of the pipeline."
      ]
    },
    {
      "cell_type": "code",
      "execution_count": null,
      "metadata": {
        "id": "B29wNwF-3cs3"
      },
      "outputs": [],
      "source": [
        "#YOUR CODE STARTS HERE#\n",
        "r = 3\n",
        "b = 70\n",
        "#YOUR CODE ENDS HERE#\n",
        "#THIS IS LINE 5#"
      ]
    },
    {
      "cell_type": "markdown",
      "metadata": {
        "id": "DSB4fmyuziPY"
      },
      "source": [
        "####2.1.7\n",
        "Load the file containing the MinWiseHashing sketches and perform Locality Sensivity Hashing, using the parameters you chose in last step, considering also the computation of approximate Jaccard to reduce the number of candidates. Save the Near-Duplicates candidates obtained to a file named `hw1__NearDuplicates__set_a_id__set_b_id__approximate_jaccard.tsv`.\n",
        "\n",
        "Print the execution time."
      ]
    },
    {
      "cell_type": "code",
      "execution_count": null,
      "metadata": {
        "id": "ldSDHOACziPc",
        "colab": {
          "base_uri": "https://localhost:8080/"
        },
        "outputId": "f1a8cbce-9e3d-4fb5-8ec0-b160d74999fe"
      },
      "outputs": [
        {
          "output_type": "stream",
          "name": "stdout",
          "text": [
            "Starting the loading of the MinWiseHashing sketches from the input file.\n",
            "\n",
            "Number of sets= 249999\n",
            "\n",
            "Starting the mining of the CANDIDATES couples to be near duplicates.\n",
            "c_band_progressive_id 0\n",
            "c_band_progressive_id 1\n",
            "c_band_progressive_id 2\n",
            "c_band_progressive_id 3\n",
            "c_band_progressive_id 4\n",
            "c_band_progressive_id 5\n",
            "c_band_progressive_id 6\n",
            "c_band_progressive_id 7\n",
            "c_band_progressive_id 8\n",
            "c_band_progressive_id 9\n",
            "c_band_progressive_id 10\n",
            "c_band_progressive_id 11\n",
            "c_band_progressive_id 12\n",
            "c_band_progressive_id 13\n",
            "c_band_progressive_id 14\n",
            "c_band_progressive_id 15\n",
            "c_band_progressive_id 16\n",
            "c_band_progressive_id 17\n",
            "c_band_progressive_id 18\n",
            "c_band_progressive_id 19\n",
            "c_band_progressive_id 20\n",
            "c_band_progressive_id 21\n",
            "c_band_progressive_id 22\n",
            "c_band_progressive_id 23\n",
            "c_band_progressive_id 24\n",
            "c_band_progressive_id 25\n",
            "c_band_progressive_id 26\n",
            "c_band_progressive_id 27\n",
            "c_band_progressive_id 28\n",
            "c_band_progressive_id 29\n",
            "c_band_progressive_id 30\n",
            "c_band_progressive_id 31\n",
            "c_band_progressive_id 32\n",
            "c_band_progressive_id 33\n",
            "c_band_progressive_id 34\n",
            "c_band_progressive_id 35\n",
            "c_band_progressive_id 36\n",
            "c_band_progressive_id 37\n",
            "c_band_progressive_id 38\n",
            "c_band_progressive_id 39\n",
            "c_band_progressive_id 40\n",
            "c_band_progressive_id 41\n",
            "c_band_progressive_id 42\n",
            "c_band_progressive_id 43\n",
            "c_band_progressive_id 44\n",
            "c_band_progressive_id 45\n",
            "c_band_progressive_id 46\n",
            "c_band_progressive_id 47\n",
            "c_band_progressive_id 48\n",
            "c_band_progressive_id 49\n",
            "c_band_progressive_id 50\n",
            "c_band_progressive_id 51\n",
            "c_band_progressive_id 52\n",
            "c_band_progressive_id 53\n",
            "c_band_progressive_id 54\n",
            "c_band_progressive_id 55\n",
            "c_band_progressive_id 56\n",
            "c_band_progressive_id 57\n",
            "c_band_progressive_id 58\n",
            "c_band_progressive_id 59\n",
            "c_band_progressive_id 60\n",
            "c_band_progressive_id 61\n",
            "c_band_progressive_id 62\n",
            "c_band_progressive_id 63\n",
            "c_band_progressive_id 64\n",
            "c_band_progressive_id 65\n",
            "c_band_progressive_id 66\n",
            "c_band_progressive_id 67\n",
            "c_band_progressive_id 68\n",
            "c_band_progressive_id 69\n",
            "\n",
            "Number of pairs of sets to be near-duplicate CANDIDATES= 152540\n",
            "\n",
            "\n",
            "Number of REFINED pairs of sets to be near-duplicate CANDIDATES= 34091\n",
            "\n",
            "\n",
            "\n",
            "\n",
            "The execution time of the LSH + Approx Jaccard pipeline is: 00:03:06.95\n"
          ]
        }
      ],
      "source": [
        "#YOUR CODE STARTS HERE#\n",
        "jaccard_threshold = 0.95\n",
        "\n",
        "input_file_name = \"hw1__set_id__MinWiseHashing_sketch.tsv\"\n",
        "output_file_name = \"hw1__NearDuplicates__set_a_id__set_b_id__approximate_jaccard.tsv\"\n",
        "\n",
        "start = timer()\n",
        "mine_couples_of_Near_Duplicates(input_file_name, r, b, jaccard_threshold)\n",
        "end = timer()\n",
        "\n",
        "def print_execution_time(start,end):\n",
        "  hours, rem = divmod(end-start, 3600)\n",
        "  minutes, seconds = divmod(rem, 60)\n",
        "  print(\"The execution time of the LSH + Approx Jaccard pipeline is: {:0>2}:{:0>2}:{:05.2f}\".format(int(hours),int(minutes),seconds))\n",
        "\n",
        "print(\"\\n\\n\")\n",
        "print_execution_time(start,end)\n",
        "\n",
        "\n",
        "\n",
        "\n",
        "\n",
        "\n",
        "\n",
        "\n",
        "\n",
        "\n",
        "\n",
        "#YOUR CODE ENDS HERE#\n",
        "#THIS IS LINE 30#"
      ]
    },
    {
      "cell_type": "markdown",
      "metadata": {
        "id": "jYELuuPT5GVA"
      },
      "source": [
        "####2.1.8\n",
        "Load the file containing the number of near-duplicates candidates. Print the number of near-duplicates candidates you found."
      ]
    },
    {
      "cell_type": "code",
      "execution_count": null,
      "metadata": {
        "id": "axXzdylh5GVC",
        "colab": {
          "base_uri": "https://localhost:8080/"
        },
        "outputId": "cb3814f6-3876-4756-cba8-4b59902bc3bb"
      },
      "outputs": [
        {
          "output_type": "stream",
          "name": "stdout",
          "text": [
            "The number of near-duplicates candidates are: 34091\n"
          ]
        }
      ],
      "source": [
        "#YOUR CODE STARTS HERE#\n",
        "\n",
        "near_duplicate_pairs = pd.read_csv(\"hw1__NearDuplicates__set_a_id__set_b_id__approximate_jaccard.tsv\",\n",
        "                                   sep='\\t')\n",
        "\n",
        "print(\"The number of near-duplicates candidates are:\", len(near_duplicate_pairs))\n",
        "\n",
        "\n",
        "\n",
        "\n",
        "\n",
        "\n",
        "\n",
        "\n",
        "\n",
        "\n",
        "\n",
        "\n",
        "\n",
        "\n",
        "\n",
        "\n",
        "\n",
        "\n",
        "\n",
        "\n",
        "\n",
        "\n",
        "#YOUR CODE ENDS HERE#\n",
        "#THIS IS LINE 30#"
      ]
    },
    {
      "cell_type": "markdown",
      "metadata": {
        "id": "YKl8F5SM84CD"
      },
      "source": [
        "### Part 2.2\n",
        "You will be given different scenarios and you will have to provide the best solution."
      ]
    },
    {
      "cell_type": "markdown",
      "metadata": {
        "id": "EzR188Vg5XI9"
      },
      "source": [
        "####2.2.1\n",
        "Explain in **at most 3 sentences** how is possible to modify the provided Near-Duplicates Detection pipeline to have exactly 0 False-Positives in output. A brute-force approach is not considered as a valid solution."
      ]
    },
    {
      "cell_type": "markdown",
      "metadata": {
        "id": "ci78JvZE8rJg"
      },
      "source": [
        "----------YOUR TEXT STARTS HERE----------\n",
        "\n",
        "The FP given by the LSH, are pair that have true jaccard similarity less than the treshold but are in the output.\n",
        "\n",
        "So if we want to modify the pipeline to have 0 FP, after we have a set of near duplicate given by the LSH phase, we can directly perform the true jaccard similarity on the documents using the shingle matrix instead of the approximate jaccard that will use the sketch.\n",
        "\n",
        "In this way the FP that pass the LSH, will perfectly removed by the real jaccard but we will surely increase the computational time.\n"
      ]
    },
    {
      "cell_type": "markdown",
      "metadata": {
        "id": "ABBRS3cJ81-Q"
      },
      "source": [
        "####2.2.2\n",
        "Consider the following scenario. You have to perform the entire Near-Duplicates pipeline by using exactly 1 hash function (n = r = b = 1). If we consider as Near-duplicates only couples of documents with Jaccard similarity exactly equal to 1, what is the amount of False-Positives and False-Negatives near-duplicates candidates generated in output by this configuration?\n",
        "\n",
        "Provide your answer in **at most 3 sentences**."
      ]
    },
    {
      "cell_type": "markdown",
      "metadata": {
        "id": "eTr1LUJd81-T"
      },
      "source": [
        "----------YOUR TEXT STARTS HERE----------\n",
        "\n",
        "If we look at the S-curve with parameter $n=r=b=1$ we have that $1-(1-x^r)^b = 1-(1-x^1)^1=x$, so the S-curve is just the $y=x$ line with the number of FP given by the area under the curve at the treshold = 1 that is equal to $1/2$, and the number of FN is zero. \n",
        "\n",
        "Then if we move to the next step, there is the computation of the approximate jaccard that is $\\frac{\\#collision}{len(sketch)}=\\frac{\\#collision}{1}$ and in this case is 0/1 = 0, if there is no collision, 1 (= the only match possible) otherwise.\n",
        "\n",
        "As a result, the signature matrix is a $1 \\times \\#doc$ matrix, so the candidate pairs of the LSH are the couples that share the same single value (collision), but at the same time the jaccard approximation is based on the same single value, so this phase doesn't change the number of FP."
      ]
    }
  ],
  "metadata": {
    "colab": {
      "collapsed_sections": [
        "jYELuuPT5GVA"
      ],
      "provenance": [],
      "toc_visible": true
    },
    "kernelspec": {
      "display_name": "Python 3",
      "name": "python3"
    },
    "language_info": {
      "name": "python"
    },
    "widgets": {
      "application/vnd.jupyter.widget-state+json": {
        "617cdad06e8c461eaf888f114fc2212b": {
          "model_module": "@jupyter-widgets/controls",
          "model_name": "HBoxModel",
          "model_module_version": "1.5.0",
          "state": {
            "_dom_classes": [],
            "_model_module": "@jupyter-widgets/controls",
            "_model_module_version": "1.5.0",
            "_model_name": "HBoxModel",
            "_view_count": null,
            "_view_module": "@jupyter-widgets/controls",
            "_view_module_version": "1.5.0",
            "_view_name": "HBoxView",
            "box_style": "",
            "children": [
              "IPY_MODEL_4123676886ad4dffb1d92aa13232fcb4",
              "IPY_MODEL_7f5949bff12745ad9a0d7bd76955497e",
              "IPY_MODEL_206e7b46d41a43dfadb04a5cf8bbc443"
            ],
            "layout": "IPY_MODEL_a8913ecd94604f71977464f49337dbdc"
          }
        },
        "4123676886ad4dffb1d92aa13232fcb4": {
          "model_module": "@jupyter-widgets/controls",
          "model_name": "HTMLModel",
          "model_module_version": "1.5.0",
          "state": {
            "_dom_classes": [],
            "_model_module": "@jupyter-widgets/controls",
            "_model_module_version": "1.5.0",
            "_model_name": "HTMLModel",
            "_view_count": null,
            "_view_module": "@jupyter-widgets/controls",
            "_view_module_version": "1.5.0",
            "_view_name": "HTMLView",
            "description": "",
            "description_tooltip": null,
            "layout": "IPY_MODEL_1d019736574849879e8d58c0e4abd786",
            "placeholder": "​",
            "style": "IPY_MODEL_893707f561404d6e894216146458f40b",
            "value": "nfcorpus/dev documents: 100%"
          }
        },
        "7f5949bff12745ad9a0d7bd76955497e": {
          "model_module": "@jupyter-widgets/controls",
          "model_name": "FloatProgressModel",
          "model_module_version": "1.5.0",
          "state": {
            "_dom_classes": [],
            "_model_module": "@jupyter-widgets/controls",
            "_model_module_version": "1.5.0",
            "_model_name": "FloatProgressModel",
            "_view_count": null,
            "_view_module": "@jupyter-widgets/controls",
            "_view_module_version": "1.5.0",
            "_view_name": "ProgressView",
            "bar_style": "success",
            "description": "",
            "description_tooltip": null,
            "layout": "IPY_MODEL_a55fb5de0ba047b0a088767bbf60c34f",
            "max": 5371,
            "min": 0,
            "orientation": "horizontal",
            "style": "IPY_MODEL_d028e5fa2d824a89a5838a6bcf1cd5ff",
            "value": 5371
          }
        },
        "206e7b46d41a43dfadb04a5cf8bbc443": {
          "model_module": "@jupyter-widgets/controls",
          "model_name": "HTMLModel",
          "model_module_version": "1.5.0",
          "state": {
            "_dom_classes": [],
            "_model_module": "@jupyter-widgets/controls",
            "_model_module_version": "1.5.0",
            "_model_name": "HTMLModel",
            "_view_count": null,
            "_view_module": "@jupyter-widgets/controls",
            "_view_module_version": "1.5.0",
            "_view_name": "HTMLView",
            "description": "",
            "description_tooltip": null,
            "layout": "IPY_MODEL_7c23fc41641541dbb99d0eafd8fa9afc",
            "placeholder": "​",
            "style": "IPY_MODEL_b9546189e74149f68ad4cb0c9e4a487f",
            "value": " 5371/5371 [00:06&lt;00:00, 2278.64it/s]"
          }
        },
        "a8913ecd94604f71977464f49337dbdc": {
          "model_module": "@jupyter-widgets/base",
          "model_name": "LayoutModel",
          "model_module_version": "1.2.0",
          "state": {
            "_model_module": "@jupyter-widgets/base",
            "_model_module_version": "1.2.0",
            "_model_name": "LayoutModel",
            "_view_count": null,
            "_view_module": "@jupyter-widgets/base",
            "_view_module_version": "1.2.0",
            "_view_name": "LayoutView",
            "align_content": null,
            "align_items": null,
            "align_self": null,
            "border": null,
            "bottom": null,
            "display": null,
            "flex": null,
            "flex_flow": null,
            "grid_area": null,
            "grid_auto_columns": null,
            "grid_auto_flow": null,
            "grid_auto_rows": null,
            "grid_column": null,
            "grid_gap": null,
            "grid_row": null,
            "grid_template_areas": null,
            "grid_template_columns": null,
            "grid_template_rows": null,
            "height": null,
            "justify_content": null,
            "justify_items": null,
            "left": null,
            "margin": null,
            "max_height": null,
            "max_width": null,
            "min_height": null,
            "min_width": null,
            "object_fit": null,
            "object_position": null,
            "order": null,
            "overflow": null,
            "overflow_x": null,
            "overflow_y": null,
            "padding": null,
            "right": null,
            "top": null,
            "visibility": null,
            "width": null
          }
        },
        "1d019736574849879e8d58c0e4abd786": {
          "model_module": "@jupyter-widgets/base",
          "model_name": "LayoutModel",
          "model_module_version": "1.2.0",
          "state": {
            "_model_module": "@jupyter-widgets/base",
            "_model_module_version": "1.2.0",
            "_model_name": "LayoutModel",
            "_view_count": null,
            "_view_module": "@jupyter-widgets/base",
            "_view_module_version": "1.2.0",
            "_view_name": "LayoutView",
            "align_content": null,
            "align_items": null,
            "align_self": null,
            "border": null,
            "bottom": null,
            "display": null,
            "flex": null,
            "flex_flow": null,
            "grid_area": null,
            "grid_auto_columns": null,
            "grid_auto_flow": null,
            "grid_auto_rows": null,
            "grid_column": null,
            "grid_gap": null,
            "grid_row": null,
            "grid_template_areas": null,
            "grid_template_columns": null,
            "grid_template_rows": null,
            "height": null,
            "justify_content": null,
            "justify_items": null,
            "left": null,
            "margin": null,
            "max_height": null,
            "max_width": null,
            "min_height": null,
            "min_width": null,
            "object_fit": null,
            "object_position": null,
            "order": null,
            "overflow": null,
            "overflow_x": null,
            "overflow_y": null,
            "padding": null,
            "right": null,
            "top": null,
            "visibility": null,
            "width": null
          }
        },
        "893707f561404d6e894216146458f40b": {
          "model_module": "@jupyter-widgets/controls",
          "model_name": "DescriptionStyleModel",
          "model_module_version": "1.5.0",
          "state": {
            "_model_module": "@jupyter-widgets/controls",
            "_model_module_version": "1.5.0",
            "_model_name": "DescriptionStyleModel",
            "_view_count": null,
            "_view_module": "@jupyter-widgets/base",
            "_view_module_version": "1.2.0",
            "_view_name": "StyleView",
            "description_width": ""
          }
        },
        "a55fb5de0ba047b0a088767bbf60c34f": {
          "model_module": "@jupyter-widgets/base",
          "model_name": "LayoutModel",
          "model_module_version": "1.2.0",
          "state": {
            "_model_module": "@jupyter-widgets/base",
            "_model_module_version": "1.2.0",
            "_model_name": "LayoutModel",
            "_view_count": null,
            "_view_module": "@jupyter-widgets/base",
            "_view_module_version": "1.2.0",
            "_view_name": "LayoutView",
            "align_content": null,
            "align_items": null,
            "align_self": null,
            "border": null,
            "bottom": null,
            "display": null,
            "flex": null,
            "flex_flow": null,
            "grid_area": null,
            "grid_auto_columns": null,
            "grid_auto_flow": null,
            "grid_auto_rows": null,
            "grid_column": null,
            "grid_gap": null,
            "grid_row": null,
            "grid_template_areas": null,
            "grid_template_columns": null,
            "grid_template_rows": null,
            "height": null,
            "justify_content": null,
            "justify_items": null,
            "left": null,
            "margin": null,
            "max_height": null,
            "max_width": null,
            "min_height": null,
            "min_width": null,
            "object_fit": null,
            "object_position": null,
            "order": null,
            "overflow": null,
            "overflow_x": null,
            "overflow_y": null,
            "padding": null,
            "right": null,
            "top": null,
            "visibility": null,
            "width": null
          }
        },
        "d028e5fa2d824a89a5838a6bcf1cd5ff": {
          "model_module": "@jupyter-widgets/controls",
          "model_name": "ProgressStyleModel",
          "model_module_version": "1.5.0",
          "state": {
            "_model_module": "@jupyter-widgets/controls",
            "_model_module_version": "1.5.0",
            "_model_name": "ProgressStyleModel",
            "_view_count": null,
            "_view_module": "@jupyter-widgets/base",
            "_view_module_version": "1.2.0",
            "_view_name": "StyleView",
            "bar_color": null,
            "description_width": ""
          }
        },
        "7c23fc41641541dbb99d0eafd8fa9afc": {
          "model_module": "@jupyter-widgets/base",
          "model_name": "LayoutModel",
          "model_module_version": "1.2.0",
          "state": {
            "_model_module": "@jupyter-widgets/base",
            "_model_module_version": "1.2.0",
            "_model_name": "LayoutModel",
            "_view_count": null,
            "_view_module": "@jupyter-widgets/base",
            "_view_module_version": "1.2.0",
            "_view_name": "LayoutView",
            "align_content": null,
            "align_items": null,
            "align_self": null,
            "border": null,
            "bottom": null,
            "display": null,
            "flex": null,
            "flex_flow": null,
            "grid_area": null,
            "grid_auto_columns": null,
            "grid_auto_flow": null,
            "grid_auto_rows": null,
            "grid_column": null,
            "grid_gap": null,
            "grid_row": null,
            "grid_template_areas": null,
            "grid_template_columns": null,
            "grid_template_rows": null,
            "height": null,
            "justify_content": null,
            "justify_items": null,
            "left": null,
            "margin": null,
            "max_height": null,
            "max_width": null,
            "min_height": null,
            "min_width": null,
            "object_fit": null,
            "object_position": null,
            "order": null,
            "overflow": null,
            "overflow_x": null,
            "overflow_y": null,
            "padding": null,
            "right": null,
            "top": null,
            "visibility": null,
            "width": null
          }
        },
        "b9546189e74149f68ad4cb0c9e4a487f": {
          "model_module": "@jupyter-widgets/controls",
          "model_name": "DescriptionStyleModel",
          "model_module_version": "1.5.0",
          "state": {
            "_model_module": "@jupyter-widgets/controls",
            "_model_module_version": "1.5.0",
            "_model_name": "DescriptionStyleModel",
            "_view_count": null,
            "_view_module": "@jupyter-widgets/base",
            "_view_module_version": "1.2.0",
            "_view_name": "StyleView",
            "description_width": ""
          }
        },
        "92e5a44e21d84d4988893c6ee423f720": {
          "model_module": "@jupyter-widgets/controls",
          "model_name": "HBoxModel",
          "model_module_version": "1.5.0",
          "state": {
            "_dom_classes": [],
            "_model_module": "@jupyter-widgets/controls",
            "_model_module_version": "1.5.0",
            "_model_name": "HBoxModel",
            "_view_count": null,
            "_view_module": "@jupyter-widgets/controls",
            "_view_module_version": "1.5.0",
            "_view_name": "HBoxView",
            "box_style": "",
            "children": [
              "IPY_MODEL_ad899147753846a3ad0f9f427ec642ff",
              "IPY_MODEL_aa3faabef72a4c5e8f27849ba0a55585",
              "IPY_MODEL_c31f58fbb2d647c5badae927848b142c"
            ],
            "layout": "IPY_MODEL_8bf34f07a07842f9a8af557519ef8221"
          }
        },
        "ad899147753846a3ad0f9f427ec642ff": {
          "model_module": "@jupyter-widgets/controls",
          "model_name": "HTMLModel",
          "model_module_version": "1.5.0",
          "state": {
            "_dom_classes": [],
            "_model_module": "@jupyter-widgets/controls",
            "_model_module_version": "1.5.0",
            "_model_name": "HTMLModel",
            "_view_count": null,
            "_view_module": "@jupyter-widgets/controls",
            "_view_module_version": "1.5.0",
            "_view_name": "HTMLView",
            "description": "",
            "description_tooltip": null,
            "layout": "IPY_MODEL_8a399f9ae0dc4f16973ca360a3c795d8",
            "placeholder": "​",
            "style": "IPY_MODEL_a60841be3bd44f359f195247bf900dd5",
            "value": "nfcorpus/dev documents: 100%"
          }
        },
        "aa3faabef72a4c5e8f27849ba0a55585": {
          "model_module": "@jupyter-widgets/controls",
          "model_name": "FloatProgressModel",
          "model_module_version": "1.5.0",
          "state": {
            "_dom_classes": [],
            "_model_module": "@jupyter-widgets/controls",
            "_model_module_version": "1.5.0",
            "_model_name": "FloatProgressModel",
            "_view_count": null,
            "_view_module": "@jupyter-widgets/controls",
            "_view_module_version": "1.5.0",
            "_view_name": "ProgressView",
            "bar_style": "success",
            "description": "",
            "description_tooltip": null,
            "layout": "IPY_MODEL_cf1804fcc5a94d819c66479a34f2605a",
            "max": 5371,
            "min": 0,
            "orientation": "horizontal",
            "style": "IPY_MODEL_106df8035d9d4556980ae6b50b09a1ef",
            "value": 5371
          }
        },
        "c31f58fbb2d647c5badae927848b142c": {
          "model_module": "@jupyter-widgets/controls",
          "model_name": "HTMLModel",
          "model_module_version": "1.5.0",
          "state": {
            "_dom_classes": [],
            "_model_module": "@jupyter-widgets/controls",
            "_model_module_version": "1.5.0",
            "_model_name": "HTMLModel",
            "_view_count": null,
            "_view_module": "@jupyter-widgets/controls",
            "_view_module_version": "1.5.0",
            "_view_name": "HTMLView",
            "description": "",
            "description_tooltip": null,
            "layout": "IPY_MODEL_650d324c8dee41cfbfd5e03465093a58",
            "placeholder": "​",
            "style": "IPY_MODEL_bd38a740fa764d78bae30ac8cfc2b9e3",
            "value": " 5371/5371 [00:04&lt;00:00, 1256.68it/s]"
          }
        },
        "8bf34f07a07842f9a8af557519ef8221": {
          "model_module": "@jupyter-widgets/base",
          "model_name": "LayoutModel",
          "model_module_version": "1.2.0",
          "state": {
            "_model_module": "@jupyter-widgets/base",
            "_model_module_version": "1.2.0",
            "_model_name": "LayoutModel",
            "_view_count": null,
            "_view_module": "@jupyter-widgets/base",
            "_view_module_version": "1.2.0",
            "_view_name": "LayoutView",
            "align_content": null,
            "align_items": null,
            "align_self": null,
            "border": null,
            "bottom": null,
            "display": null,
            "flex": null,
            "flex_flow": null,
            "grid_area": null,
            "grid_auto_columns": null,
            "grid_auto_flow": null,
            "grid_auto_rows": null,
            "grid_column": null,
            "grid_gap": null,
            "grid_row": null,
            "grid_template_areas": null,
            "grid_template_columns": null,
            "grid_template_rows": null,
            "height": null,
            "justify_content": null,
            "justify_items": null,
            "left": null,
            "margin": null,
            "max_height": null,
            "max_width": null,
            "min_height": null,
            "min_width": null,
            "object_fit": null,
            "object_position": null,
            "order": null,
            "overflow": null,
            "overflow_x": null,
            "overflow_y": null,
            "padding": null,
            "right": null,
            "top": null,
            "visibility": null,
            "width": null
          }
        },
        "8a399f9ae0dc4f16973ca360a3c795d8": {
          "model_module": "@jupyter-widgets/base",
          "model_name": "LayoutModel",
          "model_module_version": "1.2.0",
          "state": {
            "_model_module": "@jupyter-widgets/base",
            "_model_module_version": "1.2.0",
            "_model_name": "LayoutModel",
            "_view_count": null,
            "_view_module": "@jupyter-widgets/base",
            "_view_module_version": "1.2.0",
            "_view_name": "LayoutView",
            "align_content": null,
            "align_items": null,
            "align_self": null,
            "border": null,
            "bottom": null,
            "display": null,
            "flex": null,
            "flex_flow": null,
            "grid_area": null,
            "grid_auto_columns": null,
            "grid_auto_flow": null,
            "grid_auto_rows": null,
            "grid_column": null,
            "grid_gap": null,
            "grid_row": null,
            "grid_template_areas": null,
            "grid_template_columns": null,
            "grid_template_rows": null,
            "height": null,
            "justify_content": null,
            "justify_items": null,
            "left": null,
            "margin": null,
            "max_height": null,
            "max_width": null,
            "min_height": null,
            "min_width": null,
            "object_fit": null,
            "object_position": null,
            "order": null,
            "overflow": null,
            "overflow_x": null,
            "overflow_y": null,
            "padding": null,
            "right": null,
            "top": null,
            "visibility": null,
            "width": null
          }
        },
        "a60841be3bd44f359f195247bf900dd5": {
          "model_module": "@jupyter-widgets/controls",
          "model_name": "DescriptionStyleModel",
          "model_module_version": "1.5.0",
          "state": {
            "_model_module": "@jupyter-widgets/controls",
            "_model_module_version": "1.5.0",
            "_model_name": "DescriptionStyleModel",
            "_view_count": null,
            "_view_module": "@jupyter-widgets/base",
            "_view_module_version": "1.2.0",
            "_view_name": "StyleView",
            "description_width": ""
          }
        },
        "cf1804fcc5a94d819c66479a34f2605a": {
          "model_module": "@jupyter-widgets/base",
          "model_name": "LayoutModel",
          "model_module_version": "1.2.0",
          "state": {
            "_model_module": "@jupyter-widgets/base",
            "_model_module_version": "1.2.0",
            "_model_name": "LayoutModel",
            "_view_count": null,
            "_view_module": "@jupyter-widgets/base",
            "_view_module_version": "1.2.0",
            "_view_name": "LayoutView",
            "align_content": null,
            "align_items": null,
            "align_self": null,
            "border": null,
            "bottom": null,
            "display": null,
            "flex": null,
            "flex_flow": null,
            "grid_area": null,
            "grid_auto_columns": null,
            "grid_auto_flow": null,
            "grid_auto_rows": null,
            "grid_column": null,
            "grid_gap": null,
            "grid_row": null,
            "grid_template_areas": null,
            "grid_template_columns": null,
            "grid_template_rows": null,
            "height": null,
            "justify_content": null,
            "justify_items": null,
            "left": null,
            "margin": null,
            "max_height": null,
            "max_width": null,
            "min_height": null,
            "min_width": null,
            "object_fit": null,
            "object_position": null,
            "order": null,
            "overflow": null,
            "overflow_x": null,
            "overflow_y": null,
            "padding": null,
            "right": null,
            "top": null,
            "visibility": null,
            "width": null
          }
        },
        "106df8035d9d4556980ae6b50b09a1ef": {
          "model_module": "@jupyter-widgets/controls",
          "model_name": "ProgressStyleModel",
          "model_module_version": "1.5.0",
          "state": {
            "_model_module": "@jupyter-widgets/controls",
            "_model_module_version": "1.5.0",
            "_model_name": "ProgressStyleModel",
            "_view_count": null,
            "_view_module": "@jupyter-widgets/base",
            "_view_module_version": "1.2.0",
            "_view_name": "StyleView",
            "bar_color": null,
            "description_width": ""
          }
        },
        "650d324c8dee41cfbfd5e03465093a58": {
          "model_module": "@jupyter-widgets/base",
          "model_name": "LayoutModel",
          "model_module_version": "1.2.0",
          "state": {
            "_model_module": "@jupyter-widgets/base",
            "_model_module_version": "1.2.0",
            "_model_name": "LayoutModel",
            "_view_count": null,
            "_view_module": "@jupyter-widgets/base",
            "_view_module_version": "1.2.0",
            "_view_name": "LayoutView",
            "align_content": null,
            "align_items": null,
            "align_self": null,
            "border": null,
            "bottom": null,
            "display": null,
            "flex": null,
            "flex_flow": null,
            "grid_area": null,
            "grid_auto_columns": null,
            "grid_auto_flow": null,
            "grid_auto_rows": null,
            "grid_column": null,
            "grid_gap": null,
            "grid_row": null,
            "grid_template_areas": null,
            "grid_template_columns": null,
            "grid_template_rows": null,
            "height": null,
            "justify_content": null,
            "justify_items": null,
            "left": null,
            "margin": null,
            "max_height": null,
            "max_width": null,
            "min_height": null,
            "min_width": null,
            "object_fit": null,
            "object_position": null,
            "order": null,
            "overflow": null,
            "overflow_x": null,
            "overflow_y": null,
            "padding": null,
            "right": null,
            "top": null,
            "visibility": null,
            "width": null
          }
        },
        "bd38a740fa764d78bae30ac8cfc2b9e3": {
          "model_module": "@jupyter-widgets/controls",
          "model_name": "DescriptionStyleModel",
          "model_module_version": "1.5.0",
          "state": {
            "_model_module": "@jupyter-widgets/controls",
            "_model_module_version": "1.5.0",
            "_model_name": "DescriptionStyleModel",
            "_view_count": null,
            "_view_module": "@jupyter-widgets/base",
            "_view_module_version": "1.2.0",
            "_view_name": "StyleView",
            "description_width": ""
          }
        },
        "4cd54c997f574d3da528880f439af73a": {
          "model_module": "@jupyter-widgets/controls",
          "model_name": "HBoxModel",
          "model_module_version": "1.5.0",
          "state": {
            "_dom_classes": [],
            "_model_module": "@jupyter-widgets/controls",
            "_model_module_version": "1.5.0",
            "_model_name": "HBoxModel",
            "_view_count": null,
            "_view_module": "@jupyter-widgets/controls",
            "_view_module_version": "1.5.0",
            "_view_name": "HBoxView",
            "box_style": "",
            "children": [
              "IPY_MODEL_f31c544fba184a099b3db47270050105",
              "IPY_MODEL_0412ba27414e4d6b96032e6b44610b09",
              "IPY_MODEL_3d0b5a9a502b4e74b5976b42ac867ba2"
            ],
            "layout": "IPY_MODEL_fd462111e3a44507984b30b914f2e244"
          }
        },
        "f31c544fba184a099b3db47270050105": {
          "model_module": "@jupyter-widgets/controls",
          "model_name": "HTMLModel",
          "model_module_version": "1.5.0",
          "state": {
            "_dom_classes": [],
            "_model_module": "@jupyter-widgets/controls",
            "_model_module_version": "1.5.0",
            "_model_name": "HTMLModel",
            "_view_count": null,
            "_view_module": "@jupyter-widgets/controls",
            "_view_module_version": "1.5.0",
            "_view_name": "HTMLView",
            "description": "",
            "description_tooltip": null,
            "layout": "IPY_MODEL_0ee31f3cf0ec470a9bdea4825988a2de",
            "placeholder": "​",
            "style": "IPY_MODEL_5304b5b534204e81bacb26959d03834b",
            "value": "nfcorpus/dev documents: 100%"
          }
        },
        "0412ba27414e4d6b96032e6b44610b09": {
          "model_module": "@jupyter-widgets/controls",
          "model_name": "FloatProgressModel",
          "model_module_version": "1.5.0",
          "state": {
            "_dom_classes": [],
            "_model_module": "@jupyter-widgets/controls",
            "_model_module_version": "1.5.0",
            "_model_name": "FloatProgressModel",
            "_view_count": null,
            "_view_module": "@jupyter-widgets/controls",
            "_view_module_version": "1.5.0",
            "_view_name": "ProgressView",
            "bar_style": "success",
            "description": "",
            "description_tooltip": null,
            "layout": "IPY_MODEL_5a6d0ee83b1e4bf8989b57516c16395c",
            "max": 5371,
            "min": 0,
            "orientation": "horizontal",
            "style": "IPY_MODEL_f99fe36b658447a9b74b7c0beadf4eaf",
            "value": 5371
          }
        },
        "3d0b5a9a502b4e74b5976b42ac867ba2": {
          "model_module": "@jupyter-widgets/controls",
          "model_name": "HTMLModel",
          "model_module_version": "1.5.0",
          "state": {
            "_dom_classes": [],
            "_model_module": "@jupyter-widgets/controls",
            "_model_module_version": "1.5.0",
            "_model_name": "HTMLModel",
            "_view_count": null,
            "_view_module": "@jupyter-widgets/controls",
            "_view_module_version": "1.5.0",
            "_view_name": "HTMLView",
            "description": "",
            "description_tooltip": null,
            "layout": "IPY_MODEL_27582a9baba743e0b716ed599bbbec1f",
            "placeholder": "​",
            "style": "IPY_MODEL_24cbd7ce4d5d4dce9c283d2f6a425c1e",
            "value": " 5371/5371 [00:02&lt;00:00, 2103.52it/s]"
          }
        },
        "fd462111e3a44507984b30b914f2e244": {
          "model_module": "@jupyter-widgets/base",
          "model_name": "LayoutModel",
          "model_module_version": "1.2.0",
          "state": {
            "_model_module": "@jupyter-widgets/base",
            "_model_module_version": "1.2.0",
            "_model_name": "LayoutModel",
            "_view_count": null,
            "_view_module": "@jupyter-widgets/base",
            "_view_module_version": "1.2.0",
            "_view_name": "LayoutView",
            "align_content": null,
            "align_items": null,
            "align_self": null,
            "border": null,
            "bottom": null,
            "display": null,
            "flex": null,
            "flex_flow": null,
            "grid_area": null,
            "grid_auto_columns": null,
            "grid_auto_flow": null,
            "grid_auto_rows": null,
            "grid_column": null,
            "grid_gap": null,
            "grid_row": null,
            "grid_template_areas": null,
            "grid_template_columns": null,
            "grid_template_rows": null,
            "height": null,
            "justify_content": null,
            "justify_items": null,
            "left": null,
            "margin": null,
            "max_height": null,
            "max_width": null,
            "min_height": null,
            "min_width": null,
            "object_fit": null,
            "object_position": null,
            "order": null,
            "overflow": null,
            "overflow_x": null,
            "overflow_y": null,
            "padding": null,
            "right": null,
            "top": null,
            "visibility": null,
            "width": null
          }
        },
        "0ee31f3cf0ec470a9bdea4825988a2de": {
          "model_module": "@jupyter-widgets/base",
          "model_name": "LayoutModel",
          "model_module_version": "1.2.0",
          "state": {
            "_model_module": "@jupyter-widgets/base",
            "_model_module_version": "1.2.0",
            "_model_name": "LayoutModel",
            "_view_count": null,
            "_view_module": "@jupyter-widgets/base",
            "_view_module_version": "1.2.0",
            "_view_name": "LayoutView",
            "align_content": null,
            "align_items": null,
            "align_self": null,
            "border": null,
            "bottom": null,
            "display": null,
            "flex": null,
            "flex_flow": null,
            "grid_area": null,
            "grid_auto_columns": null,
            "grid_auto_flow": null,
            "grid_auto_rows": null,
            "grid_column": null,
            "grid_gap": null,
            "grid_row": null,
            "grid_template_areas": null,
            "grid_template_columns": null,
            "grid_template_rows": null,
            "height": null,
            "justify_content": null,
            "justify_items": null,
            "left": null,
            "margin": null,
            "max_height": null,
            "max_width": null,
            "min_height": null,
            "min_width": null,
            "object_fit": null,
            "object_position": null,
            "order": null,
            "overflow": null,
            "overflow_x": null,
            "overflow_y": null,
            "padding": null,
            "right": null,
            "top": null,
            "visibility": null,
            "width": null
          }
        },
        "5304b5b534204e81bacb26959d03834b": {
          "model_module": "@jupyter-widgets/controls",
          "model_name": "DescriptionStyleModel",
          "model_module_version": "1.5.0",
          "state": {
            "_model_module": "@jupyter-widgets/controls",
            "_model_module_version": "1.5.0",
            "_model_name": "DescriptionStyleModel",
            "_view_count": null,
            "_view_module": "@jupyter-widgets/base",
            "_view_module_version": "1.2.0",
            "_view_name": "StyleView",
            "description_width": ""
          }
        },
        "5a6d0ee83b1e4bf8989b57516c16395c": {
          "model_module": "@jupyter-widgets/base",
          "model_name": "LayoutModel",
          "model_module_version": "1.2.0",
          "state": {
            "_model_module": "@jupyter-widgets/base",
            "_model_module_version": "1.2.0",
            "_model_name": "LayoutModel",
            "_view_count": null,
            "_view_module": "@jupyter-widgets/base",
            "_view_module_version": "1.2.0",
            "_view_name": "LayoutView",
            "align_content": null,
            "align_items": null,
            "align_self": null,
            "border": null,
            "bottom": null,
            "display": null,
            "flex": null,
            "flex_flow": null,
            "grid_area": null,
            "grid_auto_columns": null,
            "grid_auto_flow": null,
            "grid_auto_rows": null,
            "grid_column": null,
            "grid_gap": null,
            "grid_row": null,
            "grid_template_areas": null,
            "grid_template_columns": null,
            "grid_template_rows": null,
            "height": null,
            "justify_content": null,
            "justify_items": null,
            "left": null,
            "margin": null,
            "max_height": null,
            "max_width": null,
            "min_height": null,
            "min_width": null,
            "object_fit": null,
            "object_position": null,
            "order": null,
            "overflow": null,
            "overflow_x": null,
            "overflow_y": null,
            "padding": null,
            "right": null,
            "top": null,
            "visibility": null,
            "width": null
          }
        },
        "f99fe36b658447a9b74b7c0beadf4eaf": {
          "model_module": "@jupyter-widgets/controls",
          "model_name": "ProgressStyleModel",
          "model_module_version": "1.5.0",
          "state": {
            "_model_module": "@jupyter-widgets/controls",
            "_model_module_version": "1.5.0",
            "_model_name": "ProgressStyleModel",
            "_view_count": null,
            "_view_module": "@jupyter-widgets/base",
            "_view_module_version": "1.2.0",
            "_view_name": "StyleView",
            "bar_color": null,
            "description_width": ""
          }
        },
        "27582a9baba743e0b716ed599bbbec1f": {
          "model_module": "@jupyter-widgets/base",
          "model_name": "LayoutModel",
          "model_module_version": "1.2.0",
          "state": {
            "_model_module": "@jupyter-widgets/base",
            "_model_module_version": "1.2.0",
            "_model_name": "LayoutModel",
            "_view_count": null,
            "_view_module": "@jupyter-widgets/base",
            "_view_module_version": "1.2.0",
            "_view_name": "LayoutView",
            "align_content": null,
            "align_items": null,
            "align_self": null,
            "border": null,
            "bottom": null,
            "display": null,
            "flex": null,
            "flex_flow": null,
            "grid_area": null,
            "grid_auto_columns": null,
            "grid_auto_flow": null,
            "grid_auto_rows": null,
            "grid_column": null,
            "grid_gap": null,
            "grid_row": null,
            "grid_template_areas": null,
            "grid_template_columns": null,
            "grid_template_rows": null,
            "height": null,
            "justify_content": null,
            "justify_items": null,
            "left": null,
            "margin": null,
            "max_height": null,
            "max_width": null,
            "min_height": null,
            "min_width": null,
            "object_fit": null,
            "object_position": null,
            "order": null,
            "overflow": null,
            "overflow_x": null,
            "overflow_y": null,
            "padding": null,
            "right": null,
            "top": null,
            "visibility": null,
            "width": null
          }
        },
        "24cbd7ce4d5d4dce9c283d2f6a425c1e": {
          "model_module": "@jupyter-widgets/controls",
          "model_name": "DescriptionStyleModel",
          "model_module_version": "1.5.0",
          "state": {
            "_model_module": "@jupyter-widgets/controls",
            "_model_module_version": "1.5.0",
            "_model_name": "DescriptionStyleModel",
            "_view_count": null,
            "_view_module": "@jupyter-widgets/base",
            "_view_module_version": "1.2.0",
            "_view_name": "StyleView",
            "description_width": ""
          }
        },
        "1c435124d2414bd9acf1d2bcf748b363": {
          "model_module": "@jupyter-widgets/controls",
          "model_name": "HBoxModel",
          "model_module_version": "1.5.0",
          "state": {
            "_dom_classes": [],
            "_model_module": "@jupyter-widgets/controls",
            "_model_module_version": "1.5.0",
            "_model_name": "HBoxModel",
            "_view_count": null,
            "_view_module": "@jupyter-widgets/controls",
            "_view_module_version": "1.5.0",
            "_view_name": "HBoxView",
            "box_style": "",
            "children": [
              "IPY_MODEL_f9eea90b4ce84754a8af41f2e1b7a642",
              "IPY_MODEL_775f62ae8c9845908c3bcaf4b86fd96f",
              "IPY_MODEL_f6dd83d7d6f74232bd5cc2791e9d0bad"
            ],
            "layout": "IPY_MODEL_8626176edccc4686a29a7625a52c3b3e"
          }
        },
        "f9eea90b4ce84754a8af41f2e1b7a642": {
          "model_module": "@jupyter-widgets/controls",
          "model_name": "HTMLModel",
          "model_module_version": "1.5.0",
          "state": {
            "_dom_classes": [],
            "_model_module": "@jupyter-widgets/controls",
            "_model_module_version": "1.5.0",
            "_model_name": "HTMLModel",
            "_view_count": null,
            "_view_module": "@jupyter-widgets/controls",
            "_view_module_version": "1.5.0",
            "_view_name": "HTMLView",
            "description": "",
            "description_tooltip": null,
            "layout": "IPY_MODEL_5bfee3f65f2640669821b966c2ae82d5",
            "placeholder": "​",
            "style": "IPY_MODEL_a8d889b475c74198bdb09d6ccabe5f51",
            "value": "nfcorpus/dev documents: 100%"
          }
        },
        "775f62ae8c9845908c3bcaf4b86fd96f": {
          "model_module": "@jupyter-widgets/controls",
          "model_name": "FloatProgressModel",
          "model_module_version": "1.5.0",
          "state": {
            "_dom_classes": [],
            "_model_module": "@jupyter-widgets/controls",
            "_model_module_version": "1.5.0",
            "_model_name": "FloatProgressModel",
            "_view_count": null,
            "_view_module": "@jupyter-widgets/controls",
            "_view_module_version": "1.5.0",
            "_view_name": "ProgressView",
            "bar_style": "success",
            "description": "",
            "description_tooltip": null,
            "layout": "IPY_MODEL_930435c1ce1a4e969fbb81d42ea4a5b8",
            "max": 5371,
            "min": 0,
            "orientation": "horizontal",
            "style": "IPY_MODEL_e2747f214ba042ad9e4efa4443cfae51",
            "value": 5371
          }
        },
        "f6dd83d7d6f74232bd5cc2791e9d0bad": {
          "model_module": "@jupyter-widgets/controls",
          "model_name": "HTMLModel",
          "model_module_version": "1.5.0",
          "state": {
            "_dom_classes": [],
            "_model_module": "@jupyter-widgets/controls",
            "_model_module_version": "1.5.0",
            "_model_name": "HTMLModel",
            "_view_count": null,
            "_view_module": "@jupyter-widgets/controls",
            "_view_module_version": "1.5.0",
            "_view_name": "HTMLView",
            "description": "",
            "description_tooltip": null,
            "layout": "IPY_MODEL_0728263062124daeb414c1f3ed5bf4ef",
            "placeholder": "​",
            "style": "IPY_MODEL_17c01ab8a0c947d8a62b1a8207758cf2",
            "value": " 5371/5371 [00:03&lt;00:00, 2152.74it/s]"
          }
        },
        "8626176edccc4686a29a7625a52c3b3e": {
          "model_module": "@jupyter-widgets/base",
          "model_name": "LayoutModel",
          "model_module_version": "1.2.0",
          "state": {
            "_model_module": "@jupyter-widgets/base",
            "_model_module_version": "1.2.0",
            "_model_name": "LayoutModel",
            "_view_count": null,
            "_view_module": "@jupyter-widgets/base",
            "_view_module_version": "1.2.0",
            "_view_name": "LayoutView",
            "align_content": null,
            "align_items": null,
            "align_self": null,
            "border": null,
            "bottom": null,
            "display": null,
            "flex": null,
            "flex_flow": null,
            "grid_area": null,
            "grid_auto_columns": null,
            "grid_auto_flow": null,
            "grid_auto_rows": null,
            "grid_column": null,
            "grid_gap": null,
            "grid_row": null,
            "grid_template_areas": null,
            "grid_template_columns": null,
            "grid_template_rows": null,
            "height": null,
            "justify_content": null,
            "justify_items": null,
            "left": null,
            "margin": null,
            "max_height": null,
            "max_width": null,
            "min_height": null,
            "min_width": null,
            "object_fit": null,
            "object_position": null,
            "order": null,
            "overflow": null,
            "overflow_x": null,
            "overflow_y": null,
            "padding": null,
            "right": null,
            "top": null,
            "visibility": null,
            "width": null
          }
        },
        "5bfee3f65f2640669821b966c2ae82d5": {
          "model_module": "@jupyter-widgets/base",
          "model_name": "LayoutModel",
          "model_module_version": "1.2.0",
          "state": {
            "_model_module": "@jupyter-widgets/base",
            "_model_module_version": "1.2.0",
            "_model_name": "LayoutModel",
            "_view_count": null,
            "_view_module": "@jupyter-widgets/base",
            "_view_module_version": "1.2.0",
            "_view_name": "LayoutView",
            "align_content": null,
            "align_items": null,
            "align_self": null,
            "border": null,
            "bottom": null,
            "display": null,
            "flex": null,
            "flex_flow": null,
            "grid_area": null,
            "grid_auto_columns": null,
            "grid_auto_flow": null,
            "grid_auto_rows": null,
            "grid_column": null,
            "grid_gap": null,
            "grid_row": null,
            "grid_template_areas": null,
            "grid_template_columns": null,
            "grid_template_rows": null,
            "height": null,
            "justify_content": null,
            "justify_items": null,
            "left": null,
            "margin": null,
            "max_height": null,
            "max_width": null,
            "min_height": null,
            "min_width": null,
            "object_fit": null,
            "object_position": null,
            "order": null,
            "overflow": null,
            "overflow_x": null,
            "overflow_y": null,
            "padding": null,
            "right": null,
            "top": null,
            "visibility": null,
            "width": null
          }
        },
        "a8d889b475c74198bdb09d6ccabe5f51": {
          "model_module": "@jupyter-widgets/controls",
          "model_name": "DescriptionStyleModel",
          "model_module_version": "1.5.0",
          "state": {
            "_model_module": "@jupyter-widgets/controls",
            "_model_module_version": "1.5.0",
            "_model_name": "DescriptionStyleModel",
            "_view_count": null,
            "_view_module": "@jupyter-widgets/base",
            "_view_module_version": "1.2.0",
            "_view_name": "StyleView",
            "description_width": ""
          }
        },
        "930435c1ce1a4e969fbb81d42ea4a5b8": {
          "model_module": "@jupyter-widgets/base",
          "model_name": "LayoutModel",
          "model_module_version": "1.2.0",
          "state": {
            "_model_module": "@jupyter-widgets/base",
            "_model_module_version": "1.2.0",
            "_model_name": "LayoutModel",
            "_view_count": null,
            "_view_module": "@jupyter-widgets/base",
            "_view_module_version": "1.2.0",
            "_view_name": "LayoutView",
            "align_content": null,
            "align_items": null,
            "align_self": null,
            "border": null,
            "bottom": null,
            "display": null,
            "flex": null,
            "flex_flow": null,
            "grid_area": null,
            "grid_auto_columns": null,
            "grid_auto_flow": null,
            "grid_auto_rows": null,
            "grid_column": null,
            "grid_gap": null,
            "grid_row": null,
            "grid_template_areas": null,
            "grid_template_columns": null,
            "grid_template_rows": null,
            "height": null,
            "justify_content": null,
            "justify_items": null,
            "left": null,
            "margin": null,
            "max_height": null,
            "max_width": null,
            "min_height": null,
            "min_width": null,
            "object_fit": null,
            "object_position": null,
            "order": null,
            "overflow": null,
            "overflow_x": null,
            "overflow_y": null,
            "padding": null,
            "right": null,
            "top": null,
            "visibility": null,
            "width": null
          }
        },
        "e2747f214ba042ad9e4efa4443cfae51": {
          "model_module": "@jupyter-widgets/controls",
          "model_name": "ProgressStyleModel",
          "model_module_version": "1.5.0",
          "state": {
            "_model_module": "@jupyter-widgets/controls",
            "_model_module_version": "1.5.0",
            "_model_name": "ProgressStyleModel",
            "_view_count": null,
            "_view_module": "@jupyter-widgets/base",
            "_view_module_version": "1.2.0",
            "_view_name": "StyleView",
            "bar_color": null,
            "description_width": ""
          }
        },
        "0728263062124daeb414c1f3ed5bf4ef": {
          "model_module": "@jupyter-widgets/base",
          "model_name": "LayoutModel",
          "model_module_version": "1.2.0",
          "state": {
            "_model_module": "@jupyter-widgets/base",
            "_model_module_version": "1.2.0",
            "_model_name": "LayoutModel",
            "_view_count": null,
            "_view_module": "@jupyter-widgets/base",
            "_view_module_version": "1.2.0",
            "_view_name": "LayoutView",
            "align_content": null,
            "align_items": null,
            "align_self": null,
            "border": null,
            "bottom": null,
            "display": null,
            "flex": null,
            "flex_flow": null,
            "grid_area": null,
            "grid_auto_columns": null,
            "grid_auto_flow": null,
            "grid_auto_rows": null,
            "grid_column": null,
            "grid_gap": null,
            "grid_row": null,
            "grid_template_areas": null,
            "grid_template_columns": null,
            "grid_template_rows": null,
            "height": null,
            "justify_content": null,
            "justify_items": null,
            "left": null,
            "margin": null,
            "max_height": null,
            "max_width": null,
            "min_height": null,
            "min_width": null,
            "object_fit": null,
            "object_position": null,
            "order": null,
            "overflow": null,
            "overflow_x": null,
            "overflow_y": null,
            "padding": null,
            "right": null,
            "top": null,
            "visibility": null,
            "width": null
          }
        },
        "17c01ab8a0c947d8a62b1a8207758cf2": {
          "model_module": "@jupyter-widgets/controls",
          "model_name": "DescriptionStyleModel",
          "model_module_version": "1.5.0",
          "state": {
            "_model_module": "@jupyter-widgets/controls",
            "_model_module_version": "1.5.0",
            "_model_name": "DescriptionStyleModel",
            "_view_count": null,
            "_view_module": "@jupyter-widgets/base",
            "_view_module_version": "1.2.0",
            "_view_name": "StyleView",
            "description_width": ""
          }
        },
        "a90806147f8546e59e48e3c3becca318": {
          "model_module": "@jupyter-widgets/controls",
          "model_name": "HBoxModel",
          "model_module_version": "1.5.0",
          "state": {
            "_dom_classes": [],
            "_model_module": "@jupyter-widgets/controls",
            "_model_module_version": "1.5.0",
            "_model_name": "HBoxModel",
            "_view_count": null,
            "_view_module": "@jupyter-widgets/controls",
            "_view_module_version": "1.5.0",
            "_view_name": "HBoxView",
            "box_style": "",
            "children": [
              "IPY_MODEL_6a8e434c241144319dc3a3c3b996a768",
              "IPY_MODEL_4f7b062a89ef4f13b77918203d063390",
              "IPY_MODEL_13ddb9634945491897a7211501d5dce9"
            ],
            "layout": "IPY_MODEL_32ebb009984c4f6eb75edc4e60e09611"
          }
        },
        "6a8e434c241144319dc3a3c3b996a768": {
          "model_module": "@jupyter-widgets/controls",
          "model_name": "HTMLModel",
          "model_module_version": "1.5.0",
          "state": {
            "_dom_classes": [],
            "_model_module": "@jupyter-widgets/controls",
            "_model_module_version": "1.5.0",
            "_model_name": "HTMLModel",
            "_view_count": null,
            "_view_module": "@jupyter-widgets/controls",
            "_view_module_version": "1.5.0",
            "_view_name": "HTMLView",
            "description": "",
            "description_tooltip": null,
            "layout": "IPY_MODEL_d259a9440d4f42a5a082f026147f4ffe",
            "placeholder": "​",
            "style": "IPY_MODEL_4b0f1a8686044e2ea139cf346633e121",
            "value": "nfcorpus/dev documents: 100%"
          }
        },
        "4f7b062a89ef4f13b77918203d063390": {
          "model_module": "@jupyter-widgets/controls",
          "model_name": "FloatProgressModel",
          "model_module_version": "1.5.0",
          "state": {
            "_dom_classes": [],
            "_model_module": "@jupyter-widgets/controls",
            "_model_module_version": "1.5.0",
            "_model_name": "FloatProgressModel",
            "_view_count": null,
            "_view_module": "@jupyter-widgets/controls",
            "_view_module_version": "1.5.0",
            "_view_name": "ProgressView",
            "bar_style": "success",
            "description": "",
            "description_tooltip": null,
            "layout": "IPY_MODEL_7d8de5b0466b4a5894d853b379be376a",
            "max": 5371,
            "min": 0,
            "orientation": "horizontal",
            "style": "IPY_MODEL_87c9dde94a7f4ba48eea82615a3aca17",
            "value": 5371
          }
        },
        "13ddb9634945491897a7211501d5dce9": {
          "model_module": "@jupyter-widgets/controls",
          "model_name": "HTMLModel",
          "model_module_version": "1.5.0",
          "state": {
            "_dom_classes": [],
            "_model_module": "@jupyter-widgets/controls",
            "_model_module_version": "1.5.0",
            "_model_name": "HTMLModel",
            "_view_count": null,
            "_view_module": "@jupyter-widgets/controls",
            "_view_module_version": "1.5.0",
            "_view_name": "HTMLView",
            "description": "",
            "description_tooltip": null,
            "layout": "IPY_MODEL_5fee73710b14489799c0c2e57279d382",
            "placeholder": "​",
            "style": "IPY_MODEL_ea68bff0fa4349f08db7e4ce4e59e0bb",
            "value": " 5371/5371 [00:03&lt;00:00, 1960.51it/s]"
          }
        },
        "32ebb009984c4f6eb75edc4e60e09611": {
          "model_module": "@jupyter-widgets/base",
          "model_name": "LayoutModel",
          "model_module_version": "1.2.0",
          "state": {
            "_model_module": "@jupyter-widgets/base",
            "_model_module_version": "1.2.0",
            "_model_name": "LayoutModel",
            "_view_count": null,
            "_view_module": "@jupyter-widgets/base",
            "_view_module_version": "1.2.0",
            "_view_name": "LayoutView",
            "align_content": null,
            "align_items": null,
            "align_self": null,
            "border": null,
            "bottom": null,
            "display": null,
            "flex": null,
            "flex_flow": null,
            "grid_area": null,
            "grid_auto_columns": null,
            "grid_auto_flow": null,
            "grid_auto_rows": null,
            "grid_column": null,
            "grid_gap": null,
            "grid_row": null,
            "grid_template_areas": null,
            "grid_template_columns": null,
            "grid_template_rows": null,
            "height": null,
            "justify_content": null,
            "justify_items": null,
            "left": null,
            "margin": null,
            "max_height": null,
            "max_width": null,
            "min_height": null,
            "min_width": null,
            "object_fit": null,
            "object_position": null,
            "order": null,
            "overflow": null,
            "overflow_x": null,
            "overflow_y": null,
            "padding": null,
            "right": null,
            "top": null,
            "visibility": null,
            "width": null
          }
        },
        "d259a9440d4f42a5a082f026147f4ffe": {
          "model_module": "@jupyter-widgets/base",
          "model_name": "LayoutModel",
          "model_module_version": "1.2.0",
          "state": {
            "_model_module": "@jupyter-widgets/base",
            "_model_module_version": "1.2.0",
            "_model_name": "LayoutModel",
            "_view_count": null,
            "_view_module": "@jupyter-widgets/base",
            "_view_module_version": "1.2.0",
            "_view_name": "LayoutView",
            "align_content": null,
            "align_items": null,
            "align_self": null,
            "border": null,
            "bottom": null,
            "display": null,
            "flex": null,
            "flex_flow": null,
            "grid_area": null,
            "grid_auto_columns": null,
            "grid_auto_flow": null,
            "grid_auto_rows": null,
            "grid_column": null,
            "grid_gap": null,
            "grid_row": null,
            "grid_template_areas": null,
            "grid_template_columns": null,
            "grid_template_rows": null,
            "height": null,
            "justify_content": null,
            "justify_items": null,
            "left": null,
            "margin": null,
            "max_height": null,
            "max_width": null,
            "min_height": null,
            "min_width": null,
            "object_fit": null,
            "object_position": null,
            "order": null,
            "overflow": null,
            "overflow_x": null,
            "overflow_y": null,
            "padding": null,
            "right": null,
            "top": null,
            "visibility": null,
            "width": null
          }
        },
        "4b0f1a8686044e2ea139cf346633e121": {
          "model_module": "@jupyter-widgets/controls",
          "model_name": "DescriptionStyleModel",
          "model_module_version": "1.5.0",
          "state": {
            "_model_module": "@jupyter-widgets/controls",
            "_model_module_version": "1.5.0",
            "_model_name": "DescriptionStyleModel",
            "_view_count": null,
            "_view_module": "@jupyter-widgets/base",
            "_view_module_version": "1.2.0",
            "_view_name": "StyleView",
            "description_width": ""
          }
        },
        "7d8de5b0466b4a5894d853b379be376a": {
          "model_module": "@jupyter-widgets/base",
          "model_name": "LayoutModel",
          "model_module_version": "1.2.0",
          "state": {
            "_model_module": "@jupyter-widgets/base",
            "_model_module_version": "1.2.0",
            "_model_name": "LayoutModel",
            "_view_count": null,
            "_view_module": "@jupyter-widgets/base",
            "_view_module_version": "1.2.0",
            "_view_name": "LayoutView",
            "align_content": null,
            "align_items": null,
            "align_self": null,
            "border": null,
            "bottom": null,
            "display": null,
            "flex": null,
            "flex_flow": null,
            "grid_area": null,
            "grid_auto_columns": null,
            "grid_auto_flow": null,
            "grid_auto_rows": null,
            "grid_column": null,
            "grid_gap": null,
            "grid_row": null,
            "grid_template_areas": null,
            "grid_template_columns": null,
            "grid_template_rows": null,
            "height": null,
            "justify_content": null,
            "justify_items": null,
            "left": null,
            "margin": null,
            "max_height": null,
            "max_width": null,
            "min_height": null,
            "min_width": null,
            "object_fit": null,
            "object_position": null,
            "order": null,
            "overflow": null,
            "overflow_x": null,
            "overflow_y": null,
            "padding": null,
            "right": null,
            "top": null,
            "visibility": null,
            "width": null
          }
        },
        "87c9dde94a7f4ba48eea82615a3aca17": {
          "model_module": "@jupyter-widgets/controls",
          "model_name": "ProgressStyleModel",
          "model_module_version": "1.5.0",
          "state": {
            "_model_module": "@jupyter-widgets/controls",
            "_model_module_version": "1.5.0",
            "_model_name": "ProgressStyleModel",
            "_view_count": null,
            "_view_module": "@jupyter-widgets/base",
            "_view_module_version": "1.2.0",
            "_view_name": "StyleView",
            "bar_color": null,
            "description_width": ""
          }
        },
        "5fee73710b14489799c0c2e57279d382": {
          "model_module": "@jupyter-widgets/base",
          "model_name": "LayoutModel",
          "model_module_version": "1.2.0",
          "state": {
            "_model_module": "@jupyter-widgets/base",
            "_model_module_version": "1.2.0",
            "_model_name": "LayoutModel",
            "_view_count": null,
            "_view_module": "@jupyter-widgets/base",
            "_view_module_version": "1.2.0",
            "_view_name": "LayoutView",
            "align_content": null,
            "align_items": null,
            "align_self": null,
            "border": null,
            "bottom": null,
            "display": null,
            "flex": null,
            "flex_flow": null,
            "grid_area": null,
            "grid_auto_columns": null,
            "grid_auto_flow": null,
            "grid_auto_rows": null,
            "grid_column": null,
            "grid_gap": null,
            "grid_row": null,
            "grid_template_areas": null,
            "grid_template_columns": null,
            "grid_template_rows": null,
            "height": null,
            "justify_content": null,
            "justify_items": null,
            "left": null,
            "margin": null,
            "max_height": null,
            "max_width": null,
            "min_height": null,
            "min_width": null,
            "object_fit": null,
            "object_position": null,
            "order": null,
            "overflow": null,
            "overflow_x": null,
            "overflow_y": null,
            "padding": null,
            "right": null,
            "top": null,
            "visibility": null,
            "width": null
          }
        },
        "ea68bff0fa4349f08db7e4ce4e59e0bb": {
          "model_module": "@jupyter-widgets/controls",
          "model_name": "DescriptionStyleModel",
          "model_module_version": "1.5.0",
          "state": {
            "_model_module": "@jupyter-widgets/controls",
            "_model_module_version": "1.5.0",
            "_model_name": "DescriptionStyleModel",
            "_view_count": null,
            "_view_module": "@jupyter-widgets/base",
            "_view_module_version": "1.2.0",
            "_view_name": "StyleView",
            "description_width": ""
          }
        },
        "0816bf15521043ba9047e4e1eca4795d": {
          "model_module": "@jupyter-widgets/controls",
          "model_name": "HBoxModel",
          "model_module_version": "1.5.0",
          "state": {
            "_dom_classes": [],
            "_model_module": "@jupyter-widgets/controls",
            "_model_module_version": "1.5.0",
            "_model_name": "HBoxModel",
            "_view_count": null,
            "_view_module": "@jupyter-widgets/controls",
            "_view_module_version": "1.5.0",
            "_view_name": "HBoxView",
            "box_style": "",
            "children": [
              "IPY_MODEL_8b47a31a9ca04075843987aaf949854f",
              "IPY_MODEL_6f75d902326849a1b26dc0a08c4450d8",
              "IPY_MODEL_5184333bf97e4cac83c8ef7b44569247"
            ],
            "layout": "IPY_MODEL_59bf7e072e9044caa7f1cec0f5e71df4"
          }
        },
        "8b47a31a9ca04075843987aaf949854f": {
          "model_module": "@jupyter-widgets/controls",
          "model_name": "HTMLModel",
          "model_module_version": "1.5.0",
          "state": {
            "_dom_classes": [],
            "_model_module": "@jupyter-widgets/controls",
            "_model_module_version": "1.5.0",
            "_model_name": "HTMLModel",
            "_view_count": null,
            "_view_module": "@jupyter-widgets/controls",
            "_view_module_version": "1.5.0",
            "_view_name": "HTMLView",
            "description": "",
            "description_tooltip": null,
            "layout": "IPY_MODEL_a5d507d90bce4e4c9b2cf716c78d00a6",
            "placeholder": "​",
            "style": "IPY_MODEL_b1a9500dabff4df79d105acbee7a6753",
            "value": "cranfield documents: 100%"
          }
        },
        "6f75d902326849a1b26dc0a08c4450d8": {
          "model_module": "@jupyter-widgets/controls",
          "model_name": "FloatProgressModel",
          "model_module_version": "1.5.0",
          "state": {
            "_dom_classes": [],
            "_model_module": "@jupyter-widgets/controls",
            "_model_module_version": "1.5.0",
            "_model_name": "FloatProgressModel",
            "_view_count": null,
            "_view_module": "@jupyter-widgets/controls",
            "_view_module_version": "1.5.0",
            "_view_name": "ProgressView",
            "bar_style": "success",
            "description": "",
            "description_tooltip": null,
            "layout": "IPY_MODEL_d12d1d32cc25401cb644b38dd0ff97ae",
            "max": 1400,
            "min": 0,
            "orientation": "horizontal",
            "style": "IPY_MODEL_480c844ed22d41888b294f272b644652",
            "value": 1400
          }
        },
        "5184333bf97e4cac83c8ef7b44569247": {
          "model_module": "@jupyter-widgets/controls",
          "model_name": "HTMLModel",
          "model_module_version": "1.5.0",
          "state": {
            "_dom_classes": [],
            "_model_module": "@jupyter-widgets/controls",
            "_model_module_version": "1.5.0",
            "_model_name": "HTMLModel",
            "_view_count": null,
            "_view_module": "@jupyter-widgets/controls",
            "_view_module_version": "1.5.0",
            "_view_name": "HTMLView",
            "description": "",
            "description_tooltip": null,
            "layout": "IPY_MODEL_a4a75096d80c4fb7b2d8a4004a0ab7c8",
            "placeholder": "​",
            "style": "IPY_MODEL_4f5167eea06145059aa17c341e277577",
            "value": " 1400/1400 [00:00&lt;00:00, 2181.97it/s]"
          }
        },
        "59bf7e072e9044caa7f1cec0f5e71df4": {
          "model_module": "@jupyter-widgets/base",
          "model_name": "LayoutModel",
          "model_module_version": "1.2.0",
          "state": {
            "_model_module": "@jupyter-widgets/base",
            "_model_module_version": "1.2.0",
            "_model_name": "LayoutModel",
            "_view_count": null,
            "_view_module": "@jupyter-widgets/base",
            "_view_module_version": "1.2.0",
            "_view_name": "LayoutView",
            "align_content": null,
            "align_items": null,
            "align_self": null,
            "border": null,
            "bottom": null,
            "display": null,
            "flex": null,
            "flex_flow": null,
            "grid_area": null,
            "grid_auto_columns": null,
            "grid_auto_flow": null,
            "grid_auto_rows": null,
            "grid_column": null,
            "grid_gap": null,
            "grid_row": null,
            "grid_template_areas": null,
            "grid_template_columns": null,
            "grid_template_rows": null,
            "height": null,
            "justify_content": null,
            "justify_items": null,
            "left": null,
            "margin": null,
            "max_height": null,
            "max_width": null,
            "min_height": null,
            "min_width": null,
            "object_fit": null,
            "object_position": null,
            "order": null,
            "overflow": null,
            "overflow_x": null,
            "overflow_y": null,
            "padding": null,
            "right": null,
            "top": null,
            "visibility": null,
            "width": null
          }
        },
        "a5d507d90bce4e4c9b2cf716c78d00a6": {
          "model_module": "@jupyter-widgets/base",
          "model_name": "LayoutModel",
          "model_module_version": "1.2.0",
          "state": {
            "_model_module": "@jupyter-widgets/base",
            "_model_module_version": "1.2.0",
            "_model_name": "LayoutModel",
            "_view_count": null,
            "_view_module": "@jupyter-widgets/base",
            "_view_module_version": "1.2.0",
            "_view_name": "LayoutView",
            "align_content": null,
            "align_items": null,
            "align_self": null,
            "border": null,
            "bottom": null,
            "display": null,
            "flex": null,
            "flex_flow": null,
            "grid_area": null,
            "grid_auto_columns": null,
            "grid_auto_flow": null,
            "grid_auto_rows": null,
            "grid_column": null,
            "grid_gap": null,
            "grid_row": null,
            "grid_template_areas": null,
            "grid_template_columns": null,
            "grid_template_rows": null,
            "height": null,
            "justify_content": null,
            "justify_items": null,
            "left": null,
            "margin": null,
            "max_height": null,
            "max_width": null,
            "min_height": null,
            "min_width": null,
            "object_fit": null,
            "object_position": null,
            "order": null,
            "overflow": null,
            "overflow_x": null,
            "overflow_y": null,
            "padding": null,
            "right": null,
            "top": null,
            "visibility": null,
            "width": null
          }
        },
        "b1a9500dabff4df79d105acbee7a6753": {
          "model_module": "@jupyter-widgets/controls",
          "model_name": "DescriptionStyleModel",
          "model_module_version": "1.5.0",
          "state": {
            "_model_module": "@jupyter-widgets/controls",
            "_model_module_version": "1.5.0",
            "_model_name": "DescriptionStyleModel",
            "_view_count": null,
            "_view_module": "@jupyter-widgets/base",
            "_view_module_version": "1.2.0",
            "_view_name": "StyleView",
            "description_width": ""
          }
        },
        "d12d1d32cc25401cb644b38dd0ff97ae": {
          "model_module": "@jupyter-widgets/base",
          "model_name": "LayoutModel",
          "model_module_version": "1.2.0",
          "state": {
            "_model_module": "@jupyter-widgets/base",
            "_model_module_version": "1.2.0",
            "_model_name": "LayoutModel",
            "_view_count": null,
            "_view_module": "@jupyter-widgets/base",
            "_view_module_version": "1.2.0",
            "_view_name": "LayoutView",
            "align_content": null,
            "align_items": null,
            "align_self": null,
            "border": null,
            "bottom": null,
            "display": null,
            "flex": null,
            "flex_flow": null,
            "grid_area": null,
            "grid_auto_columns": null,
            "grid_auto_flow": null,
            "grid_auto_rows": null,
            "grid_column": null,
            "grid_gap": null,
            "grid_row": null,
            "grid_template_areas": null,
            "grid_template_columns": null,
            "grid_template_rows": null,
            "height": null,
            "justify_content": null,
            "justify_items": null,
            "left": null,
            "margin": null,
            "max_height": null,
            "max_width": null,
            "min_height": null,
            "min_width": null,
            "object_fit": null,
            "object_position": null,
            "order": null,
            "overflow": null,
            "overflow_x": null,
            "overflow_y": null,
            "padding": null,
            "right": null,
            "top": null,
            "visibility": null,
            "width": null
          }
        },
        "480c844ed22d41888b294f272b644652": {
          "model_module": "@jupyter-widgets/controls",
          "model_name": "ProgressStyleModel",
          "model_module_version": "1.5.0",
          "state": {
            "_model_module": "@jupyter-widgets/controls",
            "_model_module_version": "1.5.0",
            "_model_name": "ProgressStyleModel",
            "_view_count": null,
            "_view_module": "@jupyter-widgets/base",
            "_view_module_version": "1.2.0",
            "_view_name": "StyleView",
            "bar_color": null,
            "description_width": ""
          }
        },
        "a4a75096d80c4fb7b2d8a4004a0ab7c8": {
          "model_module": "@jupyter-widgets/base",
          "model_name": "LayoutModel",
          "model_module_version": "1.2.0",
          "state": {
            "_model_module": "@jupyter-widgets/base",
            "_model_module_version": "1.2.0",
            "_model_name": "LayoutModel",
            "_view_count": null,
            "_view_module": "@jupyter-widgets/base",
            "_view_module_version": "1.2.0",
            "_view_name": "LayoutView",
            "align_content": null,
            "align_items": null,
            "align_self": null,
            "border": null,
            "bottom": null,
            "display": null,
            "flex": null,
            "flex_flow": null,
            "grid_area": null,
            "grid_auto_columns": null,
            "grid_auto_flow": null,
            "grid_auto_rows": null,
            "grid_column": null,
            "grid_gap": null,
            "grid_row": null,
            "grid_template_areas": null,
            "grid_template_columns": null,
            "grid_template_rows": null,
            "height": null,
            "justify_content": null,
            "justify_items": null,
            "left": null,
            "margin": null,
            "max_height": null,
            "max_width": null,
            "min_height": null,
            "min_width": null,
            "object_fit": null,
            "object_position": null,
            "order": null,
            "overflow": null,
            "overflow_x": null,
            "overflow_y": null,
            "padding": null,
            "right": null,
            "top": null,
            "visibility": null,
            "width": null
          }
        },
        "4f5167eea06145059aa17c341e277577": {
          "model_module": "@jupyter-widgets/controls",
          "model_name": "DescriptionStyleModel",
          "model_module_version": "1.5.0",
          "state": {
            "_model_module": "@jupyter-widgets/controls",
            "_model_module_version": "1.5.0",
            "_model_name": "DescriptionStyleModel",
            "_view_count": null,
            "_view_module": "@jupyter-widgets/base",
            "_view_module_version": "1.2.0",
            "_view_name": "StyleView",
            "description_width": ""
          }
        },
        "3f060ba484a541809e8620491ba3609a": {
          "model_module": "@jupyter-widgets/controls",
          "model_name": "HBoxModel",
          "model_module_version": "1.5.0",
          "state": {
            "_dom_classes": [],
            "_model_module": "@jupyter-widgets/controls",
            "_model_module_version": "1.5.0",
            "_model_name": "HBoxModel",
            "_view_count": null,
            "_view_module": "@jupyter-widgets/controls",
            "_view_module_version": "1.5.0",
            "_view_name": "HBoxView",
            "box_style": "",
            "children": [
              "IPY_MODEL_35100a4a97ef4557b4745542f6d1b894",
              "IPY_MODEL_1c6ef7228b6240e39550b279abadc912",
              "IPY_MODEL_e2a74e2b430e4ecdadcee280c725e7e2"
            ],
            "layout": "IPY_MODEL_28d97a3602864a97a41bcbf60b34601c"
          }
        },
        "35100a4a97ef4557b4745542f6d1b894": {
          "model_module": "@jupyter-widgets/controls",
          "model_name": "HTMLModel",
          "model_module_version": "1.5.0",
          "state": {
            "_dom_classes": [],
            "_model_module": "@jupyter-widgets/controls",
            "_model_module_version": "1.5.0",
            "_model_name": "HTMLModel",
            "_view_count": null,
            "_view_module": "@jupyter-widgets/controls",
            "_view_module_version": "1.5.0",
            "_view_name": "HTMLView",
            "description": "",
            "description_tooltip": null,
            "layout": "IPY_MODEL_618ea5a9630f47749488d01a17f6e249",
            "placeholder": "​",
            "style": "IPY_MODEL_b0d957a2361d46ea98bfc6bbc9bb5eb0",
            "value": "clinicaltrials/2017/trec-pm-2017 documents: 100%"
          }
        },
        "1c6ef7228b6240e39550b279abadc912": {
          "model_module": "@jupyter-widgets/controls",
          "model_name": "FloatProgressModel",
          "model_module_version": "1.5.0",
          "state": {
            "_dom_classes": [],
            "_model_module": "@jupyter-widgets/controls",
            "_model_module_version": "1.5.0",
            "_model_name": "FloatProgressModel",
            "_view_count": null,
            "_view_module": "@jupyter-widgets/controls",
            "_view_module_version": "1.5.0",
            "_view_name": "ProgressView",
            "bar_style": "success",
            "description": "",
            "description_tooltip": null,
            "layout": "IPY_MODEL_c3dac57a3f6a466b870c9a6090d4951a",
            "max": 241006,
            "min": 0,
            "orientation": "horizontal",
            "style": "IPY_MODEL_8f94bca9d5244de3b0ae61c1b47887bd",
            "value": 241006
          }
        },
        "e2a74e2b430e4ecdadcee280c725e7e2": {
          "model_module": "@jupyter-widgets/controls",
          "model_name": "HTMLModel",
          "model_module_version": "1.5.0",
          "state": {
            "_dom_classes": [],
            "_model_module": "@jupyter-widgets/controls",
            "_model_module_version": "1.5.0",
            "_model_name": "HTMLModel",
            "_view_count": null,
            "_view_module": "@jupyter-widgets/controls",
            "_view_module_version": "1.5.0",
            "_view_name": "HTMLView",
            "description": "",
            "description_tooltip": null,
            "layout": "IPY_MODEL_2e0877512f574d7ea042cb16aab977a8",
            "placeholder": "​",
            "style": "IPY_MODEL_c8c1189a20764bd39117ac74632e957f",
            "value": " 241006/241006 [01:26&lt;00:00, 2983.28it/s]"
          }
        },
        "28d97a3602864a97a41bcbf60b34601c": {
          "model_module": "@jupyter-widgets/base",
          "model_name": "LayoutModel",
          "model_module_version": "1.2.0",
          "state": {
            "_model_module": "@jupyter-widgets/base",
            "_model_module_version": "1.2.0",
            "_model_name": "LayoutModel",
            "_view_count": null,
            "_view_module": "@jupyter-widgets/base",
            "_view_module_version": "1.2.0",
            "_view_name": "LayoutView",
            "align_content": null,
            "align_items": null,
            "align_self": null,
            "border": null,
            "bottom": null,
            "display": null,
            "flex": null,
            "flex_flow": null,
            "grid_area": null,
            "grid_auto_columns": null,
            "grid_auto_flow": null,
            "grid_auto_rows": null,
            "grid_column": null,
            "grid_gap": null,
            "grid_row": null,
            "grid_template_areas": null,
            "grid_template_columns": null,
            "grid_template_rows": null,
            "height": null,
            "justify_content": null,
            "justify_items": null,
            "left": null,
            "margin": null,
            "max_height": null,
            "max_width": null,
            "min_height": null,
            "min_width": null,
            "object_fit": null,
            "object_position": null,
            "order": null,
            "overflow": null,
            "overflow_x": null,
            "overflow_y": null,
            "padding": null,
            "right": null,
            "top": null,
            "visibility": null,
            "width": null
          }
        },
        "618ea5a9630f47749488d01a17f6e249": {
          "model_module": "@jupyter-widgets/base",
          "model_name": "LayoutModel",
          "model_module_version": "1.2.0",
          "state": {
            "_model_module": "@jupyter-widgets/base",
            "_model_module_version": "1.2.0",
            "_model_name": "LayoutModel",
            "_view_count": null,
            "_view_module": "@jupyter-widgets/base",
            "_view_module_version": "1.2.0",
            "_view_name": "LayoutView",
            "align_content": null,
            "align_items": null,
            "align_self": null,
            "border": null,
            "bottom": null,
            "display": null,
            "flex": null,
            "flex_flow": null,
            "grid_area": null,
            "grid_auto_columns": null,
            "grid_auto_flow": null,
            "grid_auto_rows": null,
            "grid_column": null,
            "grid_gap": null,
            "grid_row": null,
            "grid_template_areas": null,
            "grid_template_columns": null,
            "grid_template_rows": null,
            "height": null,
            "justify_content": null,
            "justify_items": null,
            "left": null,
            "margin": null,
            "max_height": null,
            "max_width": null,
            "min_height": null,
            "min_width": null,
            "object_fit": null,
            "object_position": null,
            "order": null,
            "overflow": null,
            "overflow_x": null,
            "overflow_y": null,
            "padding": null,
            "right": null,
            "top": null,
            "visibility": null,
            "width": null
          }
        },
        "b0d957a2361d46ea98bfc6bbc9bb5eb0": {
          "model_module": "@jupyter-widgets/controls",
          "model_name": "DescriptionStyleModel",
          "model_module_version": "1.5.0",
          "state": {
            "_model_module": "@jupyter-widgets/controls",
            "_model_module_version": "1.5.0",
            "_model_name": "DescriptionStyleModel",
            "_view_count": null,
            "_view_module": "@jupyter-widgets/base",
            "_view_module_version": "1.2.0",
            "_view_name": "StyleView",
            "description_width": ""
          }
        },
        "c3dac57a3f6a466b870c9a6090d4951a": {
          "model_module": "@jupyter-widgets/base",
          "model_name": "LayoutModel",
          "model_module_version": "1.2.0",
          "state": {
            "_model_module": "@jupyter-widgets/base",
            "_model_module_version": "1.2.0",
            "_model_name": "LayoutModel",
            "_view_count": null,
            "_view_module": "@jupyter-widgets/base",
            "_view_module_version": "1.2.0",
            "_view_name": "LayoutView",
            "align_content": null,
            "align_items": null,
            "align_self": null,
            "border": null,
            "bottom": null,
            "display": null,
            "flex": null,
            "flex_flow": null,
            "grid_area": null,
            "grid_auto_columns": null,
            "grid_auto_flow": null,
            "grid_auto_rows": null,
            "grid_column": null,
            "grid_gap": null,
            "grid_row": null,
            "grid_template_areas": null,
            "grid_template_columns": null,
            "grid_template_rows": null,
            "height": null,
            "justify_content": null,
            "justify_items": null,
            "left": null,
            "margin": null,
            "max_height": null,
            "max_width": null,
            "min_height": null,
            "min_width": null,
            "object_fit": null,
            "object_position": null,
            "order": null,
            "overflow": null,
            "overflow_x": null,
            "overflow_y": null,
            "padding": null,
            "right": null,
            "top": null,
            "visibility": null,
            "width": null
          }
        },
        "8f94bca9d5244de3b0ae61c1b47887bd": {
          "model_module": "@jupyter-widgets/controls",
          "model_name": "ProgressStyleModel",
          "model_module_version": "1.5.0",
          "state": {
            "_model_module": "@jupyter-widgets/controls",
            "_model_module_version": "1.5.0",
            "_model_name": "ProgressStyleModel",
            "_view_count": null,
            "_view_module": "@jupyter-widgets/base",
            "_view_module_version": "1.2.0",
            "_view_name": "StyleView",
            "bar_color": null,
            "description_width": ""
          }
        },
        "2e0877512f574d7ea042cb16aab977a8": {
          "model_module": "@jupyter-widgets/base",
          "model_name": "LayoutModel",
          "model_module_version": "1.2.0",
          "state": {
            "_model_module": "@jupyter-widgets/base",
            "_model_module_version": "1.2.0",
            "_model_name": "LayoutModel",
            "_view_count": null,
            "_view_module": "@jupyter-widgets/base",
            "_view_module_version": "1.2.0",
            "_view_name": "LayoutView",
            "align_content": null,
            "align_items": null,
            "align_self": null,
            "border": null,
            "bottom": null,
            "display": null,
            "flex": null,
            "flex_flow": null,
            "grid_area": null,
            "grid_auto_columns": null,
            "grid_auto_flow": null,
            "grid_auto_rows": null,
            "grid_column": null,
            "grid_gap": null,
            "grid_row": null,
            "grid_template_areas": null,
            "grid_template_columns": null,
            "grid_template_rows": null,
            "height": null,
            "justify_content": null,
            "justify_items": null,
            "left": null,
            "margin": null,
            "max_height": null,
            "max_width": null,
            "min_height": null,
            "min_width": null,
            "object_fit": null,
            "object_position": null,
            "order": null,
            "overflow": null,
            "overflow_x": null,
            "overflow_y": null,
            "padding": null,
            "right": null,
            "top": null,
            "visibility": null,
            "width": null
          }
        },
        "c8c1189a20764bd39117ac74632e957f": {
          "model_module": "@jupyter-widgets/controls",
          "model_name": "DescriptionStyleModel",
          "model_module_version": "1.5.0",
          "state": {
            "_model_module": "@jupyter-widgets/controls",
            "_model_module_version": "1.5.0",
            "_model_name": "DescriptionStyleModel",
            "_view_count": null,
            "_view_module": "@jupyter-widgets/base",
            "_view_module_version": "1.2.0",
            "_view_name": "StyleView",
            "description_width": ""
          }
        }
      }
    }
  },
  "nbformat": 4,
  "nbformat_minor": 0
}